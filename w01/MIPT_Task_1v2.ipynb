{
 "cells": [
  {
   "cell_type": "markdown",
   "metadata": {
    "colab_type": "text",
    "id": "0MZwZFxF8HJO"
   },
   "source": [
    "http://cs.mipt.ru/advanced_python/lessons/lab1.html"
   ]
  },
  {
   "cell_type": "markdown",
   "metadata": {
    "colab_type": "text",
    "id": "-9Wff7OX89me"
   },
   "source": [
    "\n",
    "Задача 1\n",
    "\n",
    "Написать программу поиска максимума, минимума, среднего значения и среднеквадратичного отклонения в последовательности. Числа задаются построчно. Окончание последовательности — слово End.\n"
   ]
  },
  {
   "cell_type": "code",
   "execution_count": 16,
   "metadata": {
    "colab": {
     "base_uri": "https://localhost:8080/",
     "height": 181
    },
    "colab_type": "code",
    "id": "KoENdryF8tKO",
    "outputId": "13432357-d890-4d24-8866-6e7c55a8a9e6",
    "tags": []
   },
   "outputs": [
    {
     "name": "stdout",
     "output_type": "stream",
     "text": [
      "1\n",
      "2\n",
      "3\n",
      "4\n",
      "End\n",
      "Max:  4 \n",
      " Min:  1 \n",
      " Avg:  2.5 \n",
      " StDev:  1.118033988749895\n"
     ]
    }
   ],
   "source": [
    "import statistics as stat\n",
    "import math\n",
    "main = []\n",
    "\n",
    "# Input\n",
    "inp = int(input())\n",
    "while inp != \"End\":\n",
    "    main.append(int(inp))\n",
    "    inp = input()\n",
    "\n",
    "# Main program\n",
    "mx = max(main)\n",
    "mn = min(main)\n",
    "avg = stat.mean(main) # функция mean из библиотеки stat\n",
    "stdev = stat.pstdev(main)\n",
    "\n",
    "print(\"Max: \", mx, \"\\n\", \"Min: \", mn, \"\\n\", \"Avg: \", avg, \"\\n\", \"StDev: \", stdev)"
   ]
  },
  {
   "cell_type": "markdown",
   "metadata": {
    "colab_type": "text",
    "id": "Ka8QVkE-9z27"
   },
   "source": [
    "\n",
    "Задача 2\n",
    "\n",
    "Написать сортировку массива известными вам методами.\n"
   ]
  },
  {
   "cell_type": "code",
   "execution_count": 17,
   "metadata": {
    "colab": {
     "base_uri": "https://localhost:8080/",
     "height": 1000
    },
    "colab_type": "code",
    "id": "YnBdbQOI90RY",
    "outputId": "73078943-61c6-426a-bf96-2b6e9834862c"
   },
   "outputs": [
    {
     "data": {
      "image/png": "[encoded data removed]",
      "text/plain": [
       "<Figure size 432x288 with 1 Axes>"
      ]
     },
     "metadata": {
      "needs_background": "light"
     },
     "output_type": "display_data"
    }
   ],
   "source": [
    "import numpy as np\n",
    "import matplotlib\n",
    "import matplotlib.pyplot as plt\n",
    "import math\n",
    "import time\n",
    "import random\n",
    "\n",
    "size = 90\n",
    "# start = time.time()  # начало замера\n",
    "# end = time.time()  # конец замера\n",
    "# print(end-start)\n",
    "\n",
    "def insertion(data):\n",
    "\tfor i in range(len(data)):\n",
    "\t\tj = i - 1\n",
    "\t\tkey = data[i]\n",
    "\t\twhile data[j] > key and j >= 0:\n",
    "\t\t\tdata[j + 1] = data[j]\n",
    "\t\t\tj -= 1\n",
    "\t\tdata[j + 1] = key\n",
    "\n",
    "def somesort(a):\n",
    "\tfor j in range(1, len(a)):\n",
    "\t\tfor i in range(j, -1, -1):\n",
    "\t\t\tif i != 0:\n",
    "\t\t\t\tif a[i] < a[i-1]:\n",
    "\t\t\t\t\ta[i],a[i-1] = a[i-1],a[i]\n",
    "\n",
    "def heapify(arr, n, i):\n",
    "    largest = i # Initialize largest as root\n",
    "    l = 2 * i + 1     # left = 2*i + 1\n",
    "    r = 2 * i + 2     # right = 2*i + 2\n",
    "\n",
    "    # See if left child of root exists and is\n",
    "    # greater than root\n",
    "    if l < n and arr[i] < arr[l]:\n",
    "        largest = l\n",
    "\n",
    "    # See if right child of root exists and is\n",
    "    # greater than root\n",
    "    if r < n and arr[largest] < arr[r]:\n",
    "        largest = r\n",
    "\n",
    "    # Change root, if needed\n",
    "    if largest != i:\n",
    "        arr[i],arr[largest] = arr[largest],arr[i] # swap\n",
    "\n",
    "        # Heapify the root.\n",
    "        heapify(arr, n, largest)\n",
    "\n",
    "# The main function to sort an array of given size\n",
    "def heapSort(arr):\n",
    "    n = len(arr)\n",
    "\n",
    "    # Build a maxheap.\n",
    "    for i in range(n, -1, -1):\n",
    "        heapify(arr, n, i)\n",
    "\n",
    "    # One by one extract elements\n",
    "    for i in range(n-1, 0, -1):\n",
    "        arr[i], arr[0] = arr[0], arr[i] # swap\n",
    "        heapify(arr, i, 0)\n",
    "\n",
    "\n",
    "\n",
    "kolmas = 10\n",
    "arr = []\n",
    "arrlen = []\n",
    "while kolmas != 0:\n",
    "    kolmas -= 1\n",
    "    temp = list(np.random.randint(-50, 50, size * (1 + kolmas)))\n",
    "    arr.insert(0, temp)\n",
    "    arrlen.insert(0, len(temp))\n",
    "\n",
    "\n",
    "# x = np.arange(-50, 50)  # x - массив np.array\n",
    "x = arrlen.copy()\n",
    "y1 = []\n",
    "for i in range(10):\n",
    "    start = time.time()\n",
    "    arr[i].sort()\n",
    "    end = time.time()\n",
    "    tm = end-start\n",
    "    y1.append(tm)\n",
    "\n",
    "kolmas = 10\n",
    "arr = []\n",
    "arrlen = []\n",
    "while kolmas != 0:\n",
    "    kolmas -= 1\n",
    "    temp = list(np.random.randint(-50, 50, size * (1 + kolmas)))\n",
    "    arr.insert(0, temp)\n",
    "    arrlen.insert(0, len(temp))\n",
    "\n",
    "y2 = []\n",
    "for i in range(10):\n",
    "    start = time.time()\n",
    "    insertion(arr[i])\n",
    "    end = time.time()\n",
    "    tm = end-start\n",
    "    y2.append(tm)\n",
    "\n",
    "\n",
    "kolmas = 10\n",
    "arr = []\n",
    "arrlen = []\n",
    "while kolmas != 0:\n",
    "    kolmas -= 1\n",
    "    temp = list(np.random.randint(-50, 50, size * (1 + kolmas)))\n",
    "    arr.insert(0, temp)\n",
    "    arrlen.insert(0, len(temp))\n",
    "\n",
    "y3 = []\n",
    "for i in range(10):\n",
    "    start = time.time()\n",
    "    heapSort(arr[i])\n",
    "    end = time.time()\n",
    "    tm = end-start\n",
    "    y3.append(tm)\n",
    "\n",
    "kolmas = 10\n",
    "arr = []\n",
    "arrlen = []\n",
    "while kolmas != 0:\n",
    "    kolmas -= 1\n",
    "    temp = list(np.random.randint(-50, 50, size * (1 + kolmas)))\n",
    "    arr.insert(0, temp)\n",
    "    arrlen.insert(0, len(temp))\n",
    "\n",
    "y4 = []\n",
    "for i in range(10):\n",
    "    start = time.time()\n",
    "    somesort(arr[i])\n",
    "    end = time.time()\n",
    "    tm = end-start\n",
    "    y4.append(tm)\n",
    "\n",
    "fig, ax = plt.subplots()\n",
    "fig.canvas.set_window_title(\"Графики функций\")\n",
    "\n",
    "# Настройки диаграммы и осей\n",
    "ax.set_title(\"Асимптотики алгоритмов\")\n",
    "ax.set_xlabel(\"Размер массива\")\n",
    "ax.set_ylabel(\"Время работы алгоритма\")\n",
    "ax.grid(False)\n",
    "\n",
    "# 2 графика\n",
    "ax.plot(x, y1, 'r', linewidth=3, label=\"Встроенная сортировка\")\n",
    "ax.plot(x, y2, label=\"Сортировка вставками\")\n",
    "ax.plot(x, y3, 'b', label=\"Сортировка кучей\")\n",
    "ax.plot(x, y4, 'g', label=\"Сортировка дурака\")\n",
    "\n",
    "# Аннотации и текст\n",
    "# ax.annotate(r\"Экстремум функции = $\\frac{-b}{2a} = \\frac{-4}{2} = -2$\",\n",
    "#             xy=(-2, 9), xytext=(-4.8, 15.5),\n",
    "#             arrowprops=dict(facecolor=\"black\", shrink=0.05))\n",
    "# ax.text(-7, 24.5, \"На диаграмме 2 графика:\\nпарабола и линия экстремума\")\n",
    "\n",
    "# Легенда\n",
    "ax.legend()\n",
    "plt.show()"
   ]
  },
  {
   "cell_type": "markdown",
   "metadata": {
    "colab_type": "text",
    "id": "NGIv4PPY93PL"
   },
   "source": [
    "\n",
    "Задача 3\n",
    "\n",
    "Написать в одну строчку обращение словаря.\n"
   ]
  },
  {
   "cell_type": "code",
   "execution_count": 9,
   "metadata": {
    "colab": {
     "base_uri": "https://localhost:8080/",
     "height": 35
    },
    "colab_type": "code",
    "id": "fCIvTfvm93ts",
    "outputId": "6de8e1eb-23cb-4cc9-99d1-785bf528717e"
   },
   "outputs": [
    {
     "data": {
      "text/plain": [
       "{'One': 1, 'Three': 3, 'Two': 2}"
      ]
     },
     "execution_count": 9,
     "metadata": {
      "tags": []
     },
     "output_type": "execute_result"
    }
   ],
   "source": [
    "dic = {1: \"One\", 2: \"Two\", 3: \"Three\"}\n",
    "inv_dic = {v: k for k, v in dic.items()}\n",
    "inv_dic"
   ]
  },
  {
   "cell_type": "markdown",
   "metadata": {
    "colab_type": "text",
    "id": "jHyRmISb95C9"
   },
   "source": [
    "\n",
    "Задача 4\n",
    "\n",
    "Создать список чисел меньших 2500, оканчивающихся на 1 и являющихся квадратами целых чисел.\n"
   ]
  },
  {
   "cell_type": "code",
   "execution_count": 18,
   "metadata": {
    "colab": {
     "base_uri": "https://localhost:8080/",
     "height": 35
    },
    "colab_type": "code",
    "id": "prqTQkYJ95iQ",
    "outputId": "d5110490-75e2-401b-e55c-a07646f88d18"
   },
   "outputs": [
    {
     "data": {
      "text/plain": [
       "[1, 121, 441, 961, 1681]"
      ]
     },
     "execution_count": 18,
     "metadata": {},
     "output_type": "execute_result"
    }
   ],
   "source": [
    "a = [i**2 for i in range(50) if (i - 1) % 10 == 0]\n",
    "a"
   ]
  },
  {
   "cell_type": "code",
   "execution_count": 20,
   "metadata": {},
   "outputs": [
    {
     "data": {
      "text/plain": [
       "[1, 121, 441, 961, 1681]"
      ]
     },
     "execution_count": 20,
     "metadata": {},
     "output_type": "execute_result"
    }
   ],
   "source": [
    "a = [i**2 for i in range(2500) if (i - 1) % 10 == 0 if i**2 < 2500]\n",
    "a"
   ]
  },
  {
   "cell_type": "markdown",
   "metadata": {},
   "source": [
    "Extra 1\n",
    "Принять на вход массив и проссумироваитть попарно все эдементы i и len(A)-i"
   ]
  },
  {
   "cell_type": "code",
   "execution_count": 99,
   "metadata": {},
   "outputs": [
    {
     "name": "stdout",
     "output_type": "stream",
     "text": [
      "6\n",
      "8\n",
      "[3]\n",
      "[6, 8, 3]\n"
     ]
    }
   ],
   "source": [
    "a = [1, 2, 3, 4, 5]\n",
    "c = []\n",
    "\n",
    "for i, ie in enumerate(a):\n",
    "    print(ie + a[-i-1])\n",
    "    c.append(ie + a[-i-1])\n",
    "    del a[i]\n",
    "    del a[-i]\n",
    "print(a)\n",
    "c = c + a\n",
    "print(c)"
   ]
  },
  {
   "cell_type": "markdown",
   "metadata": {},
   "source": [
    "Extra2 Принять на вход множество A и B. Найти их пересеченни, симметричную разность и обьъединение"
   ]
  },
  {
   "cell_type": "code",
   "execution_count": 81,
   "metadata": {},
   "outputs": [
    {
     "name": "stdout",
     "output_type": "stream",
     "text": [
      "{1, 2, 6, 7}\n",
      "{1, 2, 3, 4, 5, 6, 7}\n",
      "{3, 4, 5}\n"
     ]
    }
   ],
   "source": [
    "a = {1, 2, 3, 4, 5}\n",
    "a1 = a.copy()\n",
    "b = {3, 4, 5, 6, 7}\n",
    "a1.symmetric_difference_update(b)\n",
    "print(a1)\n",
    "all = set(list(a) + list(b))\n",
    "print(all)\n",
    "a_l = list(a)\n",
    "# print(a_l)\n",
    "out = []\n",
    "for i in list(a):\n",
    "    if i in b:\n",
    "        out.append(i)\n",
    "print(set(out))"
   ]
  },
  {
   "cell_type": "markdown",
   "metadata": {},
   "source": [
    "#### Extra 3 Напишите функцию, которая принимает обязательным параметр a опциональным параметры b и с. Вызовите её тремя способами:\n"
   ]
  },
  {
   "cell_type": "code",
   "execution_count": 100,
   "metadata": {},
   "outputs": [
    {
     "name": "stdout",
     "output_type": "stream",
     "text": [
      "Event Event2\n"
     ]
    }
   ],
   "source": [
    "def func(temp = \"dfdf\", temp2 = \"gfgfgfg\"):\n",
    "    print(str(temp), str(temp2))\n",
    "func(**{'temp':'Event', 'temp2':'Event2'})"
   ]
  }
 ],
 "metadata": {
  "colab": {
   "collapsed_sections": [],
   "name": "temp",
   "provenance": []
  },
  "kernelspec": {
   "display_name": "Python 3",
   "language": "python",
   "name": "python3"
  },
  "language_info": {
   "codemirror_mode": {
    "name": "ipython",
    "version": 3
   },
   "file_extension": ".py",
   "mimetype": "text/x-python",
   "name": "python",
   "nbconvert_exporter": "python",
   "pygments_lexer": "ipython3",
   "version": "3.8.5"
  }
 },
 "nbformat": 4,
 "nbformat_minor": 1
}
