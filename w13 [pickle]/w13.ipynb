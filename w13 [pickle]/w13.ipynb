{
 "cells": [
  {
   "cell_type": "markdown",
   "metadata": {},
   "source": [
    "# Week 13 -- pickle\n",
    "\n",
    "- [**`json`**](https://docs.python.org/3/library/json.html#module-json)\n",
    "- [**`pickle`**](https://docs.python.org/3/library/pickle.html)\n",
    "\n",
    "## serialization\n",
    "1. В файле `class_to_serialize.py` допишите функции, которые будут преобразовывать класс в JSON и обратно."
   ]
  },
  {
   "cell_type": "code",
   "execution_count": 1,
   "metadata": {},
   "outputs": [
    {
     "data": {
      "text/plain": [
       "TestResults(failed=0, attempted=6)"
      ]
     },
     "execution_count": 1,
     "metadata": {},
     "output_type": "execute_result"
    }
   ],
   "source": [
    "# %load class_to_serialize.py\n",
    "import doctest\n",
    "\n",
    "\n",
    "class MyClass:\n",
    "    def __init__(self, name, surname, is_hired):\n",
    "        self.name = name\n",
    "        self.surname = surname\n",
    "        self.is_hired = is_hired\n",
    "\n",
    "\n",
    "def obj_to_json(my_class_instance):\n",
    "    \"\"\"\n",
    "    Получает на вход объект класса MyClass,\n",
    "    выдает на выходе JSON-представление.\n",
    "\n",
    "    >>> a = MyClass('me', 'my_surname', True)\n",
    "    >>> obj_to_json(a)\n",
    "    '{\"name\": \"me\", \"surname\": \"my_surname\", \"is_hired\": true}'\n",
    "    \"\"\"\n",
    "    # NOTE: используйте obj.__dict__, не пишите явно все поля класса\n",
    "    \n",
    "    return json.dumps(my_class_instance.__dict__)\n",
    "\n",
    "\n",
    "def json_to_obj(my_class_instance):\n",
    "    \"\"\"\n",
    "    Получает на вход JSON-представление,\n",
    "    выдает на выходе объект класса MyClass.\n",
    "\n",
    "    >>> a = MyClass('me', 'my_surname', True)\n",
    "    >>> json_dict = obj_to_json(a)\n",
    "    >>> b = json_to_obj(json_dict)\n",
    "    >>> print(b.__dict__)\n",
    "    {'name': 'me', 'surname': 'my_surname', 'is_hired': True}\n",
    "    \"\"\"\n",
    "    # NOTE: можно использовать kwargs: MyClass(**some_dict)\n",
    "    \n",
    "    #dictionary\n",
    "    obj_dict = json.loads(my_class_instance)\n",
    "    #object\n",
    "    obj = MyClass(**obj_dict)\n",
    "    return obj\n",
    "    \n",
    "\n",
    "doctest.testmod()  # thx for broken doctests"
   ]
  },
  {
   "cell_type": "markdown",
   "metadata": {},
   "source": [
    "## `pickle`\n",
    "\n",
    "#### [What can be pickled and unpickled?](https://docs.python.org/3/library/pickle.html#what-can-be-pickled-and-unpickled)\n",
    "\n",
    "The following types can be pickled:\n",
    "\n",
    "- `None`, `True`, and `False`\n",
    "- integers, floating point numbers, complex numbers\n",
    "- strings, bytes, bytearrays\n",
    "- tuples, lists, sets, and dictionaries containing only picklable objects\n",
    "- functions defined at the top level of a module (using `def`, not `lambda`)\n",
    "- built-in functions defined at the top level of a module\n",
    "- classes that are defined at the top level of a module\n",
    "- instances of such classes whose `__dict__` or the result of calling `__getstate__()` is picklable (see section Pickling Class Instances for details).\n",
    "\n",
    "---\n",
    "\n",
    "### 2. Попробуйте сериализовать следующие объекты:\n",
    "- I/O объекты (например, открытый файл - результат open());\n",
    " - **NO**\n",
    "- итераторы;\n",
    " - **YES**, not generators though - use [stackless](https://github.com/stackless-dev/stackless/wiki)"
   ]
  },
  {
   "cell_type": "code",
   "execution_count": 2,
   "metadata": {},
   "outputs": [
    {
     "name": "stdout",
     "output_type": "stream",
     "text": [
      "all good\n"
     ]
    }
   ],
   "source": [
    "import pickle\n",
    "\n",
    "\n",
    "def pickle_test(inp):\n",
    "    with open('temp.pickle', 'wb') as f:\n",
    "        pickle.dump(inp, f)\n",
    "        \n",
    "    with open('temp.pickle', 'rb') as f:\n",
    "        out = pickle.load(f)\n",
    "    \n",
    "    assert type(inp) == type(out)\n",
    "    \n",
    "    if hasattr(inp, '__iter__'):\n",
    "        assert [i for i in inp] == [j for j in out], 'no'\n",
    "    else:\n",
    "        assert inp == out, 'fuck no'\n",
    "    \n",
    "    print('all good')\n",
    "    return None\n",
    "\n",
    "\n",
    "data = iter([1, 2, 3, 4, 5])\n",
    "pickle_test(data)"
   ]
  },
  {
   "cell_type": "markdown",
   "metadata": {},
   "source": [
    "- встроенные функции (например, print или abs);\n",
    " - **YES**"
   ]
  },
  {
   "cell_type": "code",
   "execution_count": 3,
   "metadata": {},
   "outputs": [
    {
     "name": "stdout",
     "output_type": "stream",
     "text": [
      "all good\n"
     ]
    }
   ],
   "source": [
    "func = print\n",
    "pickle_test(func)"
   ]
  },
  {
   "cell_type": "markdown",
   "metadata": {},
   "source": [
    "- самописные функции и классы.\n",
    "Что из этого можно сериализовать?\n",
    "Можно ли с этими объектами после их десериализации взаимодействовать так, как это бы делалось до сериализации?\n",
    "Опишите результаты либо в комментариях к коду, либо в отдельном файле `list_of_serializables.md`\n",
    " - [read here](https://docs.python.org/3/library/pickle.html)"
   ]
  },
  {
   "cell_type": "markdown",
   "metadata": {},
   "source": [
    "---\n",
    "\n",
    "### 3\n",
    "Попробуйте написать программу с функций резервного копирования ее состояния. Пусть в вашей программе строится двоичное дерево поиска. Ваша программа принимает от пользователя команды:\n",
    "\n",
    "- add X - добавить элемент в дерево;\n",
    "- find X - найти элемент в дереве;\n",
    "- delete X - удалить элемент из дерева;\n",
    "- print - распечатать все элементы дерева в отсортированном порядке;\n",
    "- clear - очистить дерево;\n",
    "- dump - создать резервную копию дерева;\n",
    "- exit - завершить работу.\n",
    "\n",
    "Для файла с резервной копией дерева выберите одно конкретное название. Ваша программа при запуске должна пытаться восстановить состояние дерева из резервной копии, если она есть. Если это не возможно, то вы начинаете работу с пустым деревом. Напишите такую программу и убедитесь, что все работает корректно в разных случаях:\n",
    "\n",
    "- резервная копия отсутствует;\n",
    "- резервная копия присутствует;\n",
    "- файл резервной копии поврежден или некорректен.\n"
   ]
  },
  {
   "cell_type": "code",
   "execution_count": 6,
   "metadata": {},
   "outputs": [],
   "source": [
    "pass"
   ]
  },
  {
   "cell_type": "markdown",
   "metadata": {},
   "source": [
    "---\n",
    "\n",
    "### 4\n",
    "Вспомните упражнение 3 из девятой лабы.\n",
    "Добавьте поддержку сериализации и корректной десериализации класса `TextLoader` и его итератора.\n",
    "Однако учтите, что с момента создания объекта класса содержимое директории могло поменятся, и список файлов, хранимый в объекте, может быть не актуальным.\n",
    "_Тем самым при десериализации необходимо заного выполнять чтение списка файлов в директории_.\n",
    "Добавьте в класс методы `__getstate__` и `__setstate__` для корректной сериализации/десериализации его объектов."
   ]
  },
  {
   "cell_type": "code",
   "execution_count": 7,
   "metadata": {},
   "outputs": [],
   "source": [
    "pass"
   ]
  }
 ],
 "metadata": {
  "kernelspec": {
   "display_name": "Python 3",
   "language": "python",
   "name": "python3"
  },
  "language_info": {
   "codemirror_mode": {
    "name": "ipython",
    "version": 3
   },
   "file_extension": ".py",
   "mimetype": "text/x-python",
   "name": "python",
   "nbconvert_exporter": "python",
   "pygments_lexer": "ipython3",
   "version": "3.8.5"
  },
  "toc": {
   "base_numbering": 1,
   "nav_menu": {},
   "number_sections": false,
   "sideBar": true,
   "skip_h1_title": false,
   "title_cell": "Table of Contents",
   "title_sidebar": "Contents",
   "toc_cell": false,
   "toc_position": {},
   "toc_section_display": true,
   "toc_window_display": false
  }
 },
 "nbformat": 4,
 "nbformat_minor": 4
}
