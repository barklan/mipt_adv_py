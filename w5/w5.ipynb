{
 "cells": [
  {
   "cell_type": "code",
   "execution_count": 280,
   "metadata": {},
   "outputs": [],
   "source": [
    "from IPython.display import Image, SVG\n",
    "from importlib import reload"
   ]
  },
  {
   "cell_type": "code",
   "execution_count": 269,
   "metadata": {},
   "outputs": [],
   "source": [
    "with open('__init__.py', 'w') as init:\n",
    "    pass"
   ]
  },
  {
   "cell_type": "code",
   "execution_count": 270,
   "metadata": {},
   "outputs": [
    {
     "name": "stdout",
     "output_type": "stream",
     "text": [
      ".ipynb_checkpoints\n",
      "classes.task1x.svg\n",
      "classes.task2x.svg\n",
      "classes.temp2.svg\n",
      "task1x.py\n",
      "task2x.py\n",
      "temp2.py\n",
      "w5.ipynb\n",
      "__init__.py\n",
      "__pycache__\n"
     ]
    }
   ],
   "source": [
    "!dir /b"
   ]
  },
  {
   "cell_type": "markdown",
   "metadata": {},
   "source": [
    "# Polymorphism"
   ]
  },
  {
   "cell_type": "code",
   "execution_count": 173,
   "metadata": {},
   "outputs": [
    {
     "name": "stdout",
     "output_type": "stream",
     "text": [
      "Overwriting temp2.py\n"
     ]
    }
   ],
   "source": [
    "%%writefile temp2.py\n",
    "# coding=UTF-8\n",
    "\n",
    "\n",
    "class Publication:\n",
    "    __title = \"\"\n",
    "    __text = \"\"\n",
    "\n",
    "    def __init__(self, title, text):\n",
    "        self.__title = title\n",
    "        self.__text = text\n",
    "\n",
    "    def get_title(self):\n",
    "        return self.__title\n",
    "\n",
    "    def get_text(self):\n",
    "        return self.__text\n",
    "\n",
    "    def set_title(self, title):\n",
    "        self.__title = title\n",
    "\n",
    "    def set_text(self, text):\n",
    "        self.__text = text\n",
    "\n",
    "    def __str__(self):\n",
    "        return self.get_str()\n",
    "\n",
    "\n",
    "class News(Publication):\n",
    "    __publication_date = \"\"\n",
    "    __sources = []\n",
    "\n",
    "    def __init__(self, title, text, publication_date, sources):\n",
    "        super().__init__(title, text)\n",
    "        self.__publication_date = publication_date\n",
    "\n",
    "        self.set_sources(sources)\n",
    "\n",
    "    def set_publication_date(self, publication_date):\n",
    "        self.__publication_date = publication_date\n",
    "\n",
    "    def get_publication_date(self):\n",
    "        return self.__publication_date\n",
    "\n",
    "    def set_sources(self, sources):\n",
    "        if not isinstance(sources, list):\n",
    "            self.__sources = [sources]\n",
    "        else:\n",
    "            self.__sources = sources\n",
    "\n",
    "    def get_sources(self):\n",
    "        return self.__sources\n",
    "\n",
    "    def get_str(self):\n",
    "        return \" \".join([\"News:\", self.get_title(), \"\\n\",\n",
    "                        \"Text:\", self.get_text(), \"\\n\",\n",
    "                        \"Publication date:\", self.get_publication_date(), \"\\n\",\n",
    "                        \"Sources: \", \" \".join(self.get_sources()), \"\\n\",\n",
    "                        \"------------------------------------------------\\n\"])\n",
    "\n",
    "\n",
    "class Announcement(Publication):\n",
    "    __out_date = \"\"\n",
    "\n",
    "    def __init__(self, title, text, out_date):\n",
    "        super().__init__(title, text)\n",
    "        self.__out_date = out_date\n",
    "\n",
    "    def get_out_date(self):\n",
    "        return self.__out_date\n",
    "\n",
    "    def set_out_date(self, out_date):\n",
    "        self.__out_date = out_date\n",
    "\n",
    "    def get_str(self):\n",
    "        return \" \".join([\"Announcement:\", self.get_title(), \"\\n\",\n",
    "                        \"Text:\", self.get_text(), \"\\n\",\n",
    "                        \"Out date:\", self.get_out_date(), \"\\n\",\n",
    "                        \"------------------------------------------------\\n\"])\n",
    "\n",
    "class Article(Publication):\n",
    "    __authors = []\n",
    "\n",
    "    def __init__(self, title, text, authors):\n",
    "        super().__init__(title, text)\n",
    "        self.set_authors(authors)\n",
    "\n",
    "    def set_authors(self, authors):\n",
    "        if not isinstance(authors, list):\n",
    "            self.__authors = [authors]\n",
    "        else:\n",
    "            self.__authors = authors\n",
    "\n",
    "    def get_authors(self):\n",
    "        return self.__authors\n",
    "\n",
    "    def get_str(self):\n",
    "        return \" \".join([\"Article:\", self.get_title(), \"\\n\",\n",
    "                        \"Text:\", self.get_text(), \"\\n\",\n",
    "                        \"Authors:\", \", \".join(self.get_authors()), \"\\n\",\n",
    "                        \"------------------------------------------------\\n\"])\n",
    "\n",
    "if __name__ == \"__main__\":\n",
    "\n",
    "    news = News(\"Braking news!\", \"That's a really exiting news!\", \"12 of November 2016\", [\"CNN\", \"BBC\"])\n",
    "    announce = Announcement(\"New announcement!\", \"I want to by an elephant!\", \"15 of December 2016\")\n",
    "    article = Article(\"We have new investigation\", \"Мы изобрели зелененький глазовыколупыватель\", [\"Профессор Бред\",\n",
    "                                                                                                   \"Ассистент Капитан Очевидность\"])\n",
    "    \n",
    "    strange_list = [news, announce, \"Просто кусок непонятного бреда\", article]\n",
    "\n",
    "    for element in strange_list:\n",
    "        if isinstance(element, Publication):\n",
    "            print(element)"
   ]
  },
  {
   "cell_type": "code",
   "execution_count": 174,
   "metadata": {},
   "outputs": [
    {
     "name": "stdout",
     "output_type": "stream",
     "text": [
      "News: Braking news! \n",
      " Text: That's a really exiting news! \n",
      " Publication date: 12 of November 2016 \n",
      " Sources:  CNN BBC \n",
      " ------------------------------------------------\n",
      "\n",
      "Announcement: New announcement! \n",
      " Text: I want to by an elephant! \n",
      " Out date: 15 of December 2016 \n",
      " ------------------------------------------------\n",
      "\n",
      "Article: We have new investigation \n",
      " Text: Мы изобрели зелененький глазовыколупыватель \n",
      " Authors: Профессор Бред, Ассистент Капитан Очевидность \n",
      " ------------------------------------------------\n",
      "\n"
     ]
    }
   ],
   "source": [
    "%run temp2.py"
   ]
  },
  {
   "cell_type": "code",
   "execution_count": 175,
   "metadata": {},
   "outputs": [
    {
     "name": "stdout",
     "output_type": "stream",
     "text": [
      "parsing temp2.py...\n"
     ]
    },
    {
     "data": {
      "image/svg+xml": [
       "<svg xmlns=\"http://www.w3.org/2000/svg\" xmlns:xlink=\"http://www.w3.org/1999/xlink\" width=\"555pt\" height=\"291pt\" viewBox=\"0.00 0.00 554.50 291.00\">\n",
       "<g id=\"graph0\" class=\"graph\" transform=\"scale(1 1) rotate(0) translate(4 287)\">\n",
       "<title>classes</title>\n",
       "<polygon fill=\"white\" stroke=\"none\" points=\"-4,4 -4,-287 550.5,-287 550.5,4 -4,4\"/>\n",
       "<!-- 0 -->\n",
       "<g id=\"node1\" class=\"node\"><title>0</title>\n",
       "<polygon fill=\"none\" stroke=\"black\" points=\"0,-15.5 0,-115.5 146,-115.5 146,-15.5 0,-15.5\"/>\n",
       "<text text-anchor=\"middle\" x=\"73\" y=\"-100.3\" font-family=\"Times New Roman,serif\" font-size=\"14.00\">Announcement</text>\n",
       "<polyline fill=\"none\" stroke=\"black\" points=\"0,-92.5 146,-92.5 \"/>\n",
       "<polyline fill=\"none\" stroke=\"black\" points=\"0,-68.5 146,-68.5 \"/>\n",
       "<text text-anchor=\"start\" x=\"8\" y=\"-53.3\" font-family=\"Times New Roman,serif\" font-size=\"14.00\">get_out_date()</text>\n",
       "<text text-anchor=\"start\" x=\"8\" y=\"-38.3\" font-family=\"Times New Roman,serif\" font-size=\"14.00\">get_str()</text>\n",
       "<text text-anchor=\"start\" x=\"8\" y=\"-23.3\" font-family=\"Times New Roman,serif\" font-size=\"14.00\">set_out_date(out_date)</text>\n",
       "</g>\n",
       "<!-- 3 -->\n",
       "<g id=\"node4\" class=\"node\"><title>3</title>\n",
       "<polygon fill=\"none\" stroke=\"black\" points=\"185.5,-167.5 185.5,-282.5 274.5,-282.5 274.5,-167.5 185.5,-167.5\"/>\n",
       "<text text-anchor=\"middle\" x=\"230\" y=\"-267.3\" font-family=\"Times New Roman,serif\" font-size=\"14.00\">Publication</text>\n",
       "<polyline fill=\"none\" stroke=\"black\" points=\"185.5,-259.5 274.5,-259.5 \"/>\n",
       "<polyline fill=\"none\" stroke=\"black\" points=\"185.5,-235.5 274.5,-235.5 \"/>\n",
       "<text text-anchor=\"start\" x=\"193.5\" y=\"-220.3\" font-family=\"Times New Roman,serif\" font-size=\"14.00\">get_text()</text>\n",
       "<text text-anchor=\"start\" x=\"193.5\" y=\"-205.3\" font-family=\"Times New Roman,serif\" font-size=\"14.00\">get_title()</text>\n",
       "<text text-anchor=\"start\" x=\"193.5\" y=\"-190.3\" font-family=\"Times New Roman,serif\" font-size=\"14.00\">set_text(text)</text>\n",
       "<text text-anchor=\"start\" x=\"193.5\" y=\"-175.3\" font-family=\"Times New Roman,serif\" font-size=\"14.00\">set_title(title)</text>\n",
       "</g>\n",
       "<!-- 0&#45;&gt;3 -->\n",
       "<g id=\"edge1\" class=\"edge\"><title>0-&gt;3</title>\n",
       "<path fill=\"none\" stroke=\"black\" d=\"M122.245,-115.902C140.108,-133.821 160.329,-154.107 178.389,-172.225\"/>\n",
       "<polygon fill=\"none\" stroke=\"black\" points=\"175.918,-174.704 185.457,-179.315 180.876,-169.762 175.918,-174.704\"/>\n",
       "</g>\n",
       "<!-- 1 -->\n",
       "<g id=\"node2\" class=\"node\"><title>1</title>\n",
       "<polygon fill=\"none\" stroke=\"black\" points=\"164.5,-15.5 164.5,-115.5 295.5,-115.5 295.5,-15.5 164.5,-15.5\"/>\n",
       "<text text-anchor=\"middle\" x=\"230\" y=\"-100.3\" font-family=\"Times New Roman,serif\" font-size=\"14.00\">Article</text>\n",
       "<polyline fill=\"none\" stroke=\"black\" points=\"164.5,-92.5 295.5,-92.5 \"/>\n",
       "<polyline fill=\"none\" stroke=\"black\" points=\"164.5,-68.5 295.5,-68.5 \"/>\n",
       "<text text-anchor=\"start\" x=\"172.5\" y=\"-53.3\" font-family=\"Times New Roman,serif\" font-size=\"14.00\">get_authors()</text>\n",
       "<text text-anchor=\"start\" x=\"172.5\" y=\"-38.3\" font-family=\"Times New Roman,serif\" font-size=\"14.00\">get_str()</text>\n",
       "<text text-anchor=\"start\" x=\"172.5\" y=\"-23.3\" font-family=\"Times New Roman,serif\" font-size=\"14.00\">set_authors(authors)</text>\n",
       "</g>\n",
       "<!-- 1&#45;&gt;3 -->\n",
       "<g id=\"edge2\" class=\"edge\"><title>1-&gt;3</title>\n",
       "<path fill=\"none\" stroke=\"black\" d=\"M230,-115.902C230,-129.041 230,-143.453 230,-157.35\"/>\n",
       "<polygon fill=\"none\" stroke=\"black\" points=\"226.5,-157.352 230,-167.352 233.5,-157.352 226.5,-157.352\"/>\n",
       "</g>\n",
       "<!-- 2 -->\n",
       "<g id=\"node3\" class=\"node\"><title>2</title>\n",
       "<polygon fill=\"none\" stroke=\"black\" points=\"313.5,-0.5 313.5,-130.5 546.5,-130.5 546.5,-0.5 313.5,-0.5\"/>\n",
       "<text text-anchor=\"middle\" x=\"430\" y=\"-115.3\" font-family=\"Times New Roman,serif\" font-size=\"14.00\">News</text>\n",
       "<polyline fill=\"none\" stroke=\"black\" points=\"313.5,-107.5 546.5,-107.5 \"/>\n",
       "<polyline fill=\"none\" stroke=\"black\" points=\"313.5,-83.5 546.5,-83.5 \"/>\n",
       "<text text-anchor=\"start\" x=\"321.5\" y=\"-68.3\" font-family=\"Times New Roman,serif\" font-size=\"14.00\">get_publication_date()</text>\n",
       "<text text-anchor=\"start\" x=\"321.5\" y=\"-53.3\" font-family=\"Times New Roman,serif\" font-size=\"14.00\">get_sources()</text>\n",
       "<text text-anchor=\"start\" x=\"321.5\" y=\"-38.3\" font-family=\"Times New Roman,serif\" font-size=\"14.00\">get_str()</text>\n",
       "<text text-anchor=\"start\" x=\"321.5\" y=\"-23.3\" font-family=\"Times New Roman,serif\" font-size=\"14.00\">set_publication_date(publication_date)</text>\n",
       "<text text-anchor=\"start\" x=\"321.5\" y=\"-8.3\" font-family=\"Times New Roman,serif\" font-size=\"14.00\">set_sources(sources)</text>\n",
       "</g>\n",
       "<!-- 2&#45;&gt;3 -->\n",
       "<g id=\"edge3\" class=\"edge\"><title>2-&gt;3</title>\n",
       "<path fill=\"none\" stroke=\"black\" d=\"M348.652,-130.561C326.312,-148.155 302.683,-166.762 282.443,-182.701\"/>\n",
       "<polygon fill=\"none\" stroke=\"black\" points=\"280.264,-179.962 274.573,-188.899 284.595,-185.462 280.264,-179.962\"/>\n",
       "</g>\n",
       "</g>\n",
       "</svg>"
      ],
      "text/plain": [
       "<IPython.core.display.SVG object>"
      ]
     },
     "execution_count": 175,
     "metadata": {},
     "output_type": "execute_result"
    }
   ],
   "source": [
    "!pyreverse -o temp2.svg temp2.py\n",
    "SVG('classes.temp2.svg')"
   ]
  },
  {
   "cell_type": "markdown",
   "metadata": {},
   "source": [
    "# x. Треугольник и прямоугольник\n",
    "Напишите программу, которая объявляет класс `Shape`, конструктор которого принимает ширину и высоту. После этого унаследуйте от него класс `Triangle` и `Rectangle`. Реализуйте метод `area()`, который возвращает площадь этих фигур. Продемонстрируйте работоспособность программы."
   ]
  },
  {
   "cell_type": "code",
   "execution_count": 271,
   "metadata": {},
   "outputs": [
    {
     "name": "stdout",
     "output_type": "stream",
     "text": [
      "Overwriting task1x.py\n"
     ]
    }
   ],
   "source": [
    "%%writefile task1x.py\n",
    "\n",
    "class Shape:\n",
    "    def __init__(self, base, height):\n",
    "        self.base = base\n",
    "        self.height = height\n",
    "\n",
    "        \n",
    "class Rectangle(Shape):\n",
    "    def area(self):\n",
    "        return self.base * self.height\n",
    "\n",
    "\n",
    "class Triangle(Shape):\n",
    "    def area(self):\n",
    "        return 0.5 * self.base * self.height"
   ]
  },
  {
   "cell_type": "code",
   "execution_count": 272,
   "metadata": {},
   "outputs": [
    {
     "name": "stdout",
     "output_type": "stream",
     "text": [
      "parsing task1x.py...\n"
     ]
    },
    {
     "data": {
      "image/svg+xml": [
       "<svg xmlns=\"http://www.w3.org/2000/svg\" xmlns:xlink=\"http://www.w3.org/1999/xlink\" width=\"160pt\" height=\"200pt\" viewBox=\"0.00 0.00 159.50 200.00\">\n",
       "<g id=\"graph0\" class=\"graph\" transform=\"scale(1 1) rotate(0) translate(4 196)\">\n",
       "<title>classes</title>\n",
       "<polygon fill=\"white\" stroke=\"none\" points=\"-4,4 -4,-196 155.5,-196 155.5,4 -4,4\"/>\n",
       "<!-- 0 -->\n",
       "<g id=\"node1\" class=\"node\"><title>0</title>\n",
       "<polygon fill=\"none\" stroke=\"black\" points=\"0,-0.5 0,-70.5 71,-70.5 71,-0.5 0,-0.5\"/>\n",
       "<text text-anchor=\"middle\" x=\"35.5\" y=\"-55.3\" font-family=\"Times New Roman,serif\" font-size=\"14.00\">Rectangle</text>\n",
       "<polyline fill=\"none\" stroke=\"black\" points=\"0,-47.5 71,-47.5 \"/>\n",
       "<polyline fill=\"none\" stroke=\"black\" points=\"0,-23.5 71,-23.5 \"/>\n",
       "<text text-anchor=\"start\" x=\"8\" y=\"-8.3\" font-family=\"Times New Roman,serif\" font-size=\"14.00\">area()</text>\n",
       "</g>\n",
       "<!-- 1 -->\n",
       "<g id=\"node2\" class=\"node\"><title>1</title>\n",
       "<polygon fill=\"none\" stroke=\"black\" points=\"50.5,-107.5 50.5,-191.5 104.5,-191.5 104.5,-107.5 50.5,-107.5\"/>\n",
       "<text text-anchor=\"middle\" x=\"77.5\" y=\"-176.3\" font-family=\"Times New Roman,serif\" font-size=\"14.00\">Shape</text>\n",
       "<polyline fill=\"none\" stroke=\"black\" points=\"50.5,-168.5 104.5,-168.5 \"/>\n",
       "<text text-anchor=\"start\" x=\"58.5\" y=\"-153.3\" font-family=\"Times New Roman,serif\" font-size=\"14.00\">base</text>\n",
       "<text text-anchor=\"start\" x=\"58.5\" y=\"-138.3\" font-family=\"Times New Roman,serif\" font-size=\"14.00\">height</text>\n",
       "<polyline fill=\"none\" stroke=\"black\" points=\"50.5,-130.5 104.5,-130.5 \"/>\n",
       "<text text-anchor=\"middle\" x=\"77.5\" y=\"-115.3\" font-family=\"Times New Roman,serif\" font-size=\"14.00\"> </text>\n",
       "</g>\n",
       "<!-- 0&#45;&gt;1 -->\n",
       "<g id=\"edge1\" class=\"edge\"><title>0-&gt;1</title>\n",
       "<path fill=\"none\" stroke=\"black\" d=\"M48.3296,-70.7123C51.5524,-79.3064 55.0794,-88.7116 58.5323,-97.9196\"/>\n",
       "<polygon fill=\"none\" stroke=\"black\" points=\"55.2996,-99.2672 62.0881,-107.402 61.8539,-96.8093 55.2996,-99.2672\"/>\n",
       "</g>\n",
       "<!-- 2 -->\n",
       "<g id=\"node3\" class=\"node\"><title>2</title>\n",
       "<polygon fill=\"none\" stroke=\"black\" points=\"89.5,-0.5 89.5,-70.5 151.5,-70.5 151.5,-0.5 89.5,-0.5\"/>\n",
       "<text text-anchor=\"middle\" x=\"120.5\" y=\"-55.3\" font-family=\"Times New Roman,serif\" font-size=\"14.00\">Triangle</text>\n",
       "<polyline fill=\"none\" stroke=\"black\" points=\"89.5,-47.5 151.5,-47.5 \"/>\n",
       "<polyline fill=\"none\" stroke=\"black\" points=\"89.5,-23.5 151.5,-23.5 \"/>\n",
       "<text text-anchor=\"start\" x=\"97.5\" y=\"-8.3\" font-family=\"Times New Roman,serif\" font-size=\"14.00\">area()</text>\n",
       "</g>\n",
       "<!-- 2&#45;&gt;1 -->\n",
       "<g id=\"edge2\" class=\"edge\"><title>2-&gt;1</title>\n",
       "<path fill=\"none\" stroke=\"black\" d=\"M107.365,-70.7123C104.065,-79.3064 100.454,-88.7116 96.9193,-97.9196\"/>\n",
       "<polygon fill=\"none\" stroke=\"black\" points=\"93.5957,-96.8114 93.2789,-107.402 100.131,-99.3204 93.5957,-96.8114\"/>\n",
       "</g>\n",
       "</g>\n",
       "</svg>"
      ],
      "text/plain": [
       "<IPython.core.display.SVG object>"
      ]
     },
     "execution_count": 272,
     "metadata": {},
     "output_type": "execute_result"
    }
   ],
   "source": [
    "!pyreverse -o task1x.svg task1x.py\n",
    "SVG('classes.task1x.svg')"
   ]
  },
  {
   "cell_type": "code",
   "execution_count": 289,
   "metadata": {},
   "outputs": [
    {
     "name": "stdout",
     "output_type": "stream",
     "text": [
      "Rectangle area: 8\n",
      "Triangle area: 4.0\n"
     ]
    }
   ],
   "source": [
    "import task1x\n",
    "task1x = reload(task1x)\n",
    "\n",
    "rectangle = Rectangle(4, 2)\n",
    "triangle = Triangle(4, 2)\n",
    "print(f\"Rectangle area: {rectangle.area()}\\nTriangle area: {triangle.area()}\")"
   ]
  },
  {
   "cell_type": "markdown",
   "metadata": {},
   "source": [
    "# x. Дочки-матери\n",
    "Напишите программу с классом `Mother` от которого наследуется класс `Daughter`. Сделайте так, чтобы результат `print(object)` был разный. Воспользуйтесь принципами полиморфизма, наследования и инкапсуляции."
   ]
  },
  {
   "cell_type": "code",
   "execution_count": 290,
   "metadata": {},
   "outputs": [
    {
     "name": "stdout",
     "output_type": "stream",
     "text": [
      "Overwriting task2x.py\n"
     ]
    }
   ],
   "source": [
    "%%writefile task2x.py\n",
    "\n",
    "class Mother:\n",
    "    __name = \"unknown\"\n",
    "\n",
    "    def __init__(self, name):\n",
    "        self.__name = name\n",
    "\n",
    "    def get_name(self):\n",
    "        return self.__name\n",
    "\n",
    "    def set_name(self, name):\n",
    "        self.__name = name\n",
    "\n",
    "    def get_str(self):\n",
    "        return f\"Name: {self.get_name()}\\n---\"\n",
    "    \n",
    "    def __str__(self):\n",
    "        return self.get_str()\n",
    "\n",
    "\n",
    "class Daughter(Mother):\n",
    "    __mother = \"unknown\"\n",
    "    \n",
    "    def __init__(self, name, mother):\n",
    "        super().__init__(name)\n",
    "        self.__mother = mother\n",
    "    \n",
    "    def get_mother(self):\n",
    "        return self.__mother\n",
    "    \n",
    "    def set_mother(self, mother):\n",
    "        self.__mother = mother\n",
    "\n",
    "    def get_str(self):\n",
    "        return f\"Name: {self.get_name()}; Mother: {self.get_mother()}\\n---\"\n"
   ]
  },
  {
   "cell_type": "code",
   "execution_count": 292,
   "metadata": {},
   "outputs": [
    {
     "name": "stdout",
     "output_type": "stream",
     "text": [
      "Name: Agatha\n",
      "---\n",
      "Name: Elsa; Mother: Agatha\n",
      "---\n"
     ]
    }
   ],
   "source": [
    "import task2x\n",
    "task2x = reload(task2x)\n",
    "\n",
    "m = task2x.Mother(\"Agatha\")\n",
    "d = task2x.Daughter(\"Elsa\", \"Agatha\")\n",
    "\n",
    "print(m)\n",
    "print(d)"
   ]
  },
  {
   "cell_type": "code",
   "execution_count": 293,
   "metadata": {},
   "outputs": [
    {
     "name": "stdout",
     "output_type": "stream",
     "text": [
      "parsing task2x.py...\n"
     ]
    },
    {
     "data": {
      "image/svg+xml": [
       "<svg xmlns=\"http://www.w3.org/2000/svg\" xmlns:xlink=\"http://www.w3.org/1999/xlink\" width=\"135pt\" height=\"246pt\" viewBox=\"0.00 0.00 135.00 246.00\">\n",
       "<g id=\"graph0\" class=\"graph\" transform=\"scale(1 1) rotate(0) translate(4 242)\">\n",
       "<title>classes</title>\n",
       "<polygon fill=\"white\" stroke=\"none\" points=\"-4,4 -4,-242 131,-242 131,4 -4,4\"/>\n",
       "<!-- 0 -->\n",
       "<g id=\"node1\" class=\"node\"><title>0</title>\n",
       "<polygon fill=\"none\" stroke=\"black\" points=\"0,-0.5 0,-100.5 127,-100.5 127,-0.5 0,-0.5\"/>\n",
       "<text text-anchor=\"middle\" x=\"63.5\" y=\"-85.3\" font-family=\"Times New Roman,serif\" font-size=\"14.00\">Daughter</text>\n",
       "<polyline fill=\"none\" stroke=\"black\" points=\"0,-77.5 127,-77.5 \"/>\n",
       "<polyline fill=\"none\" stroke=\"black\" points=\"0,-53.5 127,-53.5 \"/>\n",
       "<text text-anchor=\"start\" x=\"8\" y=\"-38.3\" font-family=\"Times New Roman,serif\" font-size=\"14.00\">get_mother()</text>\n",
       "<text text-anchor=\"start\" x=\"8\" y=\"-23.3\" font-family=\"Times New Roman,serif\" font-size=\"14.00\">get_str()</text>\n",
       "<text text-anchor=\"start\" x=\"8\" y=\"-8.3\" font-family=\"Times New Roman,serif\" font-size=\"14.00\">set_mother(mother)</text>\n",
       "</g>\n",
       "<!-- 1 -->\n",
       "<g id=\"node2\" class=\"node\"><title>1</title>\n",
       "<polygon fill=\"none\" stroke=\"black\" points=\"10,-137.5 10,-237.5 117,-237.5 117,-137.5 10,-137.5\"/>\n",
       "<text text-anchor=\"middle\" x=\"63.5\" y=\"-222.3\" font-family=\"Times New Roman,serif\" font-size=\"14.00\">Mother</text>\n",
       "<polyline fill=\"none\" stroke=\"black\" points=\"10,-214.5 117,-214.5 \"/>\n",
       "<polyline fill=\"none\" stroke=\"black\" points=\"10,-190.5 117,-190.5 \"/>\n",
       "<text text-anchor=\"start\" x=\"18\" y=\"-175.3\" font-family=\"Times New Roman,serif\" font-size=\"14.00\">get_name()</text>\n",
       "<text text-anchor=\"start\" x=\"18\" y=\"-160.3\" font-family=\"Times New Roman,serif\" font-size=\"14.00\">get_str()</text>\n",
       "<text text-anchor=\"start\" x=\"18\" y=\"-145.3\" font-family=\"Times New Roman,serif\" font-size=\"14.00\">set_name(name)</text>\n",
       "</g>\n",
       "<!-- 0&#45;&gt;1 -->\n",
       "<g id=\"edge1\" class=\"edge\"><title>0-&gt;1</title>\n",
       "<path fill=\"none\" stroke=\"black\" d=\"M63.5,-100.62C63.5,-109.181 63.5,-118.17 63.5,-126.975\"/>\n",
       "<polygon fill=\"none\" stroke=\"black\" points=\"60.0001,-127.19 63.5,-137.19 67.0001,-127.19 60.0001,-127.19\"/>\n",
       "</g>\n",
       "</g>\n",
       "</svg>"
      ],
      "text/plain": [
       "<IPython.core.display.SVG object>"
      ]
     },
     "execution_count": 293,
     "metadata": {},
     "output_type": "execute_result"
    }
   ],
   "source": [
    "!pyreverse -o task2x.svg task2x.py\n",
    "SVG('classes.task2x.svg')"
   ]
  },
  {
   "cell_type": "markdown",
   "metadata": {},
   "source": [
    "# x. Животные\n",
    "Реализйте класс `Animal`. Внутри объявите поле для имени и возраста. От класса `Animal` унаследуйте класс `Zebra` и `Dolphin`. Оба класса могут вернуть описание, содержащее имя, возраст и какую-то доп.информацию, например, что это за вид животного. Воспользуйтесь принципами полиморфизма, наследования и инкапсуляции."
   ]
  },
  {
   "cell_type": "code",
   "execution_count": null,
   "metadata": {},
   "outputs": [],
   "source": []
  },
  {
   "cell_type": "markdown",
   "metadata": {},
   "source": [
    "# x. Игра \"Арифметические драконы\"\n",
    "Игра \"Арифметические драконы\" предназначена для обучения детей арифметике. На героя нападает дракон, который задаёт вопрос на сложение (если дракон зелёный), вычитание (красный) или умножение (чёрный).\n",
    "\n",
    "    Разбейтесь по командам по два программиста и сядьте за один компьютер.\n",
    "    Скачайте архив arithmetic_dragons\n",
    "\n",
    "    Реализуйте следующие классы:\n",
    "    "
   ]
  },
  {
   "cell_type": "code",
   "execution_count": null,
   "metadata": {},
   "outputs": [],
   "source": []
  }
 ],
 "metadata": {
  "kernelspec": {
   "display_name": "Python 3",
   "language": "python",
   "name": "python3"
  },
  "language_info": {
   "codemirror_mode": {
    "name": "ipython",
    "version": 3
   },
   "file_extension": ".py",
   "mimetype": "text/x-python",
   "name": "python",
   "nbconvert_exporter": "python",
   "pygments_lexer": "ipython3",
   "version": "3.8.5"
  }
 },
 "nbformat": 4,
 "nbformat_minor": 4
}
