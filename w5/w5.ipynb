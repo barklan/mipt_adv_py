{
 "cells": [
  {
   "cell_type": "code",
   "execution_count": 3,
   "metadata": {},
   "outputs": [],
   "source": [
    "from IPython.display import Image, SVG\n",
    "from importlib import reload"
   ]
  },
  {
   "cell_type": "markdown",
   "metadata": {},
   "source": [
    "# Теория по ООП"
   ]
  },
  {
   "cell_type": "markdown",
   "metadata": {},
   "source": [
    "---\n",
    "1. (4) Опишите в файле `basic_oop.md` своими словами следующие принципы:\n",
    "  - Объект;\n",
    "  - Инкапсуляция;\n",
    "  - Полиморфизм;\n",
    "  - Наследование;"
   ]
  },
  {
   "cell_type": "markdown",
   "metadata": {},
   "source": [
    ">`basic_oop.md`\n",
    "- Языки, поддерживающие объектно-ориентированное программирование (ООП), обычно используют наследование для повторного использования кода и расширяемости в форме классов или прототипов. Те, кто использует классы, поддерживают две основные концепции:\n",
    "\n",
    " - Классы - определения формата данных и доступных процедур для данного типа или класса объекта; могут также содержать сами данные и процедуры (известные как методы класса), т.е. классы содержат элементы данных и функции-члены\n",
    " - **Объекты** - экземпляры классов\n",
    "\n",
    "Иногда объекты соответствуют вещам, которые можно найти в реальном мире. Например, графическая программа может иметь такие объекты, как «круг», «квадрат», «меню». В системе покупок в Интернете могут быть такие объекты, как «корзина», «покупатель» и «продукт». Иногда объекты представляют собой более абстрактные сущности, такие как объект, представляющий открытый файл, или объект, который предоставляет услугу перевода измерений из общепринятых в США в метрики.\n",
    "\n",
    "- В объектно-ориентированном программировании (ООП) **инкапсуляция** означает связывание данных с методами, которые работают с этими данными, или ограничение прямого доступа к некоторым компонентам объекта. Инкапсуляция используется, чтобы скрыть значения или состояние объекта структурированных данных внутри класса, предотвращая прямой доступ к ним неавторизованных сторон. В классе обычно предоставляются общедоступные методы (так называемые «геттеры» и «сеттеры») для доступа к значениям, а другие клиентские классы вызывают эти методы для извлечения и изменения значений внутри объекта.\n",
    "- В языках программирования и теории типов **полиморфизм** - это предоставление единого интерфейса для сущностей разных типов или использование одного символа для представления нескольких различных типов.\n",
    "- В объектно-ориентированном программировании **наследование** - это механизм базирования объекта или класса на другом объекте (наследование на основе прототипов) или классе (наследование на основе классов) с сохранением аналогичной реализации. Также определяется как создание новых классов (подклассов) из существующих, таких как суперкласс или базовый класс, с последующим формированием их в иерархию классов. В большинстве объектно-ориентированных языков на основе классов объект, созданный посредством наследования, «дочерний объект», приобретает все свойства и поведение «родительского объекта», за исключением: конструкторов, деструктора, перегруженных операторов и дружественных функций базового класса."
   ]
  },
  {
   "cell_type": "markdown",
   "metadata": {},
   "source": [
    "##### Friend function ([Wiki](https://en.wikipedia.org/wiki/Friend_function))"
   ]
  },
  {
   "cell_type": "code",
   "execution_count": 26,
   "metadata": {},
   "outputs": [],
   "source": [
    "import numpy as np\n",
    "X = np.array([[1, 2, 3], [4, 5, 6]])"
   ]
  },
  {
   "cell_type": "code",
   "execution_count": 27,
   "metadata": {},
   "outputs": [
    {
     "data": {
      "text/plain": [
       "array([[1, 4],\n",
       "       [2, 5],\n",
       "       [3, 6]])"
      ]
     },
     "execution_count": 27,
     "metadata": {},
     "output_type": "execute_result"
    }
   ],
   "source": [
    "X.transpose()"
   ]
  },
  {
   "cell_type": "code",
   "execution_count": 28,
   "metadata": {},
   "outputs": [
    {
     "data": {
      "text/plain": [
       "array([[1, 4],\n",
       "       [2, 5],\n",
       "       [3, 6]])"
      ]
     },
     "execution_count": 28,
     "metadata": {},
     "output_type": "execute_result"
    }
   ],
   "source": [
    "np.transpose(X)"
   ]
  },
  {
   "cell_type": "markdown",
   "metadata": {},
   "source": [
    "Функция `np.transpose` - _дружественная_ к классу `numpy.ndarray`. В python нет специального `friend` декларирования методов класса, использующих приватные переменные другого класса."
   ]
  },
  {
   "cell_type": "markdown",
   "metadata": {},
   "source": [
    "---\n",
    "2. (3) Опишите в файле `solid.md` своими словами три первых принципа SOLID:\n",
    "  - Single responsibility;\n",
    "  - Open-close;\n",
    "  - Liskov substitution."
   ]
  },
  {
   "cell_type": "markdown",
   "metadata": {},
   "source": [
    ">`solid.md`\n",
    "- **Single-responsibility principle** (SRP) - это принцип компьютерного программирования, который гласит, что каждый модуль, класс или функция в компьютерной программе должны нести ответственность за отдельную часть функциональности этой программы, которую она должна инкапсулировать. Все службы этого модуля, класса или функции должны строго соответствовать этой ответственности.\n",
    "- В объектно-ориентированном программировании **open–closed principle** гласит: «программные объекты (классы, модули, функции и т. Д.) Должны быть открыты для расширения, но закрыты для модификации»; то есть такая сущность может позволить расширить свое поведение без изменения исходного кода.\n",
    "- Substitutability (**Liskov substitution principle**) - это принцип объектно-ориентированного программирования, гласящий, что в компьютерной программе, если S является подтипом T, тогда объекты типа T могут быть заменены объектами типа S (т. Е. объект типа T может быть заменен любым объектом подтипа S) без изменения каких-либо желаемых свойств программы (правильность, выполненная задача и т. д.)."
   ]
  },
  {
   "cell_type": "markdown",
   "metadata": {},
   "source": [
    "---\n",
    "3. (3) Посмотрите на файл `bad_solid.py`.\n",
    "Какие из первых трех принципов SOLID в нем нарушены?\n",
    "Опишите это в `bad_solid.md`."
   ]
  },
  {
   "cell_type": "markdown",
   "metadata": {},
   "source": [
    "Contents of `bad_solid.py`\n",
    "```py\n",
    "class Administator:\n",
    "    def prepare_documents(self):\n",
    "        # все правильно, этим он и занимается\n",
    "        return 'done'\n",
    "\n",
    "    def water_flowers(self):\n",
    "        # ну, пусть поливает цветочки\n",
    "        return 'done'\n",
    "\n",
    "    def repair_car(self):\n",
    "        # погодите, что?\n",
    "        return 'done'\n",
    "\n",
    "    def clean_floor(self):\n",
    "        # нет, это уже работа для уборщика\n",
    "        return 'done'\n",
    "\n",
    "    def perform_surgery(self):\n",
    "        # но он ведь не доктор, эй!\n",
    "        return 'done'\n",
    "\n",
    "\n",
    "class Student(Administator):\n",
    "    # постойте, мы правда хотим наследовать все эти ненужные методы?\n",
    "\n",
    "    def method_only_for_student(self):\n",
    "        return 'hehe, administrator cannot call me'\n",
    "\n",
    "    def repair_car(self):\n",
    "        method_only_for_student()\n",
    "        return done\n",
    "\n",
    "\n",
    "```"
   ]
  },
  {
   "cell_type": "markdown",
   "metadata": {},
   "source": [
    "- **Single-responsibility principle**. В данном примере `Administrator` содержит много методов, которые выполняют совершенно разные функции, не имеющие общей цели. Наверное лучше было сделать класс `Worker` с методом `do_the_job`, а от него подклассы `Administrator`, `Doctor`, `Janitor` с методами, специфичными каждой работе.\n",
    "- **Open–closed principle**. Из-за многофункциональности `Administrator`а не совсем понятно, каким образом можно его дополнить, сделав из него дочерний расширенный класс. Так что нельзя сказать, что класс `Administrator` \"открыт\".\n",
    "- **Liskov substitution principle**. Всё плохо. `Student` унаследовал всё. `prepare_documents` например неясно что делает на классе `Student` - мы не можем ожидать, что этот метод будет выполнять аналогичную задачу у студентов, скорее всего нам нужно будет все лишние методы перезаписать.\n",
    "> Меня ударили доской - лежу я с болью и тоской.\n",
    "\n",
    "![Wasted](wasted.jpg)"
   ]
  },
  {
   "cell_type": "markdown",
   "metadata": {},
   "source": [
    "# Практика по ООП в Python"
   ]
  },
  {
   "cell_type": "markdown",
   "metadata": {},
   "source": [
    "---\n",
    "4. (3) Напишите программу, которая объявляет класс `Shape`, конструктор которого принимает ширину и высоту.\n",
    "После этого унаследуйте от него класс `Triangle` и `Rectangle`.\n",
    "Реализуйте метод `area()`, который возвращает площадь этих фигур."
   ]
  },
  {
   "cell_type": "code",
   "execution_count": 4,
   "metadata": {},
   "outputs": [
    {
     "name": "stdout",
     "output_type": "stream",
     "text": [
      "Overwriting t4.py\n"
     ]
    }
   ],
   "source": [
    "%%writefile t4.py\n",
    "\n",
    "class Shape:\n",
    "    def __init__(self, base, height):\n",
    "        self.base = base\n",
    "        self.height = height\n",
    "\n",
    "        \n",
    "class Rectangle(Shape):\n",
    "    def area(self):\n",
    "        return self.base * self.height\n",
    "\n",
    "\n",
    "class Triangle(Shape):\n",
    "    def area(self):\n",
    "        return 0.5 * self.base * self.height"
   ]
  },
  {
   "cell_type": "code",
   "execution_count": 5,
   "metadata": {},
   "outputs": [
    {
     "name": "stdout",
     "output_type": "stream",
     "text": [
      "Rectangle area: 8\n",
      "Triangle area: 4.0\n"
     ]
    }
   ],
   "source": [
    "import t4\n",
    "t4 = reload(t4)\n",
    "\n",
    "rectangle = t4.Rectangle(4, 2)\n",
    "triangle = t4.Triangle(4, 2)\n",
    "print(f\"Rectangle area: {rectangle.area()}\\nTriangle area: {triangle.area()}\")"
   ]
  },
  {
   "cell_type": "code",
   "execution_count": 6,
   "metadata": {},
   "outputs": [
    {
     "name": "stdout",
     "output_type": "stream",
     "text": [
      "parsing t4.py...\n"
     ]
    },
    {
     "data": {
      "image/svg+xml": [
       "<svg xmlns=\"http://www.w3.org/2000/svg\" xmlns:xlink=\"http://www.w3.org/1999/xlink\" width=\"160pt\" height=\"200pt\" viewBox=\"0.00 0.00 159.50 200.00\">\n",
       "<g id=\"graph0\" class=\"graph\" transform=\"scale(1 1) rotate(0) translate(4 196)\">\n",
       "<title>classes</title>\n",
       "<polygon fill=\"white\" stroke=\"none\" points=\"-4,4 -4,-196 155.5,-196 155.5,4 -4,4\"/>\n",
       "<!-- 0 -->\n",
       "<g id=\"node1\" class=\"node\"><title>0</title>\n",
       "<polygon fill=\"none\" stroke=\"black\" points=\"0,-0.5 0,-70.5 71,-70.5 71,-0.5 0,-0.5\"/>\n",
       "<text text-anchor=\"middle\" x=\"35.5\" y=\"-55.3\" font-family=\"Times New Roman,serif\" font-size=\"14.00\">Rectangle</text>\n",
       "<polyline fill=\"none\" stroke=\"black\" points=\"0,-47.5 71,-47.5 \"/>\n",
       "<polyline fill=\"none\" stroke=\"black\" points=\"0,-23.5 71,-23.5 \"/>\n",
       "<text text-anchor=\"start\" x=\"8\" y=\"-8.3\" font-family=\"Times New Roman,serif\" font-size=\"14.00\">area()</text>\n",
       "</g>\n",
       "<!-- 1 -->\n",
       "<g id=\"node2\" class=\"node\"><title>1</title>\n",
       "<polygon fill=\"none\" stroke=\"black\" points=\"50.5,-107.5 50.5,-191.5 104.5,-191.5 104.5,-107.5 50.5,-107.5\"/>\n",
       "<text text-anchor=\"middle\" x=\"77.5\" y=\"-176.3\" font-family=\"Times New Roman,serif\" font-size=\"14.00\">Shape</text>\n",
       "<polyline fill=\"none\" stroke=\"black\" points=\"50.5,-168.5 104.5,-168.5 \"/>\n",
       "<text text-anchor=\"start\" x=\"58.5\" y=\"-153.3\" font-family=\"Times New Roman,serif\" font-size=\"14.00\">base</text>\n",
       "<text text-anchor=\"start\" x=\"58.5\" y=\"-138.3\" font-family=\"Times New Roman,serif\" font-size=\"14.00\">height</text>\n",
       "<polyline fill=\"none\" stroke=\"black\" points=\"50.5,-130.5 104.5,-130.5 \"/>\n",
       "<text text-anchor=\"middle\" x=\"77.5\" y=\"-115.3\" font-family=\"Times New Roman,serif\" font-size=\"14.00\"> </text>\n",
       "</g>\n",
       "<!-- 0&#45;&gt;1 -->\n",
       "<g id=\"edge1\" class=\"edge\"><title>0-&gt;1</title>\n",
       "<path fill=\"none\" stroke=\"black\" d=\"M48.3296,-70.7123C51.5524,-79.3064 55.0794,-88.7116 58.5323,-97.9196\"/>\n",
       "<polygon fill=\"none\" stroke=\"black\" points=\"55.2996,-99.2672 62.0881,-107.402 61.8539,-96.8093 55.2996,-99.2672\"/>\n",
       "</g>\n",
       "<!-- 2 -->\n",
       "<g id=\"node3\" class=\"node\"><title>2</title>\n",
       "<polygon fill=\"none\" stroke=\"black\" points=\"89.5,-0.5 89.5,-70.5 151.5,-70.5 151.5,-0.5 89.5,-0.5\"/>\n",
       "<text text-anchor=\"middle\" x=\"120.5\" y=\"-55.3\" font-family=\"Times New Roman,serif\" font-size=\"14.00\">Triangle</text>\n",
       "<polyline fill=\"none\" stroke=\"black\" points=\"89.5,-47.5 151.5,-47.5 \"/>\n",
       "<polyline fill=\"none\" stroke=\"black\" points=\"89.5,-23.5 151.5,-23.5 \"/>\n",
       "<text text-anchor=\"start\" x=\"97.5\" y=\"-8.3\" font-family=\"Times New Roman,serif\" font-size=\"14.00\">area()</text>\n",
       "</g>\n",
       "<!-- 2&#45;&gt;1 -->\n",
       "<g id=\"edge2\" class=\"edge\"><title>2-&gt;1</title>\n",
       "<path fill=\"none\" stroke=\"black\" d=\"M107.365,-70.7123C104.065,-79.3064 100.454,-88.7116 96.9193,-97.9196\"/>\n",
       "<polygon fill=\"none\" stroke=\"black\" points=\"93.5957,-96.8114 93.2789,-107.402 100.131,-99.3204 93.5957,-96.8114\"/>\n",
       "</g>\n",
       "</g>\n",
       "</svg>"
      ],
      "text/plain": [
       "<IPython.core.display.SVG object>"
      ]
     },
     "execution_count": 6,
     "metadata": {},
     "output_type": "execute_result"
    }
   ],
   "source": [
    "!pyreverse -o t4.svg t4.py\n",
    "SVG('classes.t4.svg')"
   ]
  },
  {
   "cell_type": "markdown",
   "metadata": {},
   "source": [
    "5. (3) Напишите программу с классом `Mother` от которого наследуется класс `Daughter`.\n",
    "Сделайте так, чтобы результат `print(object)` был разный.\n",
    "Воспользуйтесь принципами полиморфизма, наследования и инкапсуляции."
   ]
  },
  {
   "cell_type": "code",
   "execution_count": 7,
   "metadata": {},
   "outputs": [
    {
     "name": "stdout",
     "output_type": "stream",
     "text": [
      "Overwriting t5.py\n"
     ]
    }
   ],
   "source": [
    "%%writefile t5.py\n",
    "\n",
    "class Mother:\n",
    "    __name = \"unknown\"\n",
    "\n",
    "    def __init__(self, name):\n",
    "        self.__name = name\n",
    "\n",
    "    def get_name(self):\n",
    "        return self.__name\n",
    "\n",
    "    def set_name(self, name):\n",
    "        self.__name = name\n",
    "\n",
    "    def get_str(self):\n",
    "        return f\"Name: {self.get_name()}\\n---\"\n",
    "    \n",
    "    def __str__(self):\n",
    "        return self.get_str()\n",
    "\n",
    "\n",
    "class Daughter(Mother):\n",
    "    __mother = \"unknown\"\n",
    "    \n",
    "    def __init__(self, name, mother):\n",
    "        super().__init__(name)\n",
    "        self.__mother = mother\n",
    "    \n",
    "    def get_mother(self):\n",
    "        return self.__mother\n",
    "    \n",
    "    def set_mother(self, mother):\n",
    "        self.__mother = mother\n",
    "\n",
    "    def get_str(self):\n",
    "        return f\"Name: {self.get_name()}; Mother: {self.get_mother()}\\n---\"\n"
   ]
  },
  {
   "cell_type": "code",
   "execution_count": 8,
   "metadata": {},
   "outputs": [
    {
     "name": "stdout",
     "output_type": "stream",
     "text": [
      "Name: Agatha\n",
      "---\n",
      "Name: Elsa; Mother: Agatha\n",
      "---\n"
     ]
    }
   ],
   "source": [
    "import t5\n",
    "t5 = reload(t5)\n",
    "\n",
    "m = t5.Mother(\"Agatha\")\n",
    "d = t5.Daughter(\"Elsa\", \"Agatha\")\n",
    "\n",
    "print(m)\n",
    "print(d)"
   ]
  },
  {
   "cell_type": "code",
   "execution_count": 9,
   "metadata": {},
   "outputs": [
    {
     "name": "stdout",
     "output_type": "stream",
     "text": [
      "parsing t5.py...\n"
     ]
    },
    {
     "data": {
      "image/svg+xml": [
       "<svg xmlns=\"http://www.w3.org/2000/svg\" xmlns:xlink=\"http://www.w3.org/1999/xlink\" width=\"135pt\" height=\"246pt\" viewBox=\"0.00 0.00 135.00 246.00\">\n",
       "<g id=\"graph0\" class=\"graph\" transform=\"scale(1 1) rotate(0) translate(4 242)\">\n",
       "<title>classes</title>\n",
       "<polygon fill=\"white\" stroke=\"none\" points=\"-4,4 -4,-242 131,-242 131,4 -4,4\"/>\n",
       "<!-- 0 -->\n",
       "<g id=\"node1\" class=\"node\"><title>0</title>\n",
       "<polygon fill=\"none\" stroke=\"black\" points=\"0,-0.5 0,-100.5 127,-100.5 127,-0.5 0,-0.5\"/>\n",
       "<text text-anchor=\"middle\" x=\"63.5\" y=\"-85.3\" font-family=\"Times New Roman,serif\" font-size=\"14.00\">Daughter</text>\n",
       "<polyline fill=\"none\" stroke=\"black\" points=\"0,-77.5 127,-77.5 \"/>\n",
       "<polyline fill=\"none\" stroke=\"black\" points=\"0,-53.5 127,-53.5 \"/>\n",
       "<text text-anchor=\"start\" x=\"8\" y=\"-38.3\" font-family=\"Times New Roman,serif\" font-size=\"14.00\">get_mother()</text>\n",
       "<text text-anchor=\"start\" x=\"8\" y=\"-23.3\" font-family=\"Times New Roman,serif\" font-size=\"14.00\">get_str()</text>\n",
       "<text text-anchor=\"start\" x=\"8\" y=\"-8.3\" font-family=\"Times New Roman,serif\" font-size=\"14.00\">set_mother(mother)</text>\n",
       "</g>\n",
       "<!-- 1 -->\n",
       "<g id=\"node2\" class=\"node\"><title>1</title>\n",
       "<polygon fill=\"none\" stroke=\"black\" points=\"10,-137.5 10,-237.5 117,-237.5 117,-137.5 10,-137.5\"/>\n",
       "<text text-anchor=\"middle\" x=\"63.5\" y=\"-222.3\" font-family=\"Times New Roman,serif\" font-size=\"14.00\">Mother</text>\n",
       "<polyline fill=\"none\" stroke=\"black\" points=\"10,-214.5 117,-214.5 \"/>\n",
       "<polyline fill=\"none\" stroke=\"black\" points=\"10,-190.5 117,-190.5 \"/>\n",
       "<text text-anchor=\"start\" x=\"18\" y=\"-175.3\" font-family=\"Times New Roman,serif\" font-size=\"14.00\">get_name()</text>\n",
       "<text text-anchor=\"start\" x=\"18\" y=\"-160.3\" font-family=\"Times New Roman,serif\" font-size=\"14.00\">get_str()</text>\n",
       "<text text-anchor=\"start\" x=\"18\" y=\"-145.3\" font-family=\"Times New Roman,serif\" font-size=\"14.00\">set_name(name)</text>\n",
       "</g>\n",
       "<!-- 0&#45;&gt;1 -->\n",
       "<g id=\"edge1\" class=\"edge\"><title>0-&gt;1</title>\n",
       "<path fill=\"none\" stroke=\"black\" d=\"M63.5,-100.62C63.5,-109.181 63.5,-118.17 63.5,-126.975\"/>\n",
       "<polygon fill=\"none\" stroke=\"black\" points=\"60.0001,-127.19 63.5,-137.19 67.0001,-127.19 60.0001,-127.19\"/>\n",
       "</g>\n",
       "</g>\n",
       "</svg>"
      ],
      "text/plain": [
       "<IPython.core.display.SVG object>"
      ]
     },
     "execution_count": 9,
     "metadata": {},
     "output_type": "execute_result"
    }
   ],
   "source": [
    "!pyreverse -o t5.svg t5.py\n",
    "SVG('classes.t5.svg')"
   ]
  },
  {
   "cell_type": "markdown",
   "metadata": {},
   "source": [
    "---\n",
    "6. (4) Реализйте класс `Animal`. Внутри объявите поле для имени и возраста.\n",
    "От класса `Animal` унаследуйте класс `Zebra` и `Dolphin`.\n",
    "Оба класса могут вернуть описание, содержащее имя, возраст и какую-то доп.информацию, например, что это за вид животного.\n",
    "Воспользуйтесь принципами полиморфизма, наследования и инкапсуляции."
   ]
  },
  {
   "cell_type": "code",
   "execution_count": 13,
   "metadata": {},
   "outputs": [
    {
     "name": "stdout",
     "output_type": "stream",
     "text": [
      "Overwriting t6.py\n"
     ]
    }
   ],
   "source": [
    "%%writefile t6.py\n",
    "\n",
    "class Animal:\n",
    "    __name = \"unknown\"\n",
    "    __age = \"unknown\"\n",
    "    __description = \"-\"\n",
    "\n",
    "    def __init__(self, name, age):\n",
    "        self.__name = name\n",
    "        self.__age = age\n",
    "\n",
    "    def get_name(self):\n",
    "        return self.__name\n",
    "    \n",
    "    def get_age(self):\n",
    "        return self.__age\n",
    "    \n",
    "    def get_description(self):\n",
    "        return self.__description\n",
    "    \n",
    "    def set_description(self, description):\n",
    "        self.__description = description\n",
    "\n",
    "    def __str__(self):\n",
    "        return self.get_str()\n",
    "\n",
    "\n",
    "class Zebra(Animal):\n",
    "    __number_of_legs = 4\n",
    "    \n",
    "    def __init__(self, name, age, number_of_legs):\n",
    "        super().__init__(name, age)\n",
    "        self.__number_of_legs = number_of_legs\n",
    "        \n",
    "    def get_legs(self):\n",
    "        return self.__number_of_legs\n",
    "    \n",
    "    def get_str(self):\n",
    "        return f\"Name: {self.get_name()}; Age: {self.get_age()}; \\\n",
    "                        N of legs: {self.get_legs()}\\n---\"\n",
    "\n",
    "\n",
    "class Dolphin(Animal):\n",
    "    def get_str(self):\n",
    "        return f\"Name: {self.get_name()}; Age: {self.get_age()};\\n---\"\n",
    "    \n",
    "    \n",
    "    def swim_across_the_ocean(self):\n",
    "        print('Swimming...')\n",
    "    pass\n",
    "\n",
    "# z = Zebra(\"Zebra1\", \"118\", number_of_legs=5)\n",
    "# z.set_description(\"This is Zebra1 - the best zebra there is. It has 5 legs!\")\n",
    "\n",
    "# d = Dolphin(\"Jonny\", \"4\")\n",
    "# d.set_description(\"This is Dolphin Jonny - he is 5yr old.\")\n",
    "\n",
    "# print(z)\n",
    "# print(d)"
   ]
  },
  {
   "cell_type": "code",
   "execution_count": 14,
   "metadata": {},
   "outputs": [
    {
     "name": "stdout",
     "output_type": "stream",
     "text": [
      "Name: Zebra1; Age: 118;                         N of legs: 5\n",
      "---\n",
      "Name: Jonny; Age: 4;\n",
      "---\n",
      "Swimming...\n"
     ]
    }
   ],
   "source": [
    "import t6\n",
    "t6 = reload(t6)\n",
    "\n",
    "z = t6.Zebra(\"Zebra1\", \"118\", 5)\n",
    "z.set_description(\"This is Zebra1 - the best zebra there is. It has 5 legs!\")\n",
    "\n",
    "d = t6.Dolphin(\"Jonny\", \"4\")\n",
    "d.set_description(\"This is Dolphin Jonny - he is 5yr old.\")\n",
    "\n",
    "print(z)\n",
    "print(d)\n",
    "d.swim_across_the_ocean()"
   ]
  },
  {
   "cell_type": "code",
   "execution_count": 15,
   "metadata": {},
   "outputs": [
    {
     "name": "stdout",
     "output_type": "stream",
     "text": [
      "parsing t6.py...\n"
     ]
    },
    {
     "data": {
      "image/svg+xml": [
       "<svg xmlns=\"http://www.w3.org/2000/svg\" xmlns:xlink=\"http://www.w3.org/1999/xlink\" width=\"262pt\" height=\"246pt\" viewBox=\"0.00 0.00 261.50 246.00\">\n",
       "<g id=\"graph0\" class=\"graph\" transform=\"scale(1 1) rotate(0) translate(4 242)\">\n",
       "<title>classes</title>\n",
       "<polygon fill=\"white\" stroke=\"none\" points=\"-4,4 -4,-242 257.5,-242 257.5,4 -4,4\"/>\n",
       "<!-- 0 -->\n",
       "<g id=\"node1\" class=\"node\"><title>0</title>\n",
       "<polygon fill=\"none\" stroke=\"black\" points=\"63.5,-122.5 63.5,-237.5 236.5,-237.5 236.5,-122.5 63.5,-122.5\"/>\n",
       "<text text-anchor=\"middle\" x=\"150\" y=\"-222.3\" font-family=\"Times New Roman,serif\" font-size=\"14.00\">Animal</text>\n",
       "<polyline fill=\"none\" stroke=\"black\" points=\"63.5,-214.5 236.5,-214.5 \"/>\n",
       "<polyline fill=\"none\" stroke=\"black\" points=\"63.5,-190.5 236.5,-190.5 \"/>\n",
       "<text text-anchor=\"start\" x=\"71.5\" y=\"-175.3\" font-family=\"Times New Roman,serif\" font-size=\"14.00\">get_age()</text>\n",
       "<text text-anchor=\"start\" x=\"71.5\" y=\"-160.3\" font-family=\"Times New Roman,serif\" font-size=\"14.00\">get_description()</text>\n",
       "<text text-anchor=\"start\" x=\"71.5\" y=\"-145.3\" font-family=\"Times New Roman,serif\" font-size=\"14.00\">get_name()</text>\n",
       "<text text-anchor=\"start\" x=\"71.5\" y=\"-130.3\" font-family=\"Times New Roman,serif\" font-size=\"14.00\">set_description(description)</text>\n",
       "</g>\n",
       "<!-- 1 -->\n",
       "<g id=\"node2\" class=\"node\"><title>1</title>\n",
       "<polygon fill=\"none\" stroke=\"black\" points=\"0,-0.5 0,-85.5 164,-85.5 164,-0.5 0,-0.5\"/>\n",
       "<text text-anchor=\"middle\" x=\"82\" y=\"-70.3\" font-family=\"Times New Roman,serif\" font-size=\"14.00\">Dolphin</text>\n",
       "<polyline fill=\"none\" stroke=\"black\" points=\"0,-62.5 164,-62.5 \"/>\n",
       "<polyline fill=\"none\" stroke=\"black\" points=\"0,-38.5 164,-38.5 \"/>\n",
       "<text text-anchor=\"start\" x=\"8\" y=\"-23.3\" font-family=\"Times New Roman,serif\" font-size=\"14.00\">get_str()</text>\n",
       "<text text-anchor=\"start\" x=\"8\" y=\"-8.3\" font-family=\"Times New Roman,serif\" font-size=\"14.00\">swim_across_the_ocean()</text>\n",
       "</g>\n",
       "<!-- 1&#45;&gt;0 -->\n",
       "<g id=\"edge1\" class=\"edge\"><title>1-&gt;0</title>\n",
       "<path fill=\"none\" stroke=\"black\" d=\"M102.957,-85.606C107.393,-94.4125 112.178,-103.912 116.938,-113.363\"/>\n",
       "<polygon fill=\"none\" stroke=\"black\" points=\"113.858,-115.029 121.483,-122.385 120.11,-111.879 113.858,-115.029\"/>\n",
       "</g>\n",
       "<!-- 2 -->\n",
       "<g id=\"node3\" class=\"node\"><title>2</title>\n",
       "<polygon fill=\"none\" stroke=\"black\" points=\"182.5,-0.5 182.5,-85.5 253.5,-85.5 253.5,-0.5 182.5,-0.5\"/>\n",
       "<text text-anchor=\"middle\" x=\"218\" y=\"-70.3\" font-family=\"Times New Roman,serif\" font-size=\"14.00\">Zebra</text>\n",
       "<polyline fill=\"none\" stroke=\"black\" points=\"182.5,-62.5 253.5,-62.5 \"/>\n",
       "<polyline fill=\"none\" stroke=\"black\" points=\"182.5,-38.5 253.5,-38.5 \"/>\n",
       "<text text-anchor=\"start\" x=\"190.5\" y=\"-23.3\" font-family=\"Times New Roman,serif\" font-size=\"14.00\">get_legs()</text>\n",
       "<text text-anchor=\"start\" x=\"190.5\" y=\"-8.3\" font-family=\"Times New Roman,serif\" font-size=\"14.00\">get_str()</text>\n",
       "</g>\n",
       "<!-- 2&#45;&gt;0 -->\n",
       "<g id=\"edge2\" class=\"edge\"><title>2-&gt;0</title>\n",
       "<path fill=\"none\" stroke=\"black\" d=\"M197.043,-85.606C192.607,-94.4125 187.822,-103.912 183.062,-113.363\"/>\n",
       "<polygon fill=\"none\" stroke=\"black\" points=\"179.89,-111.879 178.517,-122.385 186.142,-115.029 179.89,-111.879\"/>\n",
       "</g>\n",
       "</g>\n",
       "</svg>"
      ],
      "text/plain": [
       "<IPython.core.display.SVG object>"
      ]
     },
     "execution_count": 15,
     "metadata": {},
     "output_type": "execute_result"
    }
   ],
   "source": [
    "!pyreverse -o t6.svg t6.py\n",
    "SVG('classes.t6.svg')"
   ]
  }
 ],
 "metadata": {
  "kernelspec": {
   "display_name": "Python 3",
   "language": "python",
   "name": "python3"
  },
  "language_info": {
   "codemirror_mode": {
    "name": "ipython",
    "version": 3
   },
   "file_extension": ".py",
   "mimetype": "text/x-python",
   "name": "python",
   "nbconvert_exporter": "python",
   "pygments_lexer": "ipython3",
   "version": "3.8.5"
  },
  "toc": {
   "base_numbering": 1,
   "nav_menu": {
    "height": "278px",
    "width": "393px"
   },
   "number_sections": true,
   "sideBar": true,
   "skip_h1_title": false,
   "title_cell": "Table of Contents",
   "title_sidebar": "Contents",
   "toc_cell": false,
   "toc_position": {},
   "toc_section_display": true,
   "toc_window_display": false
  },
  "varInspector": {
   "cols": {
    "lenName": 16,
    "lenType": 16,
    "lenVar": 40
   },
   "kernels_config": {
    "python": {
     "delete_cmd_postfix": "",
     "delete_cmd_prefix": "del ",
     "library": "var_list.py",
     "varRefreshCmd": "print(var_dic_list())"
    },
    "r": {
     "delete_cmd_postfix": ") ",
     "delete_cmd_prefix": "rm(",
     "library": "var_list.r",
     "varRefreshCmd": "cat(var_dic_list()) "
    }
   },
   "types_to_exclude": [
    "module",
    "function",
    "builtin_function_or_method",
    "instance",
    "_Feature"
   ],
   "window_display": false
  }
 },
 "nbformat": 4,
 "nbformat_minor": 4
}
