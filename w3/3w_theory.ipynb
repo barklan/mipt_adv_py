{
 "cells": [
  {
   "cell_type": "markdown",
   "metadata": {},
   "source": [
    "# Работа с файлами"
   ]
  },
  {
   "cell_type": "markdown",
   "metadata": {},
   "source": [
    "'r' \tоткрытие на чтение (является значением по умолчанию).\\\n",
    "'w' \tоткрытие на запись, содержимое файла удаляется, если файла не существует, создается новый. \\\n",
    "'x' \tоткрытие на запись, если файла не существует, иначе исключение. \\\n",
    "'a' \tоткрытие на дозапись, информация добавляется в конец файла. \\\n",
    "'b' \tоткрытие в двоичном режиме. \\\n",
    "'t' \tоткрытие в текстовом режиме (является значением по умолчанию). \\\n",
    "'+' \tоткрытие на чтение и запись"
   ]
  },
  {
   "cell_type": "markdown",
   "metadata": {},
   "source": [
    "Атрибут \tЗначение \\\n",
    "file.closed \tВозвращает True если файл был закрыт. \\\n",
    "file.mode \tВозвращает режим доступа, с которым был открыт файл. \\\n",
    "file.name \tВозвращает имя файла. \\"
   ]
  },
  {
   "cell_type": "markdown",
   "metadata": {},
   "source": [
    "Через конструкцию with можно открывать сразу несколько файлов:"
   ]
  },
  {
   "cell_type": "code",
   "execution_count": null,
   "metadata": {},
   "outputs": [],
   "source": [
    "with open(\"input.txt\", \"r\") as input, open(\"output.txt\", \"w\") as output:\n",
    "    output.write(input.read()) #скопировали содержимое input в output"
   ]
  },
  {
   "cell_type": "markdown",
   "metadata": {},
   "source": [
    "Чтобы считать из файла целую строку, используется метод readline(max_len). Если указать параметр max_len, то будут считаны максимум max_len символов"
   ]
  },
  {
   "cell_type": "code",
   "execution_count": null,
   "metadata": {},
   "outputs": [],
   "source": [
    "with open(\"text.txt\", \"r\") as file:\n",
    "    print(file.readline()) #считали и вывели первую строку файла"
   ]
  },
  {
   "cell_type": "markdown",
   "metadata": {},
   "source": [
    "На самом деле у нашего объекта файла есть итератор, поэтому перебирать строки внутри файла можно с его помощью:"
   ]
  },
  {
   "cell_type": "code",
   "execution_count": null,
   "metadata": {},
   "outputs": [],
   "source": [
    "with open(\"text.txt\", \"r\") as file:\n",
    "    for line in file:\n",
    "        print(line)"
   ]
  },
  {
   "cell_type": "markdown",
   "metadata": {},
   "source": [
    "**Упражнение 1:** создайте произвольный текстовый файл с несколькими строками произвольного текста. Выведите в консоль строки файла, удалив лишние пробелы в начале и конце строк, если они есть. \\"
   ]
  },
  {
   "cell_type": "code",
   "execution_count": null,
   "metadata": {},
   "outputs": [],
   "source": [
    "with open(\"file_1task\", \"w\") as file:\n",
    "    file.write(\"dfddfdsfs\\n\" + \"fdfdfdf\")\n",
    "with open(\"file_1task\", \"r\") as file:\n",
    "    for line in file:\n",
    "        print(line.strip())"
   ]
  },
  {
   "cell_type": "markdown",
   "metadata": {},
   "source": [
    "**Упражнение 2:** запишите в новый файл содержимое списка строк (каждую строку с новой строки) без использования цикла.\n"
   ]
  },
  {
   "cell_type": "code",
   "execution_count": null,
   "metadata": {},
   "outputs": [],
   "source": [
    "def write_array(arr, file_name):\n",
    "    arr = map(lambda x : x+'\\n', arr)\n",
    "    file_name.writelines(arr)\n",
    "    \n",
    "list1 = [\"abc\", \"bca\", \"cda\"]\n",
    "with open(\"file_2task\", \"w\") as file:\n",
    "    write_array(list1, file)\n",
    "with open(\"file_2task\", \"r\") as file:\n",
    "    for line in file:\n",
    "        print(line.strip())"
   ]
  },
  {
   "cell_type": "markdown",
   "metadata": {},
   "source": [
    "# Работа с файловой системой"
   ]
  },
  {
   "cell_type": "code",
   "execution_count": null,
   "metadata": {},
   "outputs": [],
   "source": [
    "import os"
   ]
  },
  {
   "cell_type": "code",
   "execution_count": null,
   "metadata": {},
   "outputs": [],
   "source": [
    "os.listdir() # os.listdir(dir) перечисялет файлы и папки в указанной директории dir."
   ]
  },
  {
   "cell_type": "markdown",
   "metadata": {},
   "source": [
    "#### Текущая папка"
   ]
  },
  {
   "cell_type": "markdown",
   "metadata": {},
   "source": [
    "Относительные пути строятся относительно текущей папки. Чтобы получить абсолютный путь файла из относительного, используется функция **os.path.abspath(file_path)**. Чтобы узнать, какая папка является текущей, можно вызвать функцию **os.getcwd()**. Для смены текущей папки используется **os.chdir(new_dir)**."
   ]
  },
  {
   "cell_type": "markdown",
   "metadata": {},
   "source": [
    "#### Проверка существования файла или папки и определение, является ли имя файлом или папкой"
   ]
  },
  {
   "cell_type": "markdown",
   "metadata": {},
   "source": [
    "**os.path.exists(file_name)** проверяет, существует ли указанный файл (или директория) file_name.\n",
    "\n",
    "Чтобы проверить, является ли данное имя name файлом или папкой, можно воспользоваться функциями **os.isdir(name)** или **os.isfile(name)**, которые возвращают True или False."
   ]
  },
  {
   "cell_type": "markdown",
   "metadata": {},
   "source": [
    "#### Рекурсивный обход папок\n",
    "Одной из самых интересных и мощных функций является функция os.walk(dir) - она позволяет рекурсивно пройтись по всем папкам, подпапкам, их подпапкам и так далее. На самом деле она возвращает генератор (последовательность элементов). Каждый элемент представляеьт собой кортеж из 3х элементов. Первый элемнт - строковое представление директории текущей директории, которую просматривает функция. Вторым элементом - список всех подпапок данной директории, а третьим - список всех файлов этой директории."
   ]
  },
  {
   "cell_type": "code",
   "execution_count": null,
   "metadata": {},
   "outputs": [],
   "source": [
    "for current_dir, dirs, files in os.walk(\".\"): #передаем в качестве аргумента текущую директорию\n",
    "                                              #(\".\" - означает именно ее)\n",
    "    print(current_dir, dirs, files)           #выведем, что получается"
   ]
  },
  {
   "cell_type": "markdown",
   "metadata": {},
   "source": [
    "#### Копирование файлов\n",
    "Копировать файлы можно при помощи функции copy из модуля shutil"
   ]
  },
  {
   "cell_type": "code",
   "execution_count": null,
   "metadata": {},
   "outputs": [],
   "source": [
    "import shutil\n",
    "shutil.copy(\"input.txt\", \"output.txt\")"
   ]
  },
  {
   "cell_type": "markdown",
   "metadata": {},
   "source": [
    "Копировать папки можно с помощью copytree из того же модуля:"
   ]
  },
  {
   "cell_type": "code",
   "execution_count": null,
   "metadata": {},
   "outputs": [],
   "source": [
    "shutil.copytree(\"test\", \"test/test2\") #Скопирует папку test внутрь неё самой же в подпапку test2"
   ]
  },
  {
   "cell_type": "markdown",
   "metadata": {},
   "source": [
    "**Упражнение 3:** Вам дана в архиве **main.zip** файловая структура, состоящая из директорий и файлов.\n",
    "\n",
    "Вам необходимо распаковать этот архив (средствами языка python), и затем найти в данной в файловой структуре все директории, в которых есть хотя бы один файл с расширением “.py”.\n",
    "\n",
    "Ответом на данную задачу будет являться файл со списком таких директорий, отсортированных в лексикографическом порядке."
   ]
  },
  {
   "cell_type": "code",
   "execution_count": null,
   "metadata": {},
   "outputs": [],
   "source": [
    "import zipfile\n",
    "with zipfile.ZipFile(\"main.zip\", 'r') as zip_ref:\n",
    "    zip_ref.extractall(\"main_contents\")"
   ]
  },
  {
   "cell_type": "code",
   "execution_count": 30,
   "metadata": {},
   "outputs": [
    {
     "name": "stdout",
     "output_type": "stream",
     "text": [
      "main_contents\\main\\olmhl\\mmtsz\\nujko\\ywjka\\pxjip\\wthmo\\wtgrc\\mgplg\\rbyav\\ppeir\\subdi\\zljoz\\kgdme\\jhhbu\\dufxr\\xroxl\\rgunj\\bdcjg\\xpmcm\n",
      "main_contents\\main\\olmhl\\mmtsz\\nujko\\ywjka\\pxjip\\wthmo\\wtgrc\\mgplg\\rbyav\\ppeir\\subdi\\zljoz\\kgdme\\jhhbu\\rnqwd\\purto\\bkfog\\rvsfo\\rpnzm\\ilogc\n",
      "main_contents\\main\\ksuvk\\xjrqt\\qdbqt\\hotgx\n",
      "main_contents\\main\\olmhl\\mmtsz\\nujko\\ywjka\\pxjip\\wthmo\\wtgrc\\zfukg\\jvmme\\vynzv\n",
      "main_contents\\main\\olmhl\\mmtsz\\nujko\\ywjka\\pxjip\\wthmo\\wtgrc\\mgplg\\rbyav\\ppeir\\subdi\\afrqp\\iaujh\\jqjsg\\xriod\n",
      "main_contents\\main\\olmhl\\mmtsz\\nujko\\ywjka\\pxjip\\wthmo\\wtgrc\\mgplg\\rbyav\\uaodv\n",
      "main_contents\\main\\olmhl\\mmtsz\\nujko\\ywjka\\pxjip\\wthmo\\wtgrc\\mgplg\\rbyav\\ppeir\\subdi\\zljoz\\kgdme\\evnvn\\axqur\\itkcz\n",
      "main_contents\\main\\taivr\\yptwa\\xsbzr\\hcasz\\ilitr\\urguw\\sjmeg\\ddnaa\\jxhbl\\lradw\\iglcm\n",
      "main_contents\\main\\olmhl\\mmtsz\\nujko\\ywjka\\pxjip\\wthmo\\wtgrc\\mgplg\\rbyav\\ppeir\\subdi\\zljoz\\kgdme\\jhhbu\\rnqwd\\purto\\bkfog\\rvsfo\\rpnzm\\ilogc\\reshp\n",
      "main_contents\\main\\olmhl\\mmtsz\\nujko\\ywjka\\pxjip\\wthmo\\wtgrc\\zfukg\\jvmme\\eayzq\\wfnda\n",
      "main_contents\\main\\zduna\\ywucw\n",
      "main_contents\\main\\olmhl\\mmtsz\\nujko\\ywjka\\pxjip\\wthmo\\wtgrc\\mgplg\\rbyav\\qosgw\n",
      "main_contents\\main\\olmhl\\mmtsz\\nujko\\ywjka\\pxjip\\wthmo\\wtgrc\\zfukg\\cazio\\sosdj\n",
      "main_contents\\main\\taivr\\yptwa\\xsbzr\\hcasz\\ilitr\\urguw\\sjmeg\\ddnaa\\ckaab\n",
      "main_contents\\main\\uvvuz\n",
      "main_contents\\main\\olmhl\\mmtsz\\nujko\\ywjka\\pxjip\\wthmo\\wtgrc\\mgplg\\rbyav\\ppeir\\subdi\\zljoz\\kgdme\\jhhbu\\dufxr\\hlgup\\auqky\n",
      "main_contents\\main\\olmhl\\mmtsz\\phcap\n",
      "main_contents\\main\\olmhl\\mmtsz\\nujko\\ywjka\\pxjip\\wthmo\\wtgrc\\mgplg\\rbyav\\ppeir\\subdi\\zljoz\\kgdme\\jhhbu\\dufxr\\xroxl\\rgunj\\bdcjg\n",
      "main_contents\\main\\taivr\n",
      "main_contents\\main\\olmhl\\mmtsz\\nujko\\ywjka\\pxjip\\wthmo\\wtgrc\\zfukg\n",
      "main_contents\\main\\ksuvk\\xjrqt\\qdbqt\\hotgx\\izwwv\n",
      "main_contents\\main\\olmhl\\mmtsz\\nujko\\ywjka\\pxjip\\wthmo\\wtgrc\\mgplg\\rbyav\\ppeir\\subdi\\zljoz\\kgdme\\jhhbu\\rnqwd\\purto\\bsgqc\\ujtgh\\tyapv\n",
      "main_contents\\main\\taivr\\yptwa\\xsbzr\n",
      "main_contents\\main\\olmhl\\mmtsz\\nujko\\ywjka\\pxjip\\wthmo\\wtgrc\\kztxg\\qwlrx\\nfcxf\n",
      "main_contents\\main\\olmhl\\mmtsz\\nujko\\ywjka\\pxjip\\wthmo\\wtgrc\\mgplg\\rbyav\\ppeir\\subdi\\afrqp\\iaujh\\jqnsz\n",
      "main_contents\\main\\hgyoc\n",
      "main_contents\\main\\olmhl\\mmtsz\\nujko\\ywjka\\pxjip\\wthmo\\wtgrc\\zfukg\\jvmme\\eayzq\\isyki\n",
      "main_contents\\main\\olmhl\\mmtsz\\nujko\\ywjka\n",
      "main_contents\\main\\olmhl\\mmtsz\\nujko\\ywjka\\pxjip\\wthmo\\wtgrc\\kztxg\\qwlrx\\lirot\n",
      "main_contents\\main\\taivr\\yptwa\\xsbzr\\hcasz\\ilitr\\urguw\\sjmeg\\ddnaa\\lszec\n",
      "main_contents\\main\\afkgv\n",
      "main_contents\\main\\taivr\\bcsow\n",
      "main_contents\\main\\olmhl\\mmtsz\\nujko\\ywjka\\pxjip\\wthmo\\wtgrc\\mgplg\\rbyav\\ppeir\\subdi\\zljoz\\kgdme\\jhhbu\\rnqwd\\purto\n",
      "main_contents\\main\\olmhl\\mmtsz\\nujko\\ywjka\\pxjip\\wthmo\\wtgrc\\mgplg\\rbyav\\ppeir\\subdi\\zljoz\\kgdme\\jhhbu\\rnqwd\\purto\\bsgqc\\ujtgh\n",
      "main_contents\\main\\taivr\\yptwa\\xsbzr\\hcasz\\ilitr\\joejy\n",
      "main_contents\\main\\taivr\\yptwa\\xsbzr\\hcasz\\ilitr\\urguw\\sjmeg\\ddnaa\\jxhbl\\lradw\n",
      "main_contents\\main\\ksuvk\\xjrqt\n",
      "main_contents\\main\\olmhl\\mmtsz\\nujko\\ywjka\\pxjip\\wthmo\\wtgrc\\mgplg\\rbyav\\ppeir\\subdi\\zljoz\\sgmoj\n",
      "main_contents\\main\\taivr\\yptwa\\xsbzr\\hcasz\\ilitr\\urguw\\sjmeg\\ddnaa\n",
      "main_contents\\main\\olmhl\\mmtsz\\nujko\\ywjka\\pxjip\\wthmo\n",
      "main_contents\\main\\olmhl\\mmtsz\\nujko\\ywjka\\pxjip\\wthmo\\wtgrc\\mgplg\\rbyav\\ppeir\\subdi\\zljoz\\kgdme\\jhhbu\\rnqwd\\purto\\bkfog\\rvsfo\\rpnzm\\kafov\\iites\\ygtox\\bpmhg\n",
      "main_contents\\main\\olmhl\\mmtsz\\nujko\\ywjka\\pxjip\\wthmo\\wtgrc\\mgplg\\rbyav\\ppeir\\subdi\\zljoz\\kgdme\\jhhbu\\rnqwd\\purto\\bkfog\n",
      "main_contents\\main\\olmhl\\mmtsz\\nujko\\ywjka\\pxjip\\wthmo\\wtgrc\\mgplg\\rbyav\\ppeir\\subdi\\zljoz\\kgdme\\jhhbu\\dufxr\\xroxl\\abslw\n",
      "main_contents\\main\\olmhl\\mmtsz\\nujko\\ywjka\\pxjip\\wthmo\\wtgrc\\mgplg\\rbyav\\ppeir\\subdi\\zljoz\\kgdme\\jhhbu\\dufxr\\xroxl\\rgunj\\bdcjg\\ktkfx\n",
      "main_contents\\main\n",
      "main_contents\\main\\olmhl\\mmtsz\\nujko\\ywjka\\pxjip\n",
      "main_contents\\main\\olmhl\\mmtsz\\nujko\\ywjka\\pxjip\\wthmo\\wtgrc\\zfukg\\jvmme\\wvwva\\jebnq\\phcud\n",
      "main_contents\\main\\hgyoc\\ycbxr\\ivjta\n",
      "main_contents\\main\\olmhl\\mmtsz\\nujko\\ywjka\\pxjip\\wthmo\\wtgrc\\mgplg\\rbyav\\ppeir\\subdi\\zljoz\\kgdme\\jhhbu\\rnqwd\\purto\\bkfog\\rvsfo\\rpnzm\\kafov\n",
      "main_contents\\main\\olmhl\\mmtsz\\nujko\\ywjka\\pxjip\\wthmo\\wtgrc\\juoxd\n",
      "main_contents\\main\\olmhl\\mmtsz\\nujko\\ywjka\\pxjip\\wthmo\\wtgrc\\zfukg\\cazio\\sosdj\\uuyrs\n",
      "main_contents\\main\\olmhl\\mmtsz\\nujko\\ywjka\\pxjip\\wthmo\\wtgrc\\zfukg\\jvmme\\kehsm\n",
      "main_contents\\main\\olmhl\\mmtsz\\nujko\\ywjka\\pxjip\\wthmo\\wtgrc\\mgplg\\rbyav\\ppeir\\subdi\\zljoz\\kgdme\\jhhbu\\dufxr\\xroxl\n",
      "main_contents\\main\\olmhl\\mmtsz\\nujko\\ywjka\\pxjip\\wthmo\\wtgrc\\mgplg\\rbyav\\ppeir\\subdi\\zljoz\\kgdme\\jhhbu\\rnqwd\\purto\\bkfog\\rvsfo\\rpnzm\\kafov\\iites\\ygtox\\rhvqn\\ggfcr\\kxyxy\\qrxwt\n",
      "main_contents\\main\\olmhl\\mmtsz\n",
      "main_contents\\main\\sitdc\n",
      "main_contents\\main\\olmhl\\mmtsz\\nujko\\ywjka\\pxjip\\wthmo\\wtgrc\\mgplg\\rbyav\\ppeir\\subdi\\zljoz\\kgdme\\jhhbu\\dufxr\\xroxl\\rgunj\\bdcjg\\vkntp\\rjqjr\n",
      "main_contents\\main\\olmhl\\mmtsz\\nujko\\ywjka\\pxjip\\wthmo\\wtgrc\\mgplg\\rbyav\n",
      "main_contents\\main\\olmhl\\mmtsz\\nujko\\ywjka\\pxjip\\wthmo\\wtgrc\\mgplg\\rbyav\\ppeir\\subdi\\zljoz\\kgdme\\jhhbu\\dufxr\\xroxl\\rgunj\\bdcjg\\vkntp\n",
      "main_contents\\main\\olmhl\\mmtsz\\nujko\\ywjka\\pxjip\\wthmo\\wtgrc\\zfukg\\jvmme\\wvwva\n",
      "main_contents\\main\\olmhl\\mmtsz\\nujko\\ywjka\\pxjip\\wthmo\\wtgrc\\grnfu\n",
      "main_contents\\main\\olmhl\\mmtsz\\nujko\\ywjka\\pxjip\\wthmo\\wtgrc\\zfukg\\jvmme\\eayzq\\nuiwj\n",
      "main_contents\\main\\olmhl\\mmtsz\\nujko\\ywjka\\pxjip\\wthmo\\wtgrc\\mgplg\\rbyav\\ppeir\\subdi\\zljoz\\kgdme\\jhhbu\\rnqwd\\purto\\bkfog\\rvsfo\n",
      "main_contents\\main\\hgyoc\\kwawh\n",
      "main_contents\\main\\olmhl\\mmtsz\\nujko\\ywjxy\n",
      "main_contents\\main\\olmhl\\mmtsz\\nujko\\ywjka\\pxjip\\wthmo\\wtgrc\\zfukg\\cazio\\sosdj\\rcsvd\n",
      "main_contents\\main\\olmhl\\mmtsz\\nujko\\ywjka\\pxjip\\wthmo\\wtgrc\\mgplg\\rbyav\\ppeir\\subdi\\zljoz\\kgdme\\jhhbu\\dufxr\n",
      "main_contents\\main\\olmhl\\mmtsz\\nujko\\ywjka\\pxjip\\wthmo\\wtgrc\\zfukg\\jvmme\\wvwva\\jebnq\\kjmeo\n",
      "main_contents\\main\\olmhl\\mmtsz\\nujko\\ywjka\\pxjip\\wthmo\\wtgrc\\mgplg\\rbyav\\ppeir\\subdi\\zljoz\n",
      "main_contents\\main\\olmhl\\mmtsz\\nujko\\ywjka\\pxjip\\wthmo\\wtgrc\\zfukg\\vydse\n",
      "main_contents\\main\\olmhl\\mmtsz\\nujko\\ywjka\\pxjip\\wthmo\\rwwuw\n",
      "main_contents\\main\\olmhl\\mmtsz\\nujko\\ywjka\\pxjip\\wthmo\\wtgrc\\mgplg\\rbyav\\ppeir\\subdi\\zljoz\\kgdme\\jhhbu\\rnqwd\\purto\\bkfog\\rvsfo\\gvbnv\n",
      "main_contents\\main\\olmhl\\mmtsz\\nujko\\ywjka\\pxjip\\wthmo\\wtgrc\\mgplg\\rbyav\\ppeir\\subdi\\zljoz\\kgdme\\jhhbu\\rnqwd\\purto\\bkfog\\rvsfo\\rpnzm\n",
      "main_contents\\main\\qkseh\n",
      "main_contents\\main\\olmhl\\mmtsz\\nujko\\ywjka\\pxjip\\wthmo\\wtgrc\\zfukg\\jvmme\\eayzq\\tixoq\\lldpv\n",
      "main_contents\\main\\olmhl\\mmtsz\\nujko\\ywjka\\pxjip\\wthmo\\wtgrc\\mgplg\\rbyav\\ppeir\\subdi\\zljoz\\kgdme\\evnvn\\axqur\n",
      "main_contents\\main\\olmhl\\mmtsz\\nujko\\ywjka\\pxjip\\wthmo\\wtgrc\\mgplg\\rbyav\\ppeir\\subdi\\zljoz\\kgdme\\jhhbu\\rnqwd\\purto\\hmnro\\jtmnb\n",
      "main_contents\\main\\olmhl\\mmtsz\\nujko\\ywjka\\pxjip\\wthmo\\wtgrc\\mgplg\\rbyav\\ppeir\\subdi\n",
      "main_contents\\main\\olmhl\\mmtsz\\nujko\\ywjka\\pxjip\\wthmo\\wtgrc\\mgplg\\rbyav\\ppeir\\subdi\\zljoz\\kgdme\\jhhbu\\rnqwd\\purto\\bkfog\\rvsfo\\rpnzm\\kafov\\iites\\ygtox\\rhvqn\n",
      "main_contents\\main\\olmhl\\mmtsz\\nujko\\ywjka\\pxjip\\wthmo\\wtgrc\\mgplg\\rbyav\\ppeir\\subdi\\zljoz\\xrvnu\n",
      "main_contents\\main\\hgyoc\\kwawh\\rzgzv\n",
      "main_contents\\main\\olmhl\\mmtsz\\nujko\\ywjka\\pxjip\\wthmo\\wtgrc\\kztxg\\qwlrx\n",
      "main_contents\\main\\lqbli\\otofk\n",
      "main_contents\\main\\olmhl\\mmtsz\\nujko\\ywjka\\pxjip\\wthmo\\wtgrc\\kztxg\\qwlrx\\djozj\n",
      "main_contents\\main\\olmhl\\mmtsz\\nujko\\ywjka\\pxjip\\wthmo\\wtgrc\\mgplg\\rbyav\\ppeir\\subdi\\afrqp\\iaujh\n",
      "main_contents\\main\\olmhl\\mmtsz\\nujko\\ywjka\\pxjip\\wthmo\\wtgrc\\mgplg\\rbyav\\ppeir\\subdi\\zljoz\\kgdme\\jhhbu\\rnqwd\\purto\\bkfog\\rvsfo\\rpnzm\\kafov\\iites\\ygtox\\rhvqn\\ggfcr\n",
      "main_contents\\main\\uvvuz\\ksnof\n",
      "main_contents\\main\\taivr\\yptwa\\xsbzr\\hcasz\\ilitr\\urguw\\sjmeg\\ddnaa\\lszec\\wdftb\\mhqps\n",
      "main_contents\\main\\olmhl\\mmtsz\\nujko\\ywjka\\pxjip\\wthmo\\wtgrc\\zfukg\\jvmme\n",
      "main_contents\\main\\olmhl\\mmtsz\\nujko\\ywjka\\pxjip\\wthmo\\wtgrc\n",
      "main_contents\\main\\olmhl\\mmtsz\\nujko\\ywjka\\pxjip\\wthmo\\wtgrc\\mgplg\\rbyav\\ppeir\\subdi\\zljoz\\kgdme\n",
      "main_contents\\main\\taivr\\yptwa\\xsbzr\\hcasz\\ilitr\\urguw\\sjmeg\\ddnaa\\jxhbl\\tpdvr\n",
      "main_contents\\main\\olmhl\\mmtsz\\nujko\\ywjka\\pxjip\\wthmo\\wtgrc\\mgplg\\rbyav\\ppeir\\subdi\\zljoz\\kgdme\\jhhbu\\rnqwd\n",
      "main_contents\\main\\lqbli\\otofk\\armko\n",
      "main_contents\\main\\olmhl\\mmtsz\\nujko\\ywjka\\pxjip\\wthmo\\wtgrc\\mgplg\\rbyav\\ppeir\\subdi\\zljoz\\kgdme\\jhhbu\\dufxr\\sxojq\n",
      "main_contents\\main\\olmhl\\mmtsz\\nujko\\ywjka\\pxjip\\wthmo\\wtgrc\\zfukg\\cazio\\sosdj\\yujjk\n",
      "main_contents\\main\\olmhl\\mmtsz\\nujko\\ywjka\\pxjip\\wthmo\\wtgrc\\zfukg\\cazio\n",
      "main_contents\\main\\frtrl\n",
      "main_contents\\main\\olmhl\\mmtsz\\nujko\\ywjka\\pxjip\\wthmo\\wtgrc\\mgplg\\rbyav\\ppeir\\subdi\\zljoz\\kgdme\\jhhbu\\dufxr\\hlgup\n",
      "main_contents\\main\\ksuvk\\xjrqt\\qdbqt\\prkcp\\dnyyv\n",
      "main_contents\\main\\hgyoc\\kwawh\\hapry\n",
      "main_contents\\main\\mwhci\n",
      "main_contents\\main\\zyczx\n",
      "main_contents\\main\\olmhl\\mmtsz\\nujko\\ywjka\\pxjip\\wthmo\\wtgrc\\mgplg\\rbyav\\ppeir\\subdi\\afrqp\\iaujh\\jqjsg\n"
     ]
    }
   ],
   "source": [
    "import os\n",
    "out = []\n",
    "for current_dir, dirs, files in os.walk(\"main_contents\"):\n",
    "    for fl in files:\n",
    "        if (fl[-3:] == \".py\"):\n",
    "            out.append(str(current_dir))\n",
    "out = set(out)\n",
    "with open(\"file_3task\", \"w\") as file3:\n",
    "    write_array(out, file3)\n",
    "with open(\"file_3task\", \"r\") as file3:\n",
    "    for line in file3:\n",
    "        print(line.strip())"
   ]
  },
  {
   "cell_type": "markdown",
   "metadata": {},
   "source": [
    "# Распространенные форматы текстовых данных"
   ]
  },
  {
   "cell_type": "markdown",
   "metadata": {},
   "source": [
    "### csv"
   ]
  },
  {
   "cell_type": "markdown",
   "metadata": {},
   "source": [
    "csv является табличным форматом. В нем содержатся значения разделенные запятой (Comma-Separated Values). Например,"
   ]
  },
  {
   "cell_type": "code",
   "execution_count": null,
   "metadata": {},
   "outputs": [],
   "source": [
    "first name,last name,module1,module2,module3\n",
    "Nikolay,Neznaev,0,20,10\n",
    "Stepan,Sharyashiy,100,99.5,100"
   ]
  },
  {
   "cell_type": "markdown",
   "metadata": {},
   "source": [
    "Для работы с csv файлами можно воспользоваться библиотекой csv:"
   ]
  },
  {
   "cell_type": "code",
   "execution_count": null,
   "metadata": {},
   "outputs": [],
   "source": [
    "import csv\n",
    "with open(\"example.csv\", \"r\") as file:\n",
    "    reader = csv.reader(file) #На основе открытого файла получаем объект из библиотеки csv\n",
    "    for row in reader:\n",
    "        print(row)            #Каждая строка - список значений"
   ]
  },
  {
   "cell_type": "markdown",
   "metadata": {},
   "source": [
    "\n",
    "В csv.reader параметром delimeter можно передать разделитель значений, таким образом разделяющим символом в файле csv может быть не только запятая.\n",
    "Для изолирования некоторых значений можно пользоваться двойными кавычками. Библиотека csv учитывает различные мелочи, такие как строки с содержащимися в ней запятыми и переносами строки, различные разделители, поэтому ее использование целесообразнее splitа по разделителю.\n",
    "Для записи значений в csv формате используется csv.writer:\n"
   ]
  },
  {
   "cell_type": "code",
   "execution_count": null,
   "metadata": {},
   "outputs": [],
   "source": [
    "import csv\n",
    "students = [\n",
    "            [\"Greg\", \"Lebovskiy\", 70, 80, 90, \"Good job, Greg!\"],\n",
    "            [\"Nick\", \"Shalopaev\", 10, 50, 45, \"Shalopaev, you should study better!\"]\n",
    "            ]\n",
    "with open(\"example.csv\", \"a\") as file:\n",
    "    writer = csv.writer(file)            #На основе открытого файла получаем объект из библиотеки csv\n",
    "    for student in students:\n",
    "        writer.writerow(student)         #Записываем строку\n",
    "    #Вместо цикла выше мы могли сразу записать все через writer.writerows(students)"
   ]
  },
  {
   "cell_type": "markdown",
   "metadata": {},
   "source": [
    "### JSON"
   ]
  },
  {
   "cell_type": "markdown",
   "metadata": {},
   "source": [
    "\n",
    "JSON (JavaScript Object Notation) - простой формат обмена данными, удобный для чтения и написания как человеком, так и компьютером. Впервые он был придуман и использован в JavaScript для хранения структур и классов, но быстро обео свою популярность и вышел за пределы своего родителя.\n",
    "JSON основан на двух структурах данных: * Коллекция пар ключ/значение. В разных языках, эта концепция реализована как объект, запись, структура, словарь, хэш, именованный список или ассоциативный массив. * Упорядоченный список значений. В большинстве языков это реализовано как массив, вектор, список или последовательность.\n",
    "\n",
    "Это универсальные структуры данных. Почти все современные языки программирования поддерживают их в какой-либо форме. Логично предположить, что формат данных, независимый от языка программирования, должен быть основан на этих структурах.\n",
    "\n",
    "Объекты в формате JSON хранятся как словари в Python, но с некоторыми деталями: во первых, ключом в json-объекте может быть только строка, значения True и False пишутся с маленькой буквы, значению None соответствует значение null, строки хранятся только внутри двойных кавычек.\n",
    "\n",
    "Для удобной работы с json файлами в языке python можно использовать библиотеку json\n",
    "\n",
    "Например:"
   ]
  },
  {
   "cell_type": "code",
   "execution_count": null,
   "metadata": {},
   "outputs": [],
   "source": [
    "import json\n",
    "\n",
    "student1 = {\n",
    "    \"full_name\" : \"Greg Martin\",\n",
    "    \"scores\" : [100, 85, 94],\n",
    "    \"certificate\" : True,\n",
    "    \"comment\": \"Great job, Greg!\"\n",
    "}\n",
    "\n",
    "student2 = {\n",
    "    \"full_name\" : \"John Price\",\n",
    "    \"scores\" : [0, 10, 0],\n",
    "    \"certificate\" : False,\n",
    "    \"comment\": \"Guns aren't gonna help you here, captain!\"\n",
    "}\n",
    "\n",
    "data = [student1, student2]\n",
    "\n",
    "print(json.dumps(data, indent=4, sort_keys=True)) \n",
    "#Делаем отступы в 4 пробела, сортируем ключи в алфавитном порядке"
   ]
  },
  {
   "cell_type": "markdown",
   "metadata": {},
   "source": [
    "\n",
    "Для получения строкового представления объекта в формате json можно использовать **json.dumps(data, \\*\\*parrams)** с различными вспомогательными настройками (пробелы, сортировка и др.)\n",
    "Для записи в файл можно воспользоваться **json.dump(data, file_obj, \\*\\*params)**:\n"
   ]
  },
  {
   "cell_type": "code",
   "execution_count": null,
   "metadata": {},
   "outputs": [],
   "source": [
    "with open(\"output.json\", \"w\") as out:\n",
    "    json.dump(data, out, indent=4, sort_keys=True)"
   ]
  },
  {
   "cell_type": "markdown",
   "metadata": {},
   "source": [
    "Для получения объекта python на основе его срокового представления можно воспользоваться функцией **json.loads** или **json.load** для считывания из файла:"
   ]
  },
  {
   "cell_type": "code",
   "execution_count": null,
   "metadata": {},
   "outputs": [],
   "source": [
    "json_str = json.dumps(data, indent=4, sort_keys=True) #получение строкового представления json\n",
    "data_again = json.loads(json_str)                     #получаем объект python\n",
    "print(sum(data_again[0][\"scores\"]))                   #убедимся в кореектном считывании:\n",
    "                                                      #посчитаем сумму баллов у первого студента\n",
    "\n",
    "with open(\"output.json\") as file:\n",
    "   data_from_file = json.load(file)                   #считаем объект из файла\n",
    "   print(sum(data_from_file[0][\"scores\"]))            #аналогично посчитаем сумму баллов"
   ]
  },
  {
   "cell_type": "markdown",
   "metadata": {},
   "source": [
    "# Исключения"
   ]
  },
  {
   "cell_type": "markdown",
   "metadata": {},
   "source": [
    "Исключения (exceptions) - ещё один тип данных в python. Исключения необходимы для того, чтобы сообщать программисту об ошибках.\n",
    "\n",
    "Самый простейший пример исключения - деление на ноль:"
   ]
  },
  {
   "cell_type": "code",
   "execution_count": null,
   "metadata": {},
   "outputs": [],
   "source": [
    "100 / 0\n",
    "Traceback (most recent call last):\n",
    "  File \"\", line 1, in\n",
    "    100 / 0\n",
    "ZeroDivisionError: division by zero"
   ]
  },
  {
   "cell_type": "code",
   "execution_count": null,
   "metadata": {},
   "outputs": [],
   "source": []
  }
 ],
 "metadata": {
  "kernelspec": {
   "display_name": "Python 3",
   "language": "python",
   "name": "python3"
  },
  "language_info": {
   "codemirror_mode": {
    "name": "ipython",
    "version": 3
   },
   "file_extension": ".py",
   "mimetype": "text/x-python",
   "name": "python",
   "nbconvert_exporter": "python",
   "pygments_lexer": "ipython3",
   "version": "3.8.5"
  }
 },
 "nbformat": 4,
 "nbformat_minor": 4
}
