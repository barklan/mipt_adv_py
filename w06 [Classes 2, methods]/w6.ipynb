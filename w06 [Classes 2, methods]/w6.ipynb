{
 "cells": [
  {
   "cell_type": "markdown",
   "metadata": {},
   "source": [
    "# Week 6 - classmethod, staticmethod"
   ]
  },
  {
   "cell_type": "markdown",
   "metadata": {},
   "source": [
    "# Outline\n",
    "_Вам следует отработать описанные ниже пункты и убедиться, что Вы знаете каждый из них._\n",
    "## Основное\n",
    "#### SOLID\n",
    "1. Понимать все SOLID-принципов (на этой неделе разбирали оставшиеся два):\n",
    "  - Single Responsibility;\n",
    "  - Open-Close;\n",
    "  - Liskov Substitution Principle;\n",
    "  - Interface Seggregation;\n",
    "  - Dependency Inversion;\n",
    "2. Interface Seggregation - что означает.\n",
    "Суметь привести пример нарушения этого принципа и спобо исправить это нарушение.\n",
    "3. Dependency Inversion - что означает.\n",
    "Суметь привести пример нарушения этого принципа и способ исправить это нарушение.\n",
    "#### \"Magic\" methods\n",
    "4. Понимать, что такое \"Magic\" method и как Python их обрабатывает.\n",
    "5. Понимать, что `__init__()` тоже является Magic методом - он вызывается при создании класса.\n",
    "6. Суметь в своем классе определить арифметические операции, операции сравнения, взятия модуля и т.п.\n",
    "\n",
    "#### classmethod, staticmethod\n",
    "7. Понимать, что такое `classmethod`.\n",
    "8. Понимать, что такое `staticmethod`.\n",
    "9. Понимать, в чем отличие `classmethod` от `staticmethod`.\n",
    "10. Суметь привести пример того, где нужно использовать `staticmethod`.\n",
    "То же самое для `classmethod`."
   ]
  },
  {
   "cell_type": "markdown",
   "metadata": {},
   "source": [
    "# Домашнее задание по неделе 6\n",
    "Число в скобках - количество баллов.\n",
    "\n",
    "### Теория по ООП: последние два принципа из SOLID\n",
    "\n",
    "1. (1) Interface seggregation - опишите своими словами и приведите любой пример из жизни.\n",
    "Напишите это все в файл `interface_seggregation_explained.md`."
   ]
  },
  {
   "cell_type": "markdown",
   "metadata": {},
   "source": [
    "> **Interface segregation principle (ISP)** - Принцип разделения интерфейса гласит, что ни один клиент не должен зависеть от методов, которые он не использует.\n",
    "\n",
    "> **Пример - Xerox** \\\n",
    "Давным давно Xerox создала новую систему печати, которая могла выполнять множество задач, таких как сшивание и отправка факсов. Программное обеспечение для этой системы создавалось с нуля. По мере роста программного обеспечения внесение изменений становилось все труднее и труднее, так что даже самое маленькое изменение занимало цикл повторного развертывания в час, что делало разработку практически невозможной. Проблема проектирования заключалась в том, что практически для всех задач использовался один класс Job. Каждый раз, когда требовалось выполнить задание на печать или сшивание, вызывается класс Job. В результате получился «толстый» класс с множеством методов, специфичных для множества различных клиентов. Из-за этой конструкции задание сшивания будет знать обо всех методах задания печати, даже если они не нужны. Решение заключалось в применении ISP. Вместо одного большого класса Job был создан интерфейс Staple Job или интерфейс Print Job, который будет использоваться классами Staple или Print соответственно, вызывая методы класса Job."
   ]
  },
  {
   "cell_type": "markdown",
   "metadata": {},
   "source": [
    "---\n",
    "2. (1) Dependency inversion - опишите своими словами и приведите любой пример из жизни.\n",
    "Напишите это все в файл `dependency_inversion_explained.md`."
   ]
  },
  {
   "cell_type": "markdown",
   "metadata": {},
   "source": [
    "> **Dependency inversion principle** - Принцип инверсии зависимостей - это особая форма разделения программных модулей. При следовании этому принципу обычные отношения зависимости, устанавливаемые от высокоуровневых модулей к низкоуровневым модулям, меняются местами, что делает модули высокого уровня независимыми от деталей реализации модуля нижнего уровня. \n",
    "\n",
    "> Принцип гласит: \n",
    "> 1. Модули высокого уровня не должны зависеть от модулей низкого уровня.\n",
    "> 2. Абстракции не должны зависеть от деталей. Детали (конкретные реализации) должны зависеть от абстракций.\n",
    "\n",
    "> **Пример - Генеалогический модуль** \\\n",
    "Генеалогическая система может представлять отношения между людьми в виде графика прямых отношений между ними (отец-сын, отец-дочь, мать-сын, мать-дочь, муж-жена, жена-муж и т. Д.). Это очень эффективно и расширяемо, так как легко добавить бывшего мужа или законного опекуна. Но для некоторых модулей более высокого уровня может потребоваться более простой способ просмотра системы: у любого человека могут быть дети, родители, братья и сестры (включая сводных братьев и сестер), бабушек и дедушек, двоюродных братьев и т.п. В зависимости от использования генеалогического модуля, представление общих отношений в виде отдельных прямых свойств (скрытие графа) значительно облегчит связь между модулем более высокого уровня и генеалогическим модулем и позволит полностью изменить внутреннее представление прямых отношений. без какого-либо влияния на используемые ими модули. Он также позволяет встраивать точные определения братьев и сестер или дядей в генеалогический модуль, тем самым обеспечивая соблюдение принципа единой ответственности. Наконец, если первый подход с расширяемым обобщенным графом кажется наиболее расширяемым, использование генеалогического модуля может показать, что более специализированная и более простая реализация отношений достаточна для приложения (приложений) и помогает создать более эффективную систему. В этом примере абстрагирование взаимодействия между модулями приводит к упрощенному интерфейсу модуля нижнего уровня и может привести к его более простой реализации. \\\n",
    "[The Dependency Inversion Principle, Robert C. Martin, C++ Report, May 1996](dip.pdf)"
   ]
  },
  {
   "cell_type": "markdown",
   "metadata": {},
   "source": [
    "---\n",
    "### Статические и классовые методы\n",
    "\n",
    "3. (2) Напишите небольшой класс `MyMath` и реализуйте в нем:\n",
    "  - Статический метод `sin(x)`, возвращающий синус числа (число задано в радианах).\n",
    "  - Статическое поле `pi`, в котором будет лежать значение `3.14`\n",
    "  - Статическое поле `__complex`, в котором будет лежать значение `False` (понадобится в задании 5)."
   ]
  },
  {
   "cell_type": "code",
   "execution_count": 1,
   "metadata": {},
   "outputs": [],
   "source": [
    "import numpy as np\n",
    "import cmath\n",
    "import math\n",
    "\n",
    "class MyMath:\n",
    "    # всё наже - инкапсуляция\n",
    "    _complex = False\n",
    "    pi = np.pi\n",
    "\n",
    "    @classmethod\n",
    "    def get_nm(cls):\n",
    "        return cls.__name__\n",
    "\n",
    "    @staticmethod\n",
    "    def sin(x):\n",
    "        return np.sin(x)\n",
    "\n",
    "    @classmethod\n",
    "    def get_complex(cls):\n",
    "        return cls._complex\n",
    "\n",
    "    @classmethod\n",
    "    def sqrt(cls, x):\n",
    "        if cls.get_complex():  # полиформизм\n",
    "            result = cmath.sqrt(x)\n",
    "            return result.real, result.imag\n",
    "        else:\n",
    "            if x < 0:\n",
    "                raise ValueError(\"Hey, you are working with real valued math!\")\n",
    "            if x >= 0:\n",
    "                return np.sqrt(x)"
   ]
  },
  {
   "cell_type": "markdown",
   "metadata": {},
   "source": [
    "---\n",
    "4. (3) Создайте класс `MyComplexMath`, который будет наследовать `MyMath` из п.4.\n",
    "В классе `MyComplexMath` перегрузите поле `__complex`, присвоив ему значение `True`.\n",
    "\n",
    "Теперь отредактируйте `MyMath` следующим образом: создайте в нем  _классовый_ метод `sqrt(cls, x)`, который считает квадратный корень.\n",
    "При получении **отрицательного** числа на вход метод должен проверять поле `__complex` из п.4.\n",
    "Если поле равно `False`, то выбрасывается ошибка `ValueError` (с любым осмысленным сообщением).\n",
    "Если поле `__complex` равно `True`, то возвращется кортеж (tuple) вида: `(real_part, imaginary_part)`.\n",
    "\n",
    "По итогу должны быть выполнены следующие условия:\n",
    "  - класс `MyComplexMath` переопределяет **только** поле `__complex`;\n",
    "  - класс `MyMath` падает при вызове метода `sqrt` от отрицательного числа;\n",
    "  - класс `MyComplexMath` не падает и считает корень из отрицательного числа при вызове `sqrt` от отрицательного числа;"
   ]
  },
  {
   "cell_type": "code",
   "execution_count": 2,
   "metadata": {
    "scrolled": false
   },
   "outputs": [
    {
     "name": "stdout",
     "output_type": "stream",
     "text": [
      "2.0\n",
      "(2.0, 0.0)\n",
      "(1.0, 1.0)\n",
      "(0.0, 2.0)\n"
     ]
    }
   ],
   "source": [
    "class MyComplexMath(MyMath):  # наследование\n",
    "    _complex = True\n",
    "\n",
    "#     @classmethod\n",
    "#     def get_complex(cls):\n",
    "#         return cls.__complex\n",
    "\n",
    "\n",
    "print(MyMath.sqrt(4))\n",
    "print(MyComplexMath.sqrt(4))\n",
    "print(MyComplexMath.sqrt(2j))\n",
    "print(MyComplexMath.sqrt(-4))\n",
    "try:\n",
    "    print(MyMath.sqrt(-4))\n",
    "except:\n",
    "    pass"
   ]
  },
  {
   "cell_type": "markdown",
   "metadata": {},
   "source": [
    "---\n",
    "5. (1) Опишите в комментариях к коду, где использовался полиформизм, где инкапсуляция, а где наследование.\n",
    "Также напишите, почему мы использовали классовый метод, а не статический."
   ]
  },
  {
   "cell_type": "markdown",
   "metadata": {},
   "source": [
    "> Почему мы использовали классовый метод, а не статический? `classmethod` может получать доступ или менять состояние класса, в то время как `staticmethod` нет - `staticmethod` в целом вообще ничего не знают про класс. Это просто функция над аргументами, объявленная внутри класса."
   ]
  },
  {
   "cell_type": "markdown",
   "metadata": {},
   "source": [
    "---\n",
    "### \"Магические\" методы\n",
    "6. (3) Реализуйте свой класс `Complex` для комплексных чисел, аналогично встроенной реализации `complex`:\n",
    "  - добавьте инициализатор класса;\n",
    "  - реализуйте основные математические операции: сложение, вычитание, деление, умножение, возведение в степень, взятие `-c`;\n",
    "  - реализуйте операцию модуля (abs, вызываемую как |c|);\n",
    "  - оба класса должны давать осмысленный вывод как при `print`, так и просто при вызове в интерактивном интерпретаторе или в jupyter notebook."
   ]
  },
  {
   "cell_type": "code",
   "execution_count": 3,
   "metadata": {},
   "outputs": [],
   "source": [
    "class Complex(object):  # it is dependant on numpy\n",
    "    def __init__(self, real, imag=0):\n",
    "        self.__real = float(real)\n",
    "        self.__imag = float(imag)\n",
    "\n",
    "    def __str__(self):\n",
    "        return f'({self.__real}+{self.__imag})' if self.__imag >= 0 \\\n",
    "          else f'({self.__real}{self.__imag})'\n",
    "\n",
    "    def __add__(self, other):\n",
    "        return Complex(self.__real + other.__real,\n",
    "                       self.__imag + other.__imag)\n",
    "\n",
    "    def __sub__(self, other):\n",
    "        return Complex(self.__real - other.__real,\n",
    "                       self.__imag - other.__imag)\n",
    "\n",
    "    def __mul__(self, other):\n",
    "        return Complex(self.__real * other.__real -\n",
    "                       self.__imag * other.__imag,\n",
    "                       self.__real * other.__imag +\n",
    "                       self.__imag * other.__real)\n",
    "\n",
    "    def __div__(self, other):\n",
    "        denom = other.__real ** 2 + other.__imag ** 2\n",
    "        if denom == 0:\n",
    "            return None\n",
    "        return Complex((self.__real * other.__real +\n",
    "                        self.__imag * other.__imag)/denom,\n",
    "                       (self.__imag * other.__real -\n",
    "                        self.__real * other.__imag)/denom)\n",
    "\n",
    "    def __eq__(self, other):\n",
    "        return self.__real == other.__real and \\\n",
    "            self.__imag == other.__imag\n",
    "\n",
    "    def real(self):\n",
    "        return self.__real\n",
    "\n",
    "    def imag(self):\n",
    "        return self.__imag\n",
    "    \n",
    "    def __neg__(self):\n",
    "        return Complex(-self.__real, -self.__imag)\n",
    "\n",
    "    def conj(self):\n",
    "        return Complex(self.__real, -self.__imag)\n",
    "\n",
    "    def abs_squared(self):\n",
    "        return self.__real ** 2 + self.__imag**2\n",
    "\n",
    "    def abs(self):\n",
    "        return np.sqrt(self.abs_squared())"
   ]
  },
  {
   "cell_type": "code",
   "execution_count": 4,
   "metadata": {},
   "outputs": [
    {
     "name": "stdout",
     "output_type": "stream",
     "text": [
      "(5.0+12.0)\n",
      "13.0\n",
      "(8.0+16.0)\n",
      "(2.0+8.0)\n",
      "(-5.0-12.0)\n"
     ]
    }
   ],
   "source": [
    "a = Complex(5, 12)\n",
    "b = Complex(3, 4)\n",
    "\n",
    "print(a)\n",
    "print(a.abs())\n",
    "print(a + b)\n",
    "print(a - b)\n",
    "print(-a)"
   ]
  },
  {
   "cell_type": "markdown",
   "metadata": {},
   "source": [
    "---\n",
    "7. (3) Создайте класс `Vector` с полями `x`, `y`, `z` определите для него конструктор, метод `__str__`, необходимые арифметические операции. Реализуйте конструктор, который принимает строку в формате \"x,y\".\n",
    "Реализуйте векторной произведение векторов через оператор `&`."
   ]
  },
  {
   "cell_type": "code",
   "execution_count": 5,
   "metadata": {},
   "outputs": [],
   "source": [
    "class Vector:\n",
    "    \n",
    "    x = None\n",
    "    y = None\n",
    "    z = None\n",
    "    \n",
    "    v = np.zeros((1, 1))\n",
    "    \n",
    "    def __init__(self, *args, **kwargs):\n",
    "        \n",
    "        self.v = np.array(*args, **kwargs)\n",
    "        \n",
    "        try:\n",
    "            if type(args[0]) == str:\n",
    "                self.v = np.array([float(x) for x in args[0].split(',')])\n",
    "        except IndexError:\n",
    "            pass\n",
    "        \n",
    "        try:\n",
    "            self.x, self.y, self.z = self.v[0], self.v[1], self.v[2]\n",
    "        except IndexError:\n",
    "            pass\n",
    "\n",
    "\n",
    "    def __str__(self):\n",
    "        return self.v.__str__()\n",
    "    \n",
    "    def __repr__(self):\n",
    "        return self.v.__repr__()\n",
    "    \n",
    "    def __and__(self, other):\n",
    "        return Vector(np.cross(self.v, other.v))\n",
    "    \n",
    "    def __mul__(self, other):\n",
    "        return np.dot(self.v, other.v)\n",
    "    \n",
    "    def __add__(self, other):\n",
    "        return Vector(self.v + other.v)\n",
    "    \n",
    "    def T(self):\n",
    "        return Vector(self.v.T)\n",
    "    \n",
    "    def shape(self):\n",
    "        return self.v.shape\n",
    "    \n",
    "    def norm(self):\n",
    "        return np.linalg.norm(self.v)\n",
    "    \n",
    "    def __sub__(self, other):\n",
    "        return Vector(self.v - other.v)\n",
    "    \n",
    "    def __eq__(self, other):\n",
    "        return self.v == other.v\n",
    "    \n",
    "    def ravel(self):\n",
    "        return Vector(self.v.ravel())\n",
    "    \n",
    "    def conj(self):\n",
    "        return Vector(self.v.conj())\n",
    "    \n",
    "    def copy(self, **kwargs):\n",
    "        return Vector(self.v.copy(**kwargs))\n",
    "    \n",
    "    def reshape(self, shape, **kwargs):\n",
    "        return Vector(self.v.reshape(shape, **kwargs))\n",
    "    \n",
    "    def sort(self, **kwargs):\n",
    "        return Vector(self.v.sort(**kwargs))\n",
    "    \n",
    "    def trace(self, **kwargs):\n",
    "        return Vector(self.v.trace(**kwargs))\n",
    "    \n",
    "    def all(self, **kwargs):\n",
    "        return self.v.all(**kwargs)\n",
    "    \n",
    "    def any(slef, **kwargs):\n",
    "        return self.v.any(**kwargs)"
   ]
  },
  {
   "cell_type": "code",
   "execution_count": 6,
   "metadata": {},
   "outputs": [
    {
     "name": "stdout",
     "output_type": "stream",
     "text": [
      "[1 2 3]\n",
      "[4. 5. 6.]\n",
      "Sum = [5. 7. 9.]\n",
      "Dot product = 32.0\n",
      "Cross product = [-3.  6. -3.]\n"
     ]
    }
   ],
   "source": [
    "a = Vector((1, 2, 3))\n",
    "b = Vector('4, 5, 6')\n",
    "\n",
    "print(a)\n",
    "print(b)\n",
    "\n",
    "print(f'Sum = {a + b}')\n",
    "print(f'Dot product = {a * b}')\n",
    "print(f'Cross product = {a & b}')"
   ]
  },
  {
   "cell_type": "markdown",
   "metadata": {},
   "source": [
    "---\n",
    "8. (2) Программа получает на вход число N, далее координаты N точек. \n",
    "Доопределите в классе `Vector` недостающие операторы, найдите и выведите координаты точки, наиболее удаленной от начала координат."
   ]
  },
  {
   "cell_type": "code",
   "execution_count": 20,
   "metadata": {},
   "outputs": [
    {
     "name": "stdout",
     "output_type": "stream",
     "text": [
      "3\n",
      "1 2\n",
      "4 5\n",
      "2 3\n",
      "Координаты точки, наиболее удаленной от начала координат: [4. 5.]\n"
     ]
    }
   ],
   "source": [
    "mx = Vector(np.zeros((1, 1)))\n",
    "\n",
    "for _ in range(int(input())):\n",
    "    v = Vector(np.array([float(x) for x in list(input().split(' '))]))\n",
    "    if v.norm() > mx.norm():\n",
    "        mx = vector\n",
    "        \n",
    "print(f'Координаты точки, наиболее удаленной от начала координат: {mx}')"
   ]
  }
 ],
 "metadata": {
  "kernelspec": {
   "display_name": "Python 3",
   "language": "python",
   "name": "python3"
  },
  "language_info": {
   "codemirror_mode": {
    "name": "ipython",
    "version": 3
   },
   "file_extension": ".py",
   "mimetype": "text/x-python",
   "name": "python",
   "nbconvert_exporter": "python",
   "pygments_lexer": "ipython3",
   "version": "3.8.5"
  },
  "toc": {
   "base_numbering": 1,
   "nav_menu": {},
   "number_sections": false,
   "sideBar": true,
   "skip_h1_title": false,
   "title_cell": "Table of Contents",
   "title_sidebar": "Contents",
   "toc_cell": false,
   "toc_position": {},
   "toc_section_display": true,
   "toc_window_display": true
  },
  "varInspector": {
   "cols": {
    "lenName": 16,
    "lenType": 16,
    "lenVar": 40
   },
   "kernels_config": {
    "python": {
     "delete_cmd_postfix": "",
     "delete_cmd_prefix": "del ",
     "library": "var_list.py",
     "varRefreshCmd": "print(var_dic_list())"
    },
    "r": {
     "delete_cmd_postfix": ") ",
     "delete_cmd_prefix": "rm(",
     "library": "var_list.r",
     "varRefreshCmd": "cat(var_dic_list()) "
    }
   },
   "types_to_exclude": [
    "module",
    "function",
    "builtin_function_or_method",
    "instance",
    "_Feature"
   ],
   "window_display": false
  }
 },
 "nbformat": 4,
 "nbformat_minor": 4
}
