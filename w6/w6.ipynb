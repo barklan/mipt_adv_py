{
 "cells": [
  {
   "cell_type": "markdown",
   "metadata": {},
   "source": [
    "# Домашнее задание по неделе 6\n",
    "Число в скобках - количество баллов.\n",
    "\n",
    "### Теория по ООП: последние два принципа из SOLID\n",
    "\n",
    "1. (1) Interface seggregation - опишите своими словами и приведите любой пример из жизни.\n",
    "Напишите это все в файл `interface_seggregation_explained.md`."
   ]
  },
  {
   "cell_type": "markdown",
   "metadata": {},
   "source": [
    "> **Interface segregation principle (ISP)** - Принцип разделения интерфейса гласит, что ни один клиент не должен зависеть от методов, которые он не использует.\n",
    "\n",
    "> **Пример - Xerox** \\\n",
    "Давным давно Xerox создала новую систему печати, которая могла выполнять множество задач, таких как сшивание и отправка факсов. Программное обеспечение для этой системы создавалось с нуля. По мере роста программного обеспечения внесение изменений становилось все труднее и труднее, так что даже самое маленькое изменение занимало цикл повторного развертывания в час, что делало разработку практически невозможной. Проблема проектирования заключалась в том, что практически для всех задач использовался один класс Job. Каждый раз, когда требовалось выполнить задание на печать или сшивание, вызывается класс Job. В результате получился «толстый» класс с множеством методов, специфичных для множества различных клиентов. Из-за этой конструкции задание сшивания будет знать обо всех методах задания печати, даже если они не нужны. Решение заключалось в применении ISP. Вместо одного большого класса Job был создан интерфейс Staple Job или интерфейс Print Job, который будет использоваться классами Staple или Print соответственно, вызывая методы класса Job."
   ]
  },
  {
   "cell_type": "code",
   "execution_count": 5,
   "metadata": {},
   "outputs": [
    {
     "name": "stdout",
     "output_type": "stream",
     "text": [
      "Overwriting interface_seggregation_explained.md\n"
     ]
    }
   ],
   "source": [
    "%%writefile interface_seggregation_explained.md\n",
    "> **Interface segregation principle (ISP)** - Принцип разделения интерфейса гласит, что ни один клиент не должен зависеть от методов, которые он не использует.\n",
    "\n",
    "> **Пример - Xerox** \\\n",
    "Давным давно Xerox создала новую систему печати, которая могла выполнять множество задач, таких как сшивание и отправка факсов. Программное обеспечение для этой системы создавалось с нуля. По мере роста программного обеспечения внесение изменений становилось все труднее и труднее, так что даже самое маленькое изменение занимало цикл повторного развертывания в час, что делало разработку практически невозможной. Проблема проектирования заключалась в том, что практически для всех задач использовался один класс Job. Каждый раз, когда требовалось выполнить задание на печать или сшивание, вызывается класс Job. В результате получился «толстый» класс с множеством методов, специфичных для множества различных клиентов. Из-за этой конструкции задание сшивания будет знать обо всех методах задания печати, даже если они не нужны. Решение заключалось в применении ISP. Вместо одного большого класса Job был создан интерфейс Staple Job или интерфейс Print Job, который будет использоваться классами Staple или Print соответственно, вызывая методы класса Job."
   ]
  },
  {
   "cell_type": "markdown",
   "metadata": {},
   "source": [
    "---\n",
    "2. (1) Dependency inversion - опишите своими словами и приведите любой пример из жизни.\n",
    "Напишите это все в файл `dependency_inversion_explained.md`."
   ]
  },
  {
   "cell_type": "markdown",
   "metadata": {},
   "source": [
    "> **Dependency inversion principle** - Принцип инверсии зависимостей - это особая форма разделения программных модулей. При следовании этому принципу обычные отношения зависимости, устанавливаемые от высокоуровневых модулей к низкоуровневым модулям, меняются местами, что делает модули высокого уровня независимыми от деталей реализации модуля нижнего уровня. \n",
    "\n",
    "> Принцип гласит: \n",
    "> 1. Модули высокого уровня не должны зависеть от модулей низкого уровня.\n",
    "> 2. Абстракции не должны зависеть от деталей. Детали (конкретные реализации) должны зависеть от абстракций.\n",
    "\n",
    "> **Пример - Генеалогический модуль** \\\n",
    "Генеалогическая система может представлять отношения между людьми в виде графика прямых отношений между ними (отец-сын, отец-дочь, мать-сын, мать-дочь, муж-жена, жена-муж и т. Д.). Это очень эффективно и расширяемо, так как легко добавить бывшего мужа или законного опекуна. Но для некоторых модулей более высокого уровня может потребоваться более простой способ просмотра системы: у любого человека могут быть дети, родители, братья и сестры (включая сводных братьев и сестер), бабушек и дедушек, двоюродных братьев и т.п. В зависимости от использования генеалогического модуля, представление общих отношений в виде отдельных прямых свойств (скрытие графа) значительно облегчит связь между модулем более высокого уровня и генеалогическим модулем и позволит полностью изменить внутреннее представление прямых отношений. без какого-либо влияния на используемые ими модули. Он также позволяет встраивать точные определения братьев и сестер или дядей в генеалогический модуль, тем самым обеспечивая соблюдение принципа единой ответственности. Наконец, если первый подход с расширяемым обобщенным графом кажется наиболее расширяемым, использование генеалогического модуля может показать, что более специализированная и более простая реализация отношений достаточна для приложения (приложений) и помогает создать более эффективную систему. В этом примере абстрагирование взаимодействия между модулями приводит к упрощенному интерфейсу модуля нижнего уровня и может привести к его более простой реализации. \\\n",
    "[The Dependency Inversion Principle, Robert C. Martin, C++ Report, May 1996](dip.pdf)"
   ]
  },
  {
   "cell_type": "code",
   "execution_count": 6,
   "metadata": {},
   "outputs": [
    {
     "name": "stdout",
     "output_type": "stream",
     "text": [
      "Overwriting dependency_inversion_explained.md\n"
     ]
    }
   ],
   "source": [
    "%%writefile dependency_inversion_explained.md\n",
    "**Dependency inversion principle** - Принцип инверсии зависимостей - это особая форма разделения программных модулей. При следовании этому принципу обычные отношения зависимости, устанавливаемые от высокоуровневых модулей к низкоуровневым модулям, меняются местами, что делает модули высокого уровня независимыми от деталей реализации модуля нижнего уровня. \n",
    "\n",
    "> **Dependency inversion principle** - Принцип инверсии зависимостей - это особая форма разделения программных модулей. При следовании этому принципу обычные отношения зависимости, устанавливаемые от высокоуровневых модулей к низкоуровневым модулям, меняются местами, что делает модули высокого уровня независимыми от деталей реализации модуля нижнего уровня. \n",
    "\n",
    "> Принцип гласит: \n",
    "> 1. Модули высокого уровня не должны зависеть от модулей низкого уровня.\n",
    "> 2. Абстракции не должны зависеть от деталей. Детали (конкретные реализации) должны зависеть от абстракций.\n",
    "\n",
    "> **Пример - Генеалогический модуль** \\\n",
    "Генеалогическая система может представлять отношения между людьми в виде графика прямых отношений между ними (отец-сын, отец-дочь, мать-сын, мать-дочь, муж-жена, жена-муж и т. Д.). Это очень эффективно и расширяемо, так как легко добавить бывшего мужа или законного опекуна. Но для некоторых модулей более высокого уровня может потребоваться более простой способ просмотра системы: у любого человека могут быть дети, родители, братья и сестры (включая сводных братьев и сестер), бабушек и дедушек, двоюродных братьев и т.п. В зависимости от использования генеалогического модуля, представление общих отношений в виде отдельных прямых свойств (скрытие графа) значительно облегчит связь между модулем более высокого уровня и генеалогическим модулем и позволит полностью изменить внутреннее представление прямых отношений. без какого-либо влияния на используемые ими модули. Он также позволяет встраивать точные определения братьев и сестер или дядей в генеалогический модуль, тем самым обеспечивая соблюдение принципа единой ответственности. Наконец, если первый подход с расширяемым обобщенным графом кажется наиболее расширяемым, использование генеалогического модуля может показать, что более специализированная и более простая реализация отношений достаточна для приложения (приложений) и помогает создать более эффективную систему. В этом примере абстрагирование взаимодействия между модулями приводит к упрощенному интерфейсу модуля нижнего уровня и может привести к его более простой реализации. \\\n",
    "[The Dependency Inversion Principle, Robert C. Martin, C++ Report, May 1996](dip.pdf)"
   ]
  },
  {
   "cell_type": "markdown",
   "metadata": {},
   "source": [
    "---\n",
    "### Статические и классовые методы\n",
    "\n",
    "3. (2) Напишите небольшой класс `MyMath` и реализуйте в нем:\n",
    "  - Статический метод `sin(x)`, возвращающий синус числа (число задано в радианах).\n",
    "  - Статическое поле `pi`, в котором будет лежать значение `3.14`\n",
    "  - Статическое поле `__complex`, в котором будет лежать значение `False` (понадобится в задании 5)."
   ]
  },
  {
   "cell_type": "code",
   "execution_count": 87,
   "metadata": {},
   "outputs": [],
   "source": [
    "import numpy as np\n",
    "import cmath\n",
    "import math\n",
    "\n",
    "class MyMath:\n",
    "    # всё наже - инкапсуляция\n",
    "    __complex = False\n",
    "    pi = np.pi\n",
    "\n",
    "    @classmethod\n",
    "    def get_nm(cls):\n",
    "        return cls.__name__\n",
    "\n",
    "    @staticmethod\n",
    "    def sin(x):\n",
    "        return np.sin(x)\n",
    "\n",
    "    @classmethod\n",
    "    def get_complex(cls):\n",
    "        return cls.__complex\n",
    "\n",
    "    @classmethod\n",
    "    def sqrt(cls, x):\n",
    "        if cls.get_complex():  # полиформизм\n",
    "            result = cmath.sqrt(x)\n",
    "            return result.real, result.imag\n",
    "        else:\n",
    "            if x < 0:\n",
    "                raise ValueError(\"Hey, you are working with real valued math!\")\n",
    "            if x >= 0:\n",
    "                return np.sqrt(x)"
   ]
  },
  {
   "cell_type": "markdown",
   "metadata": {},
   "source": [
    "---\n",
    "4. (3) Создайте класс `MyComplexMath`, который будет наследовать `MyMath` из п.4.\n",
    "В классе `MyComplexMath` перегрузите поле `__complex`, присвоив ему значение `True`.\n",
    "\n",
    "Теперь отредактируйте `MyMath` следующим образом: создайте в нем  _классовый_ метод `sqrt(cls, x)`, который считает квадратный корень.\n",
    "При получении **отрицательного** числа на вход метод должен проверять поле `__complex` из п.4.\n",
    "Если поле равно `False`, то выбрасывается ошибка `ValueError` (с любым осмысленным сообщением).\n",
    "Если поле `__complex` равно `True`, то возвращется кортеж (tuple) вида: `(real_part, imaginary_part)`.\n",
    "\n",
    "По итогу должны быть выполнены следующие условия:\n",
    "  - класс `MyComplexMath` переопределяет **только** поле `__complex`;\n",
    "  - класс `MyMath` падает при вызове метода `sqrt` от отрицательного числа;\n",
    "  - класс `MyComplexMath` не падает и считает корень из отрицательного числа при вызове `sqrt` от отрицательного числа;"
   ]
  },
  {
   "cell_type": "code",
   "execution_count": 88,
   "metadata": {
    "scrolled": false
   },
   "outputs": [
    {
     "name": "stdout",
     "output_type": "stream",
     "text": [
      "2.0\n",
      "(2.0, 0.0)\n",
      "(1.0, 1.0)\n",
      "(0.0, 2.0)\n"
     ]
    },
    {
     "ename": "ValueError",
     "evalue": "Hey, you are working with real valued math!",
     "output_type": "error",
     "traceback": [
      "\u001b[1;31m---------------------------------------------------------------------------\u001b[0m",
      "\u001b[1;31mValueError\u001b[0m                                Traceback (most recent call last)",
      "\u001b[1;32m<ipython-input-88-85879470efad>\u001b[0m in \u001b[0;36m<module>\u001b[1;34m\u001b[0m\n\u001b[0;32m     11\u001b[0m \u001b[0mprint\u001b[0m\u001b[1;33m(\u001b[0m\u001b[0mMyComplexMath\u001b[0m\u001b[1;33m.\u001b[0m\u001b[0msqrt\u001b[0m\u001b[1;33m(\u001b[0m\u001b[1;36m2j\u001b[0m\u001b[1;33m)\u001b[0m\u001b[1;33m)\u001b[0m\u001b[1;33m\u001b[0m\u001b[1;33m\u001b[0m\u001b[0m\n\u001b[0;32m     12\u001b[0m \u001b[0mprint\u001b[0m\u001b[1;33m(\u001b[0m\u001b[0mMyComplexMath\u001b[0m\u001b[1;33m.\u001b[0m\u001b[0msqrt\u001b[0m\u001b[1;33m(\u001b[0m\u001b[1;33m-\u001b[0m\u001b[1;36m4\u001b[0m\u001b[1;33m)\u001b[0m\u001b[1;33m)\u001b[0m\u001b[1;33m\u001b[0m\u001b[1;33m\u001b[0m\u001b[0m\n\u001b[1;32m---> 13\u001b[1;33m \u001b[0mprint\u001b[0m\u001b[1;33m(\u001b[0m\u001b[0mMyMath\u001b[0m\u001b[1;33m.\u001b[0m\u001b[0msqrt\u001b[0m\u001b[1;33m(\u001b[0m\u001b[1;33m-\u001b[0m\u001b[1;36m4\u001b[0m\u001b[1;33m)\u001b[0m\u001b[1;33m)\u001b[0m\u001b[1;33m\u001b[0m\u001b[1;33m\u001b[0m\u001b[0m\n\u001b[0m",
      "\u001b[1;32m<ipython-input-87-ae42da079497>\u001b[0m in \u001b[0;36msqrt\u001b[1;34m(cls, x)\u001b[0m\n\u001b[0;32m     27\u001b[0m         \u001b[1;32melse\u001b[0m\u001b[1;33m:\u001b[0m\u001b[1;33m\u001b[0m\u001b[1;33m\u001b[0m\u001b[0m\n\u001b[0;32m     28\u001b[0m             \u001b[1;32mif\u001b[0m \u001b[0mx\u001b[0m \u001b[1;33m<\u001b[0m \u001b[1;36m0\u001b[0m\u001b[1;33m:\u001b[0m\u001b[1;33m\u001b[0m\u001b[1;33m\u001b[0m\u001b[0m\n\u001b[1;32m---> 29\u001b[1;33m                 \u001b[1;32mraise\u001b[0m \u001b[0mValueError\u001b[0m\u001b[1;33m(\u001b[0m\u001b[1;34m\"Hey, you are working with real valued math!\"\u001b[0m\u001b[1;33m)\u001b[0m\u001b[1;33m\u001b[0m\u001b[1;33m\u001b[0m\u001b[0m\n\u001b[0m\u001b[0;32m     30\u001b[0m             \u001b[1;32mif\u001b[0m \u001b[0mx\u001b[0m \u001b[1;33m>=\u001b[0m \u001b[1;36m0\u001b[0m\u001b[1;33m:\u001b[0m\u001b[1;33m\u001b[0m\u001b[1;33m\u001b[0m\u001b[0m\n\u001b[0;32m     31\u001b[0m                 \u001b[1;32mreturn\u001b[0m \u001b[0mnp\u001b[0m\u001b[1;33m.\u001b[0m\u001b[0msqrt\u001b[0m\u001b[1;33m(\u001b[0m\u001b[0mx\u001b[0m\u001b[1;33m)\u001b[0m\u001b[1;33m\u001b[0m\u001b[1;33m\u001b[0m\u001b[0m\n",
      "\u001b[1;31mValueError\u001b[0m: Hey, you are working with real valued math!"
     ]
    }
   ],
   "source": [
    "class MyComplexMath(MyMath):  # наследование\n",
    "    __complex = True\n",
    "\n",
    "    @classmethod\n",
    "    def get_complex(cls):\n",
    "        return cls.__complex\n",
    "\n",
    "\n",
    "print(MyMath.sqrt(4))\n",
    "print(MyComplexMath.sqrt(4))\n",
    "print(MyComplexMath.sqrt(2j))\n",
    "print(MyComplexMath.sqrt(-4))\n",
    "print(MyMath.sqrt(-4))"
   ]
  },
  {
   "cell_type": "markdown",
   "metadata": {},
   "source": [
    "---\n",
    "5. (1) Опишите в комментариях к коду, где использовался полиформизм, где инкапсуляция, а где наследование.\n",
    "Также напишите, почему мы использовали классовый метод, а не статический."
   ]
  },
  {
   "cell_type": "markdown",
   "metadata": {},
   "source": [
    "> Почему мы использовали классовый метод, а не статический? `classmethod` может получать доступ или менять состояние класса, в то время как `staticmethod` нет - `staticmethod` в целом вообще ничего не знают про класс. Это просто функция над аргументами, объявленная внутри класса."
   ]
  },
  {
   "cell_type": "markdown",
   "metadata": {},
   "source": [
    "---\n",
    "### \"Магические\" методы\n",
    "6. (3) Реализуйте свой класс `Complex` для комплексных чисел, аналогично встроенной реализации `complex`:\n",
    "  - добавьте инициализатор класса;\n",
    "  - реализуйте основные математические операции: сложение, вычитание, деление, умножение, возведение в степень, взятие `-c`;\n",
    "  - реализуйте операцию модуля (abs, вызываемую как |c|);\n",
    "  - оба класса должны давать осмысленный вывод как при `print`, так и просто при вызове в интерактивном интерпретаторе или в jupyter notebook."
   ]
  },
  {
   "cell_type": "code",
   "execution_count": 89,
   "metadata": {},
   "outputs": [],
   "source": [
    "class Complex(object):  # it is dependant on numpy\n",
    "    def __init__(self, real, imag=0):\n",
    "        self.__real = float(real)\n",
    "        self.__imag = float(imag)\n",
    "\n",
    "    def __str__(self):\n",
    "        return \"(%.8g+%.8gj)\" % \\\n",
    "            (self.__real, self.__imag)\n",
    "\n",
    "    def __add__(self, other):\n",
    "        return Complex(self.__real + other.__real,\n",
    "                       self.__imag + other.__imag)\n",
    "\n",
    "    def __sub__(self, other):\n",
    "        return Complex(self.__real - other.__real,\n",
    "                       self.__imag - other.__imag)\n",
    "\n",
    "    def __mul__(self, other):\n",
    "        return Complex(self.__real * other.__real -\n",
    "                       self.__imag * other.__imag,\n",
    "                       self.__real * other.__imag +\n",
    "                       self.__imag * other.__real)\n",
    "\n",
    "    def __div__(self, other):\n",
    "        denom = other.__real ** 2 + other.__imag ** 2\n",
    "        if denom == 0:\n",
    "            return None\n",
    "        return Complex((self.__real * other.__real +\n",
    "                        self.__imag * other.__imag)/denom,\n",
    "                       (self.__imag * other.__real -\n",
    "                        self.__real * other.__imag)/denom)\n",
    "\n",
    "    def __eq__(self, other):\n",
    "        return self.__real == other.__real and \\\n",
    "            self.__imag == other.__imag\n",
    "\n",
    "    def real(self):\n",
    "        return self.__real\n",
    "\n",
    "    def imag(self):\n",
    "        return self.__imag\n",
    "\n",
    "    def conj(self):\n",
    "        return Complex(self.__real, -self.__imag)\n",
    "\n",
    "    def abs_squared(self):\n",
    "        return self.__real ** 2 + self.__imag**2\n",
    "\n",
    "    def abs(self):\n",
    "        return np.sqrt(self.abs_squared())"
   ]
  },
  {
   "cell_type": "code",
   "execution_count": 90,
   "metadata": {},
   "outputs": [
    {
     "name": "stdout",
     "output_type": "stream",
     "text": [
      "(5+12j)\n",
      "13.0\n",
      "(8+16j)\n",
      "(2+8j)\n"
     ]
    }
   ],
   "source": [
    "a = Complex(5, 12)\n",
    "b = Complex(3, 4)\n",
    "print(a)\n",
    "print(a.abs())\n",
    "print(a + b)\n",
    "print(a - b)"
   ]
  },
  {
   "cell_type": "markdown",
   "metadata": {},
   "source": [
    "---\n",
    "7. (3) Создайте класс `Vector` с полями `x`, `y`, `z` определите для него конструктор, метод `__str__`, необходимые арифметические операции. Реализуйте конструктор, который принимает строку в формате \"x,y\".\n",
    "Реализуйте векторной произведение векторов через оператор `&`."
   ]
  },
  {
   "cell_type": "code",
   "execution_count": 118,
   "metadata": {},
   "outputs": [],
   "source": [
    "\"\"\" \n",
    "The MIT License (MIT)\n",
    "Copyright (c) 2015 Mat Leonard\n",
    "Permission is hereby granted, free of charge, to any person obtaining a copy\n",
    "of this software and associated documentation files (the \"Software\"), to deal\n",
    "in the Software without restriction, including without limitation the rights\n",
    "to use, copy, modify, merge, publish, distribute, sublicense, and/or sell\n",
    "copies of the Software, and to permit persons to whom the Software is\n",
    "furnished to do so, subject to the following conditions:\n",
    "The above copyright notice and this permission notice shall be included in\n",
    "all copies or substantial portions of the Software.\n",
    "THE SOFTWARE IS PROVIDED \"AS IS\", WITHOUT WARRANTY OF ANY KIND, EXPRESS OR\n",
    "IMPLIED, INCLUDING BUT NOT LIMITED TO THE WARRANTIES OF MERCHANTABILITY,\n",
    "FITNESS FOR A PARTICULAR PURPOSE AND NONINFRINGEMENT. IN NO EVENT SHALL THE\n",
    "AUTHORS OR COPYRIGHT HOLDERS BE LIABLE FOR ANY CLAIM, DAMAGES OR OTHER\n",
    "LIABILITY, WHETHER IN AN ACTION OF CONTRACT, TORT OR OTHERWISE, ARISING FROM,\n",
    "OUT OF OR IN CONNECTION WITH THE SOFTWARE OR THE USE OR OTHER DEALINGS IN\n",
    "THE SOFTWARE.\n",
    "\"\"\"\n",
    "\n",
    "import math\n",
    "\n",
    "\n",
    "class Vector(object):\n",
    "    def __init__(self, *args):\n",
    "        \"\"\" Create a vector, example: v = Vector(1,2) \"\"\"\n",
    "        if len(args) == 0:\n",
    "            self.values = (0, 0)\n",
    "        else:\n",
    "            self.values = args\n",
    "\n",
    "    def norm(self):\n",
    "        \"\"\" Returns the norm (length, magnitude) of the vector \"\"\"\n",
    "        return math.sqrt(sum(comp**2 for comp in self))\n",
    "\n",
    "    def argument(self):\n",
    "        \"\"\" Returns the argument of the vector, the angle clockwise from +y.\"\"\"\n",
    "        arg_in_rad = math.acos(Vector(0, 1)*self/self.norm())\n",
    "        arg_in_deg = math.degrees(arg_in_rad)\n",
    "        if self.values[0] < 0:\n",
    "            return 360 - arg_in_deg\n",
    "        else:\n",
    "            return arg_in_deg\n",
    "\n",
    "    def normalize(self):\n",
    "        \"\"\" Returns a normalized unit vector \"\"\"\n",
    "        norm = self.norm()\n",
    "        normed = tuple(comp/norm for comp in self)\n",
    "        return Vector(*normed)\n",
    "\n",
    "    def rotate(self, *args):\n",
    "        \"\"\" Rotate this vector. If passed a number, assumes this is a \n",
    "            2D vector and rotates by the passed value in degrees.  Otherwise,\n",
    "            assumes the passed value is a list acting as a matrix which rotates the vector.\n",
    "        \"\"\"\n",
    "        if len(args) == 1 and type(args[0]) == type(1) or type(args[0]) == type(1.):\n",
    "            # So, if rotate is passed an int or a float...\n",
    "            if len(self) != 2:\n",
    "                raise ValueError(\n",
    "                    \"Rotation axis not defined for greater than 2D vector\")\n",
    "            return self._rotate2D(*args)\n",
    "        elif len(args) == 1:\n",
    "            matrix = args[0]\n",
    "            if not all(len(row) == len(v) for row in matrix) or not len(matrix) == len(self):\n",
    "                raise ValueError(\n",
    "                    \"Rotation matrix must be square and same dimensions as vector\")\n",
    "            return self.matrix_mult(matrix)\n",
    "\n",
    "    def _rotate2D(self, theta):\n",
    "        \"\"\" Rotate this vector by theta in degrees.\n",
    "\n",
    "            Returns a new vector.\n",
    "        \"\"\"\n",
    "        theta = math.radians(theta)\n",
    "        # Just applying the 2D rotation matrix\n",
    "        dc, ds = math.cos(theta), math.sin(theta)\n",
    "        x, y = self.values\n",
    "        x, y = dc*x - ds*y, ds*x + dc*y\n",
    "        return Vector(x, y)\n",
    "\n",
    "    def matrix_mult(self, matrix):\n",
    "        \"\"\" Multiply this vector by a matrix.  Assuming matrix is a list of lists.\n",
    "\n",
    "            Example:\n",
    "            mat = [[1,2,3],[-1,0,1],[3,4,5]]\n",
    "            Vector(1,2,3).matrix_mult(mat) ->  (14, 2, 26)\n",
    "\n",
    "        \"\"\"\n",
    "        if not all(len(row) == len(self) for row in matrix):\n",
    "            raise ValueError('Matrix must match vector dimensions')\n",
    "\n",
    "        # Grab a row from the matrix, make it a Vector, take the dot product,\n",
    "        # and store it as the first component\n",
    "        product = tuple(Vector(*row)*self for row in matrix)\n",
    "\n",
    "        return Vector(*product)\n",
    "\n",
    "    def inner(self, other):\n",
    "        \"\"\" Returns the dot product (inner product) of self and other vector\n",
    "        \"\"\"\n",
    "        return sum(a * b for a, b in zip(self, other))\n",
    "\n",
    "    def __mul__(self, other):\n",
    "        \"\"\" Returns the dot product of self and other if multiplied\n",
    "            by another Vector.  If multiplied by an int or float,\n",
    "            multiplies each component by other.\n",
    "        \"\"\"\n",
    "        if type(other) == type(self):\n",
    "            return self.inner(other)\n",
    "        elif type(other) == type(1) or type(other) == type(1.0):\n",
    "            product = tuple(a * other for a in self)\n",
    "            return Vector(*product)\n",
    "\n",
    "    def __rmul__(self, other):\n",
    "        \"\"\" Called if 4*self for instance \"\"\"\n",
    "        return self.__mul__(other)\n",
    "\n",
    "    def __div__(self, other):\n",
    "        if type(other) == type(1) or type(other) == type(1.0):\n",
    "            divided = tuple(a / other for a in self)\n",
    "            return Vector(*divided)\n",
    "\n",
    "    def __add__(self, other):\n",
    "        \"\"\" Returns the vector addition of self and other \"\"\"\n",
    "        added = tuple(a + b for a, b in zip(self, other))\n",
    "        return Vector(*added)\n",
    "\n",
    "    def __sub__(self, other):\n",
    "        \"\"\" Returns the vector difference of self and other \"\"\"\n",
    "        subbed = tuple(a - b for a, b in zip(self, other))\n",
    "        return Vector(*subbed)\n",
    "\n",
    "    def __iter__(self):\n",
    "        return self.values.__iter__()\n",
    "\n",
    "    def __len__(self):\n",
    "        return len(self.values)\n",
    "\n",
    "    def __getitem__(self, key):\n",
    "        return self.values[key]\n",
    "\n",
    "    def __repr__(self):\n",
    "        return str(self.values)"
   ]
  },
  {
   "cell_type": "code",
   "execution_count": 129,
   "metadata": {},
   "outputs": [],
   "source": [
    "class MyVector(Vector):\n",
    "    def __init__(self, *args):\n",
    "        if len(args) == 0:\n",
    "            self.values = (0, 0)\n",
    "        elif type(args[0]) == str:\n",
    "            temp = list(map(float, list(args[0].split(','))))\n",
    "            self.values = temp\n",
    "        else:\n",
    "            self.values = args\n",
    "\n",
    "    def __and__(self, other):\n",
    "        a = np.array(self)\n",
    "        b = np.array(other)\n",
    "        return np.cross(a, b)"
   ]
  },
  {
   "cell_type": "code",
   "execution_count": 130,
   "metadata": {},
   "outputs": [
    {
     "name": "stdout",
     "output_type": "stream",
     "text": [
      "(1, 2, 3)\n",
      "[4.0, 5.0, 6.0]\n",
      "Sum = (5.0, 7.0, 9.0)\n",
      "Dot product = 32.0\n",
      "Cross product = [-3.  6. -3.]\n"
     ]
    }
   ],
   "source": [
    "a = MyVector(1, 2, 3)\n",
    "b = MyVector('4, 5, 6')\n",
    "\n",
    "print(a)\n",
    "print(b)\n",
    "\n",
    "print(f'Sum = {a + b}')\n",
    "print(f'Dot product = {a * b}')\n",
    "print(f'Cross product = {a & b}')"
   ]
  },
  {
   "cell_type": "markdown",
   "metadata": {},
   "source": [
    "---\n",
    "8. (2) Программа получает на вход число N, далее координаты N точек. \n",
    "Доопределите в классе `Vector` недостающие операторы, найдите и выведите координаты точки, наиболее удаленной от начала координат."
   ]
  },
  {
   "cell_type": "code",
   "execution_count": 136,
   "metadata": {},
   "outputs": [
    {
     "name": "stdout",
     "output_type": "stream",
     "text": [
      "3\n",
      "1 2\n",
      "2 3\n",
      "4 5\n",
      "[4.0, 5.0]\n"
     ]
    }
   ],
   "source": [
    "N = int(input())\n",
    "vector_list = []\n",
    "\n",
    "for _ in range(N):\n",
    "    temp = input()\n",
    "    temp = ','.join(list(temp.split(' ')))\n",
    "    vector_list.append(MyVector(temp))\n",
    "\n",
    "for vector in vector_list:\n",
    "    mx = MyVector()\n",
    "    if vector.norm() > mx.norm():\n",
    "        mx = vector\n",
    "        \n",
    "print(mx)"
   ]
  }
 ],
 "metadata": {
  "kernelspec": {
   "display_name": "Python 3",
   "language": "python",
   "name": "python3"
  },
  "language_info": {
   "codemirror_mode": {
    "name": "ipython",
    "version": 3
   },
   "file_extension": ".py",
   "mimetype": "text/x-python",
   "name": "python",
   "nbconvert_exporter": "python",
   "pygments_lexer": "ipython3",
   "version": "3.8.5"
  },
  "varInspector": {
   "cols": {
    "lenName": 16,
    "lenType": 16,
    "lenVar": 40
   },
   "kernels_config": {
    "python": {
     "delete_cmd_postfix": "",
     "delete_cmd_prefix": "del ",
     "library": "var_list.py",
     "varRefreshCmd": "print(var_dic_list())"
    },
    "r": {
     "delete_cmd_postfix": ") ",
     "delete_cmd_prefix": "rm(",
     "library": "var_list.r",
     "varRefreshCmd": "cat(var_dic_list()) "
    }
   },
   "types_to_exclude": [
    "module",
    "function",
    "builtin_function_or_method",
    "instance",
    "_Feature"
   ],
   "window_display": false
  }
 },
 "nbformat": 4,
 "nbformat_minor": 4
}
