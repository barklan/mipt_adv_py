{
 "cells": [
  {
   "cell_type": "markdown",
   "metadata": {},
   "source": [
    "# Week 9 [Iterators, the `with` statement]"
   ]
  },
  {
   "cell_type": "markdown",
   "metadata": {},
   "source": [
    "[**Yield expressions**](https://docs.python.org/3/reference/expressions.html#yield-expressions)\n",
    "\n",
    "\n",
    "\n",
    "## Iterators\n",
    "\n",
    "    \n",
    "Example of linked list"
   ]
  },
  {
   "cell_type": "code",
   "execution_count": 4,
   "metadata": {},
   "outputs": [],
   "source": [
    "class Node:\n",
    "    def __init__(self, value, nxt=None):\n",
    "        self.value = value\n",
    "        self.nxt = nxt\n",
    "\n",
    "    def get_value(self):\n",
    "        return self.value\n",
    "\n",
    "    def get_next(self):\n",
    "        return self.nxt\n",
    "\n",
    "\n",
    "class LinkedLiset:\n",
    "    def __init__(self):\n",
    "        self.start = None\n",
    "        self.length = 0\n",
    "        self.last = None\n",
    "\n",
    "    def add(self, value):\n",
    "        elem = Node(value)\n",
    "        if self.start is None:\n",
    "            self.start = elem\n",
    "            self.last = elem\n",
    "        else:\n",
    "            self.last.nxt = elem\n",
    "            self.last = elem\n",
    "        self.length += 1\n",
    "\n",
    "    def __len__(self):\n",
    "        return self.length\n",
    "\n",
    "    def __getitem__(self, idx):\n",
    "        if idx >= self.length:\n",
    "            raise IndexError(\"Index out of range\")\n",
    "        current = self.start\n",
    "        for i in range(idx):\n",
    "            current = current.get_next()\n",
    "        current.get_value()\n",
    "\n",
    "    def __iter__(self):\n",
    "        self.__curr = self.start\n",
    "        return self\n",
    "\n",
    "    def __next__(self):\n",
    "        if self.__curr is None:\n",
    "            raise StopIteration()\n",
    "        val = self.__curr.get_value()\n",
    "        self.__curr = self.__curr.get_next()\n",
    "        return val"
   ]
  },
  {
   "cell_type": "code",
   "execution_count": 5,
   "metadata": {},
   "outputs": [
    {
     "name": "stdout",
     "output_type": "stream",
     "text": [
      "0\n",
      "1\n",
      "4\n",
      "9\n",
      "16\n",
      "25\n",
      "36\n",
      "49\n",
      "64\n",
      "81\n"
     ]
    }
   ],
   "source": [
    "lst = LinkedLiset()\n",
    "for i in range(10):\n",
    "    lst.add(i*i)\n",
    "    \n",
    "for i in lst:\n",
    "    print(i)"
   ]
  },
  {
   "cell_type": "markdown",
   "metadata": {},
   "source": [
    "### 1\n",
    "\n",
    "> (2) Реализуйте класс `BinTree` двоичного дерева, итерирование по которму происходит в порядке обхода в глубину."
   ]
  },
  {
   "cell_type": "markdown",
   "metadata": {},
   "source": [
    "[**Depth first search of binary tree**](https://en.wikipedia.org/wiki/Tree_traversal#Depth-first_search_of_binary_tree)\n",
    "\n",
    "this [repo](https://github.com/joowani/binarytree)"
   ]
  },
  {
   "cell_type": "code",
   "execution_count": 5,
   "metadata": {},
   "outputs": [
    {
     "name": "stdout",
     "output_type": "stream",
     "text": [
      "\n",
      "       ______________25____________\n",
      "      /                            \\\n",
      "  ___30________           __________19_____\n",
      " /             \\         /                 \\\n",
      "2            ___18      17___               27___\n",
      " \\          /     \\          \\             /     \\\n",
      "  26      _23      3         _12         _5      _15\n",
      "         /   \\              /   \\       /       /\n",
      "        29    7            20    21    24      10\n",
      "\n",
      "\n",
      "In-order:\n",
      "\n",
      "[Node(2), Node(26), Node(30), Node(29), Node(23), Node(7), Node(18), Node(3), Node(25), Node(17), Node(20), Node(12), Node(21), Node(19), Node(24), Node(5), Node(27), Node(10), Node(15)]\n",
      "\n"
     ]
    }
   ],
   "source": [
    "from binarytree import tree, Node\n",
    "\n",
    "# Generate a random binary tree and return its root node\n",
    "my_tree = tree(height=4, is_perfect=False)\n",
    "print(my_tree)\n",
    "print(f'\\nIn-order:\\n\\n{my_tree.inorder}\\n')"
   ]
  },
  {
   "cell_type": "code",
   "execution_count": 1,
   "metadata": {},
   "outputs": [],
   "source": [
    "from binarytree_fucked import tree as fucked_tree\n",
    "from binarytree_fucked import Node as fucked_Node"
   ]
  },
  {
   "cell_type": "code",
   "execution_count": 2,
   "metadata": {},
   "outputs": [
    {
     "name": "stdout",
     "output_type": "stream",
     "text": [
      "\n",
      "                   ______________17__________\n",
      "                  /                          \\\n",
      "          _______2______                 _____1______\n",
      "         /              \\               /            \\\n",
      "    ____30             __14__         _29            _27__\n",
      "   /      \\           /      \\       /   \\          /     \\\n",
      "  19       24        5        16    25    9       _21      13\n",
      " /  \\        \\      / \\      /             \\     /        /  \\\n",
      "7    18       22   3   4    6               0   23       8    10\n",
      "\n",
      "In-order:\n",
      "\n",
      " [Node(7), Node(19), Node(18), Node(30), Node(24), Node(22), Node(2), Node(3), Node(5), Node(4), Node(14), Node(6), Node(16), Node(17), Node(25), Node(29), Node(9), Node(0), Node(1), Node(23), Node(21), Node(27), Node(8), Node(13), Node(10)]\n"
     ]
    }
   ],
   "source": [
    "my_fucked_tree = fucked_tree(height=4, is_perfect=False)\n",
    "print(my_fucked_tree)\n",
    "\n",
    "# Now it is iterable\n",
    "dfs = [node for node in my_fucked_tree]\n",
    "print(f'In-order:\\n\\n {dfs}')"
   ]
  },
  {
   "cell_type": "markdown",
   "metadata": {},
   "source": [
    "    \n",
    "### 2\n",
    "    \n",
    "> (3) Скачайте архив, и положите его в папку с неделей 9.\n",
    "Создаейте класс `TextLoader`, который принимает в инициализаторе адрес архива.\n",
    "Затем добейтесь от класса следующего поведения:\n",
    "    - При инициализации объекта (т.е. в методе `__init__`) этот класс должен разархивировать архив в какую-либо папку (имя неважно);\n",
    "    - Метод `__len__` должен возвращать количество текстов в папке;\n",
    "    - Метод `__next__`, который позволяет итерироваться по распакованным текстам, должен возвращать объект файла (тот, что возвращает `open()`);\n",
    "    - При итерировании возвращаются нормализованные тексты, т.е. приводятся к нижнему регистру и убираются знаки препинания.\n",
    "\n",
    "> Обратите внимание, что метод `__len__` не должен считывать все файлы.\n",
    "Также нельзя читать все файлы за раз - нужно это делать по мере необходимости."
   ]
  },
  {
   "cell_type": "markdown",
   "metadata": {},
   "source": [
    "Docs: [**requests**](https://requests.readthedocs.io/en/master/) | \n",
    "[**os**](https://docs.python.org/3/library/os.html) | \n",
    "[**zipfile**](https://docs.python.org/3/library/zipfile.html) |\n",
    "[**pathlib**](https://docs.python.org/3/library/pathlib.html) |\n",
    "[**re**](https://docs.python.org/3/library/re.html) | \n",
    "[**shutil**](https://docs.python.org/3/library/shutil.html)"
   ]
  },
  {
   "cell_type": "markdown",
   "metadata": {},
   "source": [
    "**See task_2.py**"
   ]
  },
  {
   "cell_type": "markdown",
   "metadata": {},
   "source": [
    "---\n",
    "    \n",
    "## Coroutines  \n",
    "    "
   ]
  },
  {
   "cell_type": "markdown",
   "metadata": {},
   "source": [
    "### 3 \n",
    "\n",
    "> (2) От некоторого устройства в режиме реального времени приходят данные.\n",
    "Необходимо написать сопрограмму, которая вычисляет среднее, дисперсию, а также количество элементов в переданном наборе данных с устройства.\n",
    "Результаты работы сопрограмма должна выдавать при отправке соответствующих сигналов."
   ]
  },
  {
   "cell_type": "code",
   "execution_count": 10,
   "metadata": {},
   "outputs": [
    {
     "name": "stdout",
     "output_type": "stream",
     "text": [
      "Starting coroutine\n",
      "Current variance: 0.0\n",
      "Current mean: 0.0\n",
      "Current count: 1\n",
      "Current variance: 0.6666666666666666\n",
      "Current mean: 1.5\n",
      "Current variance: 2.0\n",
      "Current count: 5\n",
      "Current variance: 4.0\n",
      "Current mean: 3.0\n",
      "Current variance: 6.666666666666667\n",
      "Current count: 9\n",
      "Current mean: 4.5\n",
      "Current variance: 10.0\n",
      "Stop coroutine\n"
     ]
    }
   ],
   "source": [
    "import numpy as np\n",
    "\n",
    "\n",
    "class PrintVariance(Exception):\n",
    "    pass\n",
    "\n",
    "\n",
    "class PrintMean(Exception):\n",
    "    pass\n",
    "\n",
    "\n",
    "class PrintCount(Exception):\n",
    "    pass\n",
    "\n",
    "\n",
    "def server_coroutine():\n",
    "    print(\"Starting coroutine\")\n",
    "    aggregator = []\n",
    "    try:\n",
    "        while True:\n",
    "            try:\n",
    "                to_add = yield\n",
    "                aggregator.append(to_add)\n",
    "            except PrintVariance:\n",
    "                yield np.var(aggregator)\n",
    "            except PrintMean:\n",
    "                yield np.mean(aggregator)\n",
    "            except PrintCount:\n",
    "                yield len(aggregator)\n",
    "    finally:\n",
    "        print(\"Stop coroutine\")\n",
    "\n",
    "\n",
    "coroutine = server_coroutine()\n",
    "next(coroutine)\n",
    "for i in range(12):\n",
    "    coroutine.send(i)\n",
    "    if i % 2 == 0:\n",
    "        print(\"Current variance:\", coroutine.throw(PrintVariance))\n",
    "        next(coroutine)\n",
    "    if i % 3 == 0:\n",
    "        print(\"Current mean:\", coroutine.throw(PrintMean))\n",
    "        next(coroutine)\n",
    "    if i % 4 == 0:\n",
    "        print(\"Current count:\", coroutine.throw(PrintCount))\n",
    "        next(coroutine)\n",
    "        \n",
    "\n",
    "coroutine.close()"
   ]
  },
  {
   "cell_type": "markdown",
   "metadata": {},
   "source": [
    "##  `yield from`"
   ]
  },
  {
   "cell_type": "code",
   "execution_count": 2,
   "metadata": {},
   "outputs": [
    {
     "name": "stdout",
     "output_type": "stream",
     "text": [
      "Generator 1: 0\n",
      "Generator 1: 1\n",
      "Generator 1: 2\n",
      "Generator 1: 3\n",
      "Generator 1: 4\n",
      "Generator 2: 0\n",
      "Generator 2: 1\n",
      "Generator 2: 2\n",
      "Generator 2: 3\n",
      "Generator 2: 4\n"
     ]
    }
   ],
   "source": [
    "def generator1():\n",
    "    for i in range(5):\n",
    "        yield f\"Generator 1: {i}\"\n",
    "        \n",
    "def generator2():\n",
    "    for i in range(5):\n",
    "        yield f\"Generator 2: {i}\"\n",
    "        \n",
    "def generator():\n",
    "    yield from generator1()\n",
    "    yield from generator2()\n",
    "    \n",
    "for i in generator():\n",
    "    print(i)"
   ]
  },
  {
   "cell_type": "code",
   "execution_count": 3,
   "metadata": {},
   "outputs": [],
   "source": [
    "class Terminate(Exception):\n",
    "    pass\n",
    "\n",
    "def inner_coroutine():\n",
    "    print(\"Inner coroutine started\")\n",
    "    try:\n",
    "        while True:\n",
    "            try:\n",
    "                x = yield\n",
    "                print(f\"Inner: {x}\")\n",
    "            except Terminate:\n",
    "                break\n",
    "    finally:\n",
    "        print(\"Inner coroutine finished\")\n",
    "    \n",
    "def outer_coroutine():\n",
    "    print(\"Outer coroutine started\")\n",
    "    try:\n",
    "        x = yield\n",
    "        print(f\"Outer: {x}\")\n",
    "        x = yield\n",
    "        print(f\"Outer: {x}\")\n",
    "        \n",
    "        yield from inner_coroutine()\n",
    "        \n",
    "        x = yield\n",
    "        print(f\"Outer: {x}\")\n",
    "    finally:\n",
    "        print(\"Outer coroutine finished\")"
   ]
  },
  {
   "cell_type": "code",
   "execution_count": 4,
   "metadata": {},
   "outputs": [
    {
     "name": "stdout",
     "output_type": "stream",
     "text": [
      "Outer coroutine started\n",
      "Outer: 1\n",
      "Outer: 2\n",
      "Inner coroutine started\n",
      "Inner: 3\n",
      "Inner: 4\n",
      "Inner: 5\n",
      "Inner coroutine finished\n",
      "Outer: 6\n",
      "Outer coroutine finished\n"
     ]
    }
   ],
   "source": [
    "try:\n",
    "    coroutine = outer_coroutine()\n",
    "    next(coroutine)\n",
    "    coroutine.send(1)\n",
    "    coroutine.send(2)\n",
    "    coroutine.send(3)\n",
    "    coroutine.send(4)\n",
    "    coroutine.send(5)\n",
    "    coroutine.throw(Terminate)\n",
    "    coroutine.send(6)\n",
    "except:\n",
    "    pass"
   ]
  },
  {
   "cell_type": "markdown",
   "metadata": {},
   "source": [
    "\n",
    "### 4    \n",
    "    \n",
    "> (4) Представьте, что у вас настроено взаимодействие с сервером, от которого приходят пакеты, содержащие сообщения от различных клиентов. Обработка каждого из клиентов должна идти в отдельном потоке.\n",
    "Реализуйте:\n",
    "> 1. Корутину `connect_user`, которая принимает данные авторизации от пользователя, открывает файл с расширением .txt и создает на его основе корутину `write_to_file`.\n",
    "2. Корутину `write_to_file(f_obj)`, которая записывает переданное планировщиком задач сообщение пользователя в файловый объект, переданный в качестве аргумента при генерации. \n",
    "    Также корутина принимает и обрабатывает сигнал об окончании соединения и выходит из сопрограммы.\n",
    "3. Планировщик задач, распределяющий задачи по сопроцессам на каждого пользователя."
   ]
  },
  {
   "cell_type": "code",
   "execution_count": 4,
   "metadata": {},
   "outputs": [],
   "source": [
    "pass; 'use acync/await instead?';"
   ]
  },
  {
   "cell_type": "markdown",
   "metadata": {},
   "source": [
    "---\n",
    "\n",
    "## The `with` statement\n",
    "See [**PEP 343**](https://www.python.org/dev/peps/pep-0343) -- The \"with\" Statement  | [**contextlib**](https://docs.python.org/3/library/contextlib.html) - Utilities for with-statement contexts"
   ]
  },
  {
   "cell_type": "markdown",
   "metadata": {},
   "source": [
    "Syntax:\n",
    "\n",
    "```python\n",
    "with EXPR as VAR:\n",
    "    BLOCK\n",
    "```\n",
    "\n",
    "The \"as VAR\" part is optional.\n",
    "The translation of the above statement is:\n",
    "\n",
    "```python\n",
    "mgr = (EXPR)\n",
    "exit = type(mgr).__exit__  # Not calling it yet\n",
    "value = type(mgr).__enter__(mgr)\n",
    "exc = True\n",
    "try:\n",
    "    try:\n",
    "        VAR = value  # Only if \"as VAR\" is present\n",
    "        BLOCK\n",
    "    except:\n",
    "        # The exceptional case is handled here\n",
    "        exc = False\n",
    "        if not exit(mgr, *sys.exc_info()):\n",
    "            raise\n",
    "        # The exception is swallowed if exit() returns true\n",
    "finally:\n",
    "    # The normal and non-local-goto cases are handled here\n",
    "    if exc:\n",
    "        exit(mgr, None, None, None)\n",
    "```\n",
    "\n",
    "Here, the lowercase variables (mgr, exit, value, exc) are internal variables and not accessible to the user; they will most likely be implemented as special registers or stack positions."
   ]
  },
  {
   "cell_type": "markdown",
   "metadata": {},
   "source": [
    "**Example of class with `__enter__` and `__exit__` methods:**"
   ]
  },
  {
   "cell_type": "code",
   "execution_count": 60,
   "metadata": {},
   "outputs": [],
   "source": [
    "class DatabaseConnection(object):\n",
    "\n",
    "    def __init__(self, dbsocket):\n",
    "        self.dbsocket = dbsocket\n",
    "    \n",
    "    def __enter__(self):\n",
    "        # make a database connection and return it\n",
    "        \n",
    "        # let's pretend our database is a file temp.txt\n",
    "        self.f = open(self.dbsocket, 'r')\n",
    "        \n",
    "        return self.f\n",
    "\n",
    "    def __exit__(self, exc_type, exc_val, exc_tb):\n",
    "        # make sure the dbconnection (file) gets closed\n",
    "        self.f.close()"
   ]
  },
  {
   "cell_type": "code",
   "execution_count": 61,
   "metadata": {},
   "outputs": [
    {
     "name": "stdout",
     "output_type": "stream",
     "text": [
      "hey fucker\n"
     ]
    }
   ],
   "source": [
    "with DatabaseConnection('fucker.txt') as mydbconn:\n",
    "    print(mydbconn.read())"
   ]
  },
  {
   "cell_type": "markdown",
   "metadata": {},
   "source": [
    "### Generator Decorator"
   ]
  },
  {
   "cell_type": "code",
   "execution_count": 71,
   "metadata": {},
   "outputs": [],
   "source": [
    "class GeneratorContextManager(object):\n",
    "\n",
    "    def __init__(self, gen):\n",
    "        self.gen = gen\n",
    "\n",
    "    def __enter__(self):\n",
    "        try:\n",
    "            return self.gen.__next__()\n",
    "        except StopIteration:\n",
    "            raise RuntimeError('generator didn\\'t yield')\n",
    "\n",
    "    def __exit__(self, type, value, traceback):\n",
    "        if type is None:\n",
    "            try:\n",
    "                self.gen.__next__()\n",
    "            except StopIteration:\n",
    "                return\n",
    "            else:\n",
    "                raise RuntimeError('generator didn\\'t stop')\n",
    "        else:\n",
    "            try:\n",
    "                self.gen.throw(type, value, traceback)\n",
    "                raise RuntimeError('generator didn\\'t stop after throw()')\n",
    "            except StopIteration:\n",
    "                return True\n",
    "            except:\n",
    "                # only re-raise if it's *not* the exception that was\n",
    "                # passed to throw(), because __exit__() must not raise\n",
    "                # an exception unless __exit__() itself failed.  But\n",
    "                # throw() has to raise the exception to signal\n",
    "                # propagation, so this fixes the impedance mismatch\n",
    "                # between the throw() protocol and the __exit__()\n",
    "                # protocol.\n",
    "                #\n",
    "                if sys.exc_info()[1] is not value:\n",
    "                    raise\n",
    "\n",
    "\n",
    "def pep343contextmanager(func):\n",
    "    def helper(*args, **kwds):\n",
    "        return GeneratorContextManager(func(*args, **kwds))\n",
    "    return helper"
   ]
  },
  {
   "cell_type": "markdown",
   "metadata": {},
   "source": [
    "This decorator could be used as follows:"
   ]
  },
  {
   "cell_type": "code",
   "execution_count": 78,
   "metadata": {},
   "outputs": [
    {
     "name": "stdout",
     "output_type": "stream",
     "text": [
      "hey fucker\n"
     ]
    }
   ],
   "source": [
    "@pep343contextmanager\n",
    "def opening(filename):\n",
    "    f = open(filename)  # IOError is untouched by GeneratorContext\n",
    "    try:\n",
    "        yield f\n",
    "    finally:\n",
    "        f.close()  # Ditto for errors here (however unlikely)\n",
    "        \n",
    "\n",
    "with opening('fucker.txt') as f:\n",
    "    print(f.read())"
   ]
  },
  {
   "cell_type": "markdown",
   "metadata": {},
   "source": [
    "A more robust version is provided in the standard library:"
   ]
  },
  {
   "cell_type": "code",
   "execution_count": 76,
   "metadata": {},
   "outputs": [],
   "source": [
    "from contextlib import contextmanager\n",
    "\n",
    "# A template for ensuring that a lock, acquired at the start of a block, is released when the block is left:\n",
    "@contextmanager\n",
    "def locked(lock):\n",
    "    lock.acquire()\n",
    "    try:\n",
    "        yield\n",
    "    finally:\n",
    "        lock.release()"
   ]
  },
  {
   "cell_type": "markdown",
   "metadata": {},
   "source": [
    "### More examples"
   ]
  },
  {
   "cell_type": "markdown",
   "metadata": {},
   "source": [
    "A template for committing or rolling back a database transaction:"
   ]
  },
  {
   "cell_type": "code",
   "execution_count": 79,
   "metadata": {},
   "outputs": [],
   "source": [
    "@contextmanager\n",
    "def transaction(db):\n",
    "    db.begin()\n",
    "    try:\n",
    "        yield None\n",
    "    except:\n",
    "        db.rollback()\n",
    "        raise\n",
    "    else:\n",
    "        db.commit()"
   ]
  }
 ],
 "metadata": {
  "kernelspec": {
   "display_name": "Python 3",
   "language": "python",
   "name": "python3"
  },
  "language_info": {
   "codemirror_mode": {
    "name": "ipython",
    "version": 3
   },
   "file_extension": ".py",
   "mimetype": "text/x-python",
   "name": "python",
   "nbconvert_exporter": "python",
   "pygments_lexer": "ipython3",
   "version": "3.8.5"
  },
  "toc": {
   "base_numbering": 1,
   "nav_menu": {},
   "number_sections": false,
   "sideBar": true,
   "skip_h1_title": false,
   "title_cell": "Table of Contents",
   "title_sidebar": "Contents",
   "toc_cell": false,
   "toc_position": {
    "height": "calc(100% - 180px)",
    "left": "10px",
    "top": "150px",
    "width": "226.917px"
   },
   "toc_section_display": true,
   "toc_window_display": false
  },
  "varInspector": {
   "cols": {
    "lenName": 16,
    "lenType": 16,
    "lenVar": 40
   },
   "kernels_config": {
    "python": {
     "delete_cmd_postfix": "",
     "delete_cmd_prefix": "del ",
     "library": "var_list.py",
     "varRefreshCmd": "print(var_dic_list())"
    },
    "r": {
     "delete_cmd_postfix": ") ",
     "delete_cmd_prefix": "rm(",
     "library": "var_list.r",
     "varRefreshCmd": "cat(var_dic_list()) "
    }
   },
   "position": {
    "height": "497.25px",
    "left": "1103.6px",
    "right": "20px",
    "top": "120px",
    "width": "350px"
   },
   "types_to_exclude": [
    "module",
    "function",
    "builtin_function_or_method",
    "instance",
    "_Feature"
   ],
   "window_display": false
  }
 },
 "nbformat": 4,
 "nbformat_minor": 4
}
