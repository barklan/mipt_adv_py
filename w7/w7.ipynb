{
 "cells": [
  {
   "cell_type": "markdown",
   "metadata": {},
   "source": [
    "# ООП. Абстрактный класс. Декомпозиция программы.\n",
    "# Домашнее задание по неделе 7\n",
    "Число в скобках - количество баллов.\n",
    "\n",
    "---\n",
    "\n",
    "### Абстрактные классы, модули\n",
    "\n",
    "1. (1) Опишите в файле `abstract.md`, какой смысл от абстактного класса, если он не реализует никаких методов."
   ]
  },
  {
   "cell_type": "markdown",
   "metadata": {},
   "source": [
    "<!-- ><p style=\"text-align:right; color:grey\">Lets call this cell \"файл abstract.md\"</p> -->\n",
    ">\n",
    "> **[Documentaion](https://docs.python.org/3/library/abc.html)**\n",
    ">\n",
    ">Абстрактным называется класс, который содержит один и более абстрактных методов. Абстрактным называется объявленный, но не реализованный метод. Абстрактные классы не могут быть инстанциированы, от них нужно унаследовать, реализовать все их абстрактные методы и только тогда можно создать экземпляр такого класса.\n",
    ">\n",
    ">В python существует стандартная библиотека abc, добавляющая в язык абстрактные базовые классы (АБК). АБК позволяют определить класс, указав при этом, какие методы или свойства обязательно переопределить в классах-наследниках.\n",
    ">\n",
    ">Возьмем для примера, шахматы. У всех шахматных фигур есть общий функционал, например - возможность фигуры ходить и быть отображенной на доске. Исходя из этого, мы можем создать абстрактный класс Фигура, определить в нем абстрактный метод (в нашем случае - ход, поскольку каждая фигура ходит по-своему) и реализовать общий функционал (отрисовка на доске). Используя концепцию абстрактных классов, мы можем улучшить качество архитектуры приложения, уменьшить объем работы и при этом, обеспечить легкость дальнейшей поддержки кода."
   ]
  },
  {
   "cell_type": "markdown",
   "metadata": {},
   "source": [
    "2. (3) Возьмите класс `MyMath` из недели 6 и поместите его в файл `math.py`.\n",
    "То же самое проделайте с классом `MyComplexMath` из недели 6 (т.е. переместите класс в `math.py`).\n",
    "Теперь возьмите `Vector` из недели 6 и поместите его в файл ~~`linear_algebra.py`~~ `vector.py`.\n",
    "После этой закиньте файлы `math.py` и ~~`linear_algebra.py`~~ `vector.py` в папку `my_mathematics` и создайте в папке `my_mathematics` пустой файл `__init__.py`.\n",
    "Перейдите в родительскую папку для `my_mathematics` и откройте интерактивный интерпретатор питона.\n",
    "У вас должны работать следующие команды:\n",
    "\n",
    "```python\n",
    ">>> from my_mathematics.math import MyMath, MyComplexMath\n",
    ">>> from my_mathematics.vector import Vector\n",
    "```\n",
    "Если это так, то поздравляю вас: вы только что собрали куски кода в единый модуль!\n",
    "Такая структура вам пригодится в следующем задании."
   ]
  },
  {
   "cell_type": "code",
   "execution_count": 6,
   "metadata": {},
   "outputs": [],
   "source": [
    "from my_mathematics.math import MyMath, MyComplexMath\n",
    "from my_mathematics.vector import Vector"
   ]
  },
  {
   "cell_type": "markdown",
   "metadata": {},
   "source": [
    "---\n",
    "\n",
    "### Сборка .whl-пакетов\n",
    "_Здесь все пункты следует выполнять один за другим._\n",
    "\n",
    "3. (2) Создайте в родительской папке для `my_mathematics` из п.2 файл `setup.py`.\n",
    "После этого идем на [офф.сайт](https://packaging.python.org/tutorials/packaging-projects/) и ищем код, который нужно вставить в `setup.py`.\n",
    "Подставляем, меняем имена на свои."
   ]
  },
  {
   "cell_type": "markdown",
   "metadata": {},
   "source": [
    "4. (1) Создаем виртуальное окружение, устанавливаем в него пакеты `setuptools` и `wheel`.\n",
    "Добавляем эти пакеты в файл `requirements.txt` в **корне** проекта."
   ]
  },
  {
   "cell_type": "markdown",
   "metadata": {},
   "source": [
    "5. (1) В виртуальном окружении выполняем `python setup.py bdist_wheel`.\n",
    "Результатов этого должен быть файл с форматом `.whl` в папке `dist/` в папке 7-ой недели."
   ]
  },
  {
   "cell_type": "markdown",
   "metadata": {},
   "source": [
    "> ![screen1](screen1.png)"
   ]
  },
  {
   "cell_type": "markdown",
   "metadata": {},
   "source": [
    "6. (1) Выходим из виртуального окружения, идем куда-нибудь в далекую от проекта папку.\n",
    "Создаем в ней виртуальное окружение, заходим в него (`source venv/bin/activate`) и в нем устанавливаем наш пакет: `pip install -U <путь_к_пакету_в_папке_dist>`).\n",
    "Заходим в Python и радуемся нашему модулю:\n",
    "\n",
    "```python\n",
    "$ python\n",
    ">>> from my_mathematics.math import MyMath, MyComplexMath\n",
    ">>> from my_mathematics.vector import Vector\n",
    ">>> MyMath.sin(2)\n",
    "0.9092974268256817\n",
    "```"
   ]
  },
  {
   "cell_type": "markdown",
   "metadata": {},
   "source": [
    "> ![screen2](screen2.png)"
   ]
  },
  {
   "cell_type": "markdown",
   "metadata": {},
   "source": [
    "---\n",
    "\n",
    "### Тестирование и pytest\n",
    "7. (2) Вернитесь в то виртуальное окружение, где вы собирали .whl-пакет.\n",
    "Установите в нем `pytest` и добавьте `pytest` в `requirements.txt`.\n",
    "Создайте в папке 7-ой недели папку `tests/`, в ней создайте файл `test_my_math.py`.\n",
    "В файле `test_my_math.py` напишите несколько простых тестов на класс `MyMath`.\n",
    "Например, вы можете проверять значение синусов из модуля и сравнивать с результатами, полученными через `math.sin()`."
   ]
  },
  {
   "cell_type": "code",
   "execution_count": 2,
   "metadata": {},
   "outputs": [
    {
     "name": "stdout",
     "output_type": "stream",
     "text": [
      "============================= test session starts =============================\n",
      "platform win32 -- Python 3.8.6, pytest-6.1.1, py-1.9.0, pluggy-0.13.1\n",
      "rootdir: C:\\Users\\barklan\\DataScience\\mipt_adv_py\\w7\n",
      "collected 1 item\n",
      "\n",
      "project\\tests\\test_my_math.py .                                          [100%]\n",
      "\n",
      "============================== warnings summary ===============================\n",
      "..\\..\\..\\..\\..\\DEV\\anaconda\\lib\\site-packages\\pyreadline\\py3k_compat.py:8\n",
      "  C:\\DEV\\anaconda\\lib\\site-packages\\pyreadline\\py3k_compat.py:8: DeprecationWarning: Using or importing the ABCs from 'collections' instead of from 'collections.abc' is deprecated since Python 3.3, and in 3.9 it will stop working\n",
      "    return isinstance(x, collections.Callable)\n",
      "\n",
      "-- Docs: https://docs.pytest.org/en/stable/warnings.html\n",
      "======================== 1 passed, 1 warning in 0.17s =========================\n"
     ]
    }
   ],
   "source": [
    "!pytest"
   ]
  },
  {
   "cell_type": "markdown",
   "metadata": {},
   "source": [
    "8. (4) Напишите аналогичным образом тесты на `MyComplexMath` и `Vector`.\n",
    "За полное покрытие тестами одного класса ставится 2 балла, за частичное - 1."
   ]
  },
  {
   "cell_type": "code",
   "execution_count": 3,
   "metadata": {},
   "outputs": [],
   "source": [
    "pass"
   ]
  },
  {
   "cell_type": "markdown",
   "metadata": {},
   "source": [
    "##### Памятка по pytest\n",
    "1. Все файлы с тестами должны начинаться с `test_`\n",
    "2. Все функции с тестами должны начинаться с `def test_`\n",
    "3. В `pytest` проверки пишутся через `assert`. Например, если вы хотите проверить, что переменная `a` равна 2, то нужно писать:\n",
    "```python\n",
    "assert a == 2\n",
    "```\n",
    "Если `a` не равен 2, то тест упадет с детальной информацией о проблеме.\n",
    "4. Тесты запускаются через `pytest` в консоли (в bash).\n",
    "В тестах вы можете импортировать ваши функции: `from my_mathematics.math import MyMath`.\n",
    "Если это не работает, попробуйте создать пустой `__init__.py` в папке `tests/`."
   ]
  }
 ],
 "metadata": {
  "kernelspec": {
   "display_name": "Python 3",
   "language": "python",
   "name": "python3"
  },
  "language_info": {
   "codemirror_mode": {
    "name": "ipython",
    "version": 3
   },
   "file_extension": ".py",
   "mimetype": "text/x-python",
   "name": "python",
   "nbconvert_exporter": "python",
   "pygments_lexer": "ipython3",
   "version": "3.8.6"
  },
  "toc": {
   "base_numbering": 1,
   "nav_menu": {},
   "number_sections": false,
   "sideBar": true,
   "skip_h1_title": false,
   "title_cell": "Table of Contents",
   "title_sidebar": "Contents",
   "toc_cell": false,
   "toc_position": {},
   "toc_section_display": true,
   "toc_window_display": false
  },
  "varInspector": {
   "cols": {
    "lenName": 16,
    "lenType": 16,
    "lenVar": 40
   },
   "kernels_config": {
    "python": {
     "delete_cmd_postfix": "",
     "delete_cmd_prefix": "del ",
     "library": "var_list.py",
     "varRefreshCmd": "print(var_dic_list())"
    },
    "r": {
     "delete_cmd_postfix": ") ",
     "delete_cmd_prefix": "rm(",
     "library": "var_list.r",
     "varRefreshCmd": "cat(var_dic_list()) "
    }
   },
   "types_to_exclude": [
    "module",
    "function",
    "builtin_function_or_method",
    "instance",
    "_Feature"
   ],
   "window_display": false
  }
 },
 "nbformat": 4,
 "nbformat_minor": 4
}
