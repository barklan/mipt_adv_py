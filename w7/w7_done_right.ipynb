{
 "cells": [
  {
   "cell_type": "markdown",
   "metadata": {},
   "source": [
    "<center>\n",
    "\n",
    "# Packaging reference"
   ]
  },
  {
   "cell_type": "markdown",
   "metadata": {},
   "source": [
    "### Environments\n",
    "- [Virtual Environments](https://docs.python.org/3/tutorial/venv.html)\n",
    "- [**Managing conda environments**](https://docs.conda.io/projects/conda/en/latest/user-guide/tasks/manage-environments.html)\n",
    "\n",
    "To list envs \\\n",
    "`conda env list` \\\n",
    "To create one \\\n",
    "`conda create -n myenv` or `conda create --prefix ./envs` \\\n",
    "To activate \\\n",
    "`conda activate myenv` or `conda activate ./envs` \\\n",
    "To remove \\\n",
    "`conda remove -n myenv --all`\n",
    "\n",
    "### Importing\n",
    "\n",
    "- [Modules](https://docs.python.org/3/tutorial/modules.html)  |  [The import system](https://docs.python.org/3/reference/import.html)\n",
    "- [**Script vs Module explained**](https://stackoverflow.com/questions/14132789/relative-imports-for-the-billionth-time/14132912#14132912)\n",
    "\n",
    "\n",
    "### Packaging\n",
    "- [**Packaging Python Projects**](https://packaging.python.org/tutorials/packaging-projects/)\n",
    "- [PyPI](https://pypi.org/)\n",
    "\n",
    "\n",
    "### pytest\n",
    "- [pytest](https://docs.pytest.org/en/latest/)"
   ]
  }
 ],
 "metadata": {
  "kernelspec": {
   "display_name": "Python 3",
   "language": "python",
   "name": "python3"
  },
  "language_info": {
   "codemirror_mode": {
    "name": "ipython",
    "version": 3
   },
   "file_extension": ".py",
   "mimetype": "text/x-python",
   "name": "python",
   "nbconvert_exporter": "python",
   "pygments_lexer": "ipython3",
   "version": "3.8.3"
  },
  "toc": {
   "base_numbering": 1,
   "nav_menu": {},
   "number_sections": false,
   "sideBar": true,
   "skip_h1_title": false,
   "title_cell": "Table of Contents",
   "title_sidebar": "Contents",
   "toc_cell": false,
   "toc_position": {},
   "toc_section_display": true,
   "toc_window_display": false
  },
  "varInspector": {
   "cols": {
    "lenName": 16,
    "lenType": 16,
    "lenVar": 40
   },
   "kernels_config": {
    "python": {
     "delete_cmd_postfix": "",
     "delete_cmd_prefix": "del ",
     "library": "var_list.py",
     "varRefreshCmd": "print(var_dic_list())"
    },
    "r": {
     "delete_cmd_postfix": ") ",
     "delete_cmd_prefix": "rm(",
     "library": "var_list.r",
     "varRefreshCmd": "cat(var_dic_list()) "
    }
   },
   "types_to_exclude": [
    "module",
    "function",
    "builtin_function_or_method",
    "instance",
    "_Feature"
   ],
   "window_display": false
  }
 },
 "nbformat": 4,
 "nbformat_minor": 4
}
