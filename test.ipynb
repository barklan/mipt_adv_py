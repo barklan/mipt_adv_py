{
 "cells": [
  {
   "cell_type": "code",
   "execution_count": 66,
   "metadata": {
    "scrolled": false
   },
   "outputs": [
    {
     "name": "stdout",
     "output_type": "stream",
     "text": [
      "1\n",
      "abc AbC foo BAR foo bar Foo bar bar bar ABC FOO\n",
      "[('abc', 3), ('bar', 2), ('foo', 3)]\n",
      "abc\n",
      "foo\n"
     ]
    }
   ],
   "source": [
    "from collections import Counter\n",
    "from operator import itemgetter, attrgetter\n",
    "\n",
    "raw = []\n",
    "lower = []\n",
    "dic = {}\n",
    "\n",
    "N = int(input())\n",
    "for _ in range(N):\n",
    "    temp = input()\n",
    "    tlst = list(temp.split(' '))\n",
    "    tlstl = list(temp.lower().split(' '))\n",
    "    raw += tlst\n",
    "    lower += tlstl\n",
    "    \n",
    "lower = list(set(lower))\n",
    "raw = list(set(raw))\n",
    "for i in lower:\n",
    "    dic[i] = 1\n",
    "    for j in raw:\n",
    "        if i == j.lower() and i != j:\n",
    "            dic[i] += 1\n",
    "\n",
    "# out = [items for dic.items()]\n",
    "def multisort(xs, specs):\n",
    "    for key, reverse in reversed(specs):\n",
    "        xs.sort(key=key, reverse=reverse)\n",
    "    return xs\n",
    "\n",
    "out = [items for items in dic.items()]\n",
    "print(out)\n",
    "out = multisort(out, ((lambda x: (x[1]), True), (lambda x: (x[0]), False)))\n",
    "\n",
    "for k, v in out:\n",
    "    if v >= 3:\n",
    "        print(k)\n",
    "    "
   ]
  },
  {
   "cell_type": "markdown",
   "metadata": {},
   "source": [
    "---"
   ]
  },
  {
   "cell_type": "code",
   "execution_count": 1,
   "metadata": {},
   "outputs": [
    {
     "name": "stdout",
     "output_type": "stream",
     "text": [
      "Значение икса = 5\n"
     ]
    }
   ],
   "source": [
    "x = 5\n",
    "print(f'Значение икса = {x}')"
   ]
  },
  {
   "cell_type": "code",
   "execution_count": null,
   "metadata": {},
   "outputs": [],
   "source": []
  }
 ],
 "metadata": {
  "kernelspec": {
   "display_name": "Python 3",
   "language": "python",
   "name": "python3"
  },
  "language_info": {
   "codemirror_mode": {
    "name": "ipython",
    "version": 3
   },
   "file_extension": ".py",
   "mimetype": "text/x-python",
   "name": "python",
   "nbconvert_exporter": "python",
   "pygments_lexer": "ipython3",
   "version": "3.8.5"
  },
  "toc": {
   "base_numbering": 1,
   "nav_menu": {},
   "number_sections": false,
   "sideBar": true,
   "skip_h1_title": false,
   "title_cell": "Table of Contents",
   "title_sidebar": "Contents",
   "toc_cell": false,
   "toc_position": {},
   "toc_section_display": true,
   "toc_window_display": false
  },
  "varInspector": {
   "cols": {
    "lenName": 16,
    "lenType": 16,
    "lenVar": 40
   },
   "kernels_config": {
    "python": {
     "delete_cmd_postfix": "",
     "delete_cmd_prefix": "del ",
     "library": "var_list.py",
     "varRefreshCmd": "print(var_dic_list())"
    },
    "r": {
     "delete_cmd_postfix": ") ",
     "delete_cmd_prefix": "rm(",
     "library": "var_list.r",
     "varRefreshCmd": "cat(var_dic_list()) "
    }
   },
   "types_to_exclude": [
    "module",
    "function",
    "builtin_function_or_method",
    "instance",
    "_Feature"
   ],
   "window_display": false
  }
 },
 "nbformat": 4,
 "nbformat_minor": 4
}
