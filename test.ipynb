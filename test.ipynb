{
 "cells": [
  {
   "cell_type": "code",
   "execution_count": 3,
   "metadata": {},
   "outputs": [
    {
     "name": "stdout",
     "output_type": "stream",
     "text": [
      "Overwriting test_one.py\n"
     ]
    }
   ],
   "source": [
    "%%writefile test_one.py\n",
    "\n",
    "\n",
    "def test_passing():\n",
    "    assert (1, 2, 3) == (1, 2, 3)"
   ]
  },
  {
   "cell_type": "code",
   "execution_count": 4,
   "metadata": {},
   "outputs": [
    {
     "name": "stdout",
     "output_type": "stream",
     "text": [
      " Volume in drive C has no label.\n",
      " Volume Serial Number is 8E77-33B6\n",
      "\n",
      " Directory of C:\\Users\\barklan\\DataScience\\mipt_adv_py\n",
      "\n",
      "10/23/2020  11:47 PM    <DIR>          .\n",
      "10/23/2020  11:47 PM    <DIR>          ..\n",
      "10/20/2020  01:26 PM                59 .gitignore\n",
      "09/21/2020  11:11 PM    <DIR>          .ipynb_checkpoints\n",
      "10/23/2020  11:27 PM    <DIR>          .pytest_cache\n",
      "10/15/2020  12:12 PM    <DIR>          phys_labs\n",
      "09/30/2020  12:16 PM               175 README.md\n",
      "10/23/2020  11:47 PM             5,369 test.ipynb\n",
      "10/23/2020  11:47 PM                60 test_one.py\n",
      "09/15/2020  10:26 AM    <DIR>          w1\n",
      "09/15/2020  12:46 PM    <DIR>          w2\n",
      "09/21/2020  11:10 PM    <DIR>          w3\n",
      "09/30/2020  11:23 AM    <DIR>          w4\n",
      "10/17/2020  11:34 PM    <DIR>          w5\n",
      "10/17/2020  11:34 PM    <DIR>          w5_dragons\n",
      "10/17/2020  11:34 PM    <DIR>          w6\n",
      "10/20/2020  02:42 PM    <DIR>          w7\n",
      "10/23/2020  11:27 PM    <DIR>          __pycache__\n",
      "               4 File(s)          5,663 bytes\n",
      "              14 Dir(s)  67,369,369,600 bytes free\n"
     ]
    }
   ],
   "source": [
    "!dir"
   ]
  },
  {
   "cell_type": "code",
   "execution_count": 5,
   "metadata": {},
   "outputs": [
    {
     "name": "stdout",
     "output_type": "stream",
     "text": [
      "============================= test session starts =============================\n",
      "platform win32 -- Python 3.8.6, pytest-6.1.1, py-1.9.0, pluggy-0.13.1\n",
      "rootdir: C:\\Users\\barklan\\DataScience\\mipt_adv_py\n",
      "collected 1 item\n",
      "\n",
      "test_one.py .                                                            [100%]\n",
      "\n",
      "============================== warnings summary ===============================\n",
      "..\\..\\..\\..\\DEV\\anaconda\\lib\\site-packages\\pyreadline\\py3k_compat.py:8\n",
      "  C:\\DEV\\anaconda\\lib\\site-packages\\pyreadline\\py3k_compat.py:8: DeprecationWarning: Using or importing the ABCs from 'collections' instead of from 'collections.abc' is deprecated since Python 3.3, and in 3.9 it will stop working\n",
      "    return isinstance(x, collections.Callable)\n",
      "\n",
      "-- Docs: https://docs.pytest.org/en/stable/warnings.html\n",
      "======================== 1 passed, 1 warning in 0.01s =========================\n"
     ]
    }
   ],
   "source": [
    "!pytest test_one.py"
   ]
  },
  {
   "cell_type": "markdown",
   "metadata": {},
   "source": [
    "hjoo `hor` write `how` to perform the greatest thing in the world to be \n",
    "how to behave properly to perform the best you can be to be succesfull and to be the best in the field \n",
    "but this can be done in a mere second though\n",
    "\n",
    "---\n",
    "how \n",
    "this is not the best option"
   ]
  },
  {
   "cell_type": "code",
   "execution_count": null,
   "metadata": {},
   "outputs": [],
   "source": []
  }
 ],
 "metadata": {
  "kernelspec": {
   "display_name": "Python 3",
   "language": "python",
   "name": "python3"
  },
  "language_info": {
   "codemirror_mode": {
    "name": "ipython",
    "version": 3
   },
   "file_extension": ".py",
   "mimetype": "text/x-python",
   "name": "python",
   "nbconvert_exporter": "python",
   "pygments_lexer": "ipython3",
   "version": "3.8.6"
  },
  "toc": {
   "base_numbering": 1,
   "nav_menu": {
    "height": "195px",
    "width": "219.2px"
   },
   "number_sections": false,
   "sideBar": true,
   "skip_h1_title": false,
   "title_cell": "Table of Contents",
   "title_sidebar": "Contents",
   "toc_cell": false,
   "toc_position": {},
   "toc_section_display": true,
   "toc_window_display": false
  },
  "varInspector": {
   "cols": {
    "lenName": 16,
    "lenType": 16,
    "lenVar": 40
   },
   "kernels_config": {
    "python": {
     "delete_cmd_postfix": "",
     "delete_cmd_prefix": "del ",
     "library": "var_list.py",
     "varRefreshCmd": "print(var_dic_list())"
    },
    "r": {
     "delete_cmd_postfix": ") ",
     "delete_cmd_prefix": "rm(",
     "library": "var_list.r",
     "varRefreshCmd": "cat(var_dic_list()) "
    }
   },
   "position": {
    "height": "357.85px",
    "left": "1103.6px",
    "right": "20px",
    "top": "120px",
    "width": "350px"
   },
   "types_to_exclude": [
    "module",
    "function",
    "builtin_function_or_method",
    "instance",
    "_Feature"
   ],
   "window_display": false
  }
 },
 "nbformat": 4,
 "nbformat_minor": 4
}
