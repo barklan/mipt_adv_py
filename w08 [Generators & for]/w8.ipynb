{
 "cells": [
  {
   "cell_type": "markdown",
   "metadata": {},
   "source": [
    "# Week 8 - Generators and `for`\n",
    "\n",
    "## [**Yield expressions and generator methods**](https://docs.python.org/3/reference/expressions.html#yield-expressions)"
   ]
  },
  {
   "cell_type": "markdown",
   "metadata": {},
   "source": [
    "Simple fibonacci generator"
   ]
  },
  {
   "cell_type": "code",
   "execution_count": 7,
   "metadata": {},
   "outputs": [
    {
     "name": "stdout",
     "output_type": "stream",
     "text": [
      "0\n",
      "1\n",
      "0\n",
      "1\n",
      "1\n",
      "2\n",
      "3\n",
      "5\n",
      "8\n",
      "13\n",
      "21\n",
      "34\n"
     ]
    }
   ],
   "source": [
    "def fibgen():\n",
    "    a, b = 0, 1\n",
    "    while True:\n",
    "        yield a\n",
    "        a, b = b, a + b\n",
    "        \n",
    "        \n",
    "# 0, 1, 1, 2, 3, 5, 8, 13, 21, 34, 55\n",
    "generator = fibgen()\n",
    "\n",
    "print(next(generator))\n",
    "# 0 is yielded value\n",
    "\n",
    "print(generator.__next__())\n",
    "\n",
    "for number in fibgen():\n",
    "    if number >= 50:\n",
    "        break\n",
    "    print(number)"
   ]
  },
  {
   "cell_type": "markdown",
   "metadata": {},
   "source": [
    "**``__next__()`` and ``send(value)`` interaction**"
   ]
  },
  {
   "cell_type": "code",
   "execution_count": 8,
   "metadata": {
    "scrolled": true
   },
   "outputs": [
    {
     "name": "stdout",
     "output_type": "stream",
     "text": [
      "__next__(): \t\t\t\t 1\n",
      "__next__(): \t\t\t\t 2\n",
      "send() argument \t\t\t 0\n",
      "send() returns the next value yielded:\t 1\n",
      "__next__(): \t\t\t\t 2\n",
      "__next__(): \t\t\t\t 3\n",
      "send() argument \t\t\t 10\n",
      "send() returns the next value yielded:\t 11\n",
      "__next__(): \t\t\t\t 12\n",
      "__next__(): \t\t\t\t 13\n",
      "send() argument \t\t\t 20\n",
      "send() returns the next value yielded:\t 21\n",
      "No\n"
     ]
    }
   ],
   "source": [
    "def simplegen():\n",
    "    n = 0\n",
    "    while True:\n",
    "        n += 1\n",
    "        cached_n = n\n",
    "        n = yield n  # __next__() yields n and sets the yield to None,\n",
    "                     # so n becomes None as a result\n",
    "        if n is None:  # we restore n after the __next__() call\n",
    "            n = cached_n\n",
    "        \n",
    "\n",
    "gen = simplegen()\n",
    "\n",
    "for i in range(3):\n",
    "    for _ in range(2):\n",
    "        print(f'__next__(): \\t\\t\\t\\t {next(gen)}')\n",
    "    value_to_send = i*10\n",
    "    print(f'send() argument \\t\\t\\t {value_to_send}')\n",
    "    print(f'send() returns the next value yielded:\\t {gen.send(value_to_send)}')\n",
    "    \n",
    "gen.close()\n",
    "try:\n",
    "    next(gen)\n",
    "except StopIteration:\n",
    "    print('No')\n",
    "    pass"
   ]
  },
  {
   "cell_type": "code",
   "execution_count": 9,
   "metadata": {},
   "outputs": [],
   "source": [
    "def A():\n",
    "    print('A')\n",
    "def B():\n",
    "    print('B')\n",
    "def C():\n",
    "    print('C')\n",
    "    \n",
    "list = [1, 2, 3, 4, 5, 6, 7, 8, 9, 10, 11, 12, 13, 14, 15, 16, 17]"
   ]
  },
  {
   "cell_type": "markdown",
   "metadata": {},
   "source": [
    "```\n",
    "\n",
    "\n",
    "\n",
    "\n",
    "\n",
    "\n",
    "\n",
    "\n",
    "\n",
    "\n",
    "\n",
    "\n",
    "```\n",
    "\n",
    "---\n",
    "\n",
    "# Домашнее задание по неделе 8\n",
    "Число в скобках - количество баллов.\n",
    "_В этой неделе все ДЗ взято с [соответствующей лабы](http://cs.mipt.ru/advanced_python/lessons/lab08.html)_\n",
    "\n",
    "\n",
    "Везде, где предлагается протестировать программу, используйте `pytest`. \n",
    "Также ожидается, что из успешного прохождения тестов **действительно** можно сделать вывод о работоспособности программы - старайтесь покрыть краевые случаи, а также тестируйте на разных данных.\n",
    "\n",
    "## Генераторы и цикл for\n",
    "\n",
    "\n",
    "### 1\n",
    "\n",
    "> (2)\n",
    "Вам дана функция на языке python:\n",
    "\n",
    "\n",
    ">```python\n",
    "def print_map(function, iterable):\n",
    "    for i in iterable:\n",
    "        print(function(i))\n",
    ">```\n",
    "\n",
    "> Требуется переписать данную функцию не используя цикл for."
   ]
  },
  {
   "cell_type": "code",
   "execution_count": 10,
   "metadata": {},
   "outputs": [
    {
     "name": "stdout",
     "output_type": "stream",
     "text": [
      "0.0\n",
      "1.2246467991473532e-16\n",
      "-1.0\n"
     ]
    }
   ],
   "source": [
    "import numpy as np\n",
    "\n",
    "\n",
    "arr = np.array([0, np.pi, 3*np.pi/2])\n",
    "\n",
    "def print_map(function, iterable):\n",
    "    for i in iterable:\n",
    "        print(function(i))\n",
    "        \n",
    "        \n",
    "print_map(np.sin, arr)"
   ]
  },
  {
   "cell_type": "code",
   "execution_count": 11,
   "metadata": {},
   "outputs": [
    {
     "name": "stdout",
     "output_type": "stream",
     "text": [
      "0.0\n",
      "1.2246467991473532e-16\n",
      "-1.0\n"
     ]
    }
   ],
   "source": [
    "def print_map(function, iterable):\n",
    "    print(*(map(function, iterable)), sep='\\n')\n",
    "    \n",
    "    \n",
    "print_map(np.sin, arr)"
   ]
  },
  {
   "cell_type": "markdown",
   "metadata": {},
   "source": [
    "    \n",
    "### 2\n",
    "    \n",
    "> (3) Напишите генератор, выводящий первые n чисел Фибоначчи.\n",
    "(1) Напишите несколько тестов на генератор."
   ]
  },
  {
   "cell_type": "code",
   "execution_count": 12,
   "metadata": {},
   "outputs": [],
   "source": [
    "def fibgen():\n",
    "    a, b = 0, 1\n",
    "    while True:\n",
    "        yield a\n",
    "        a, b = b, a + b\n",
    "\n",
    "\n",
    "def fib(n):\n",
    "    f = fibgen()\n",
    "    a = []\n",
    "    for _ in range(n):\n",
    "        a.append(next(f))\n",
    "    return a"
   ]
  },
  {
   "cell_type": "markdown",
   "metadata": {},
   "source": [
    "\n",
    "### 3\n",
    "    \n",
    "> (3) Реализуйте аналог функций zip, map, enumerate.\n",
    "(1) Напишите несколько тестов на нескольких данных."
   ]
  },
  {
   "cell_type": "markdown",
   "metadata": {},
   "source": [
    "[**Built-in Functions**](https://docs.python.org/3/library/functions.html#built-in-functions)"
   ]
  },
  {
   "cell_type": "code",
   "execution_count": 4,
   "metadata": {},
   "outputs": [
    {
     "name": "stdout",
     "output_type": "stream",
     "text": [
      "Overwriting w8_3.py\n"
     ]
    }
   ],
   "source": [
    "%%writefile w8_3.py\n",
    "def my_zip(*iterables):\n",
    "    sentinel = object()\n",
    "    iterators = [iter(it) for it in iterables]\n",
    "    while iterators:\n",
    "        result = []\n",
    "        for it in iterators:\n",
    "            elem = next(it, sentinel)\n",
    "            if elem is sentinel:\n",
    "                return\n",
    "            result.append(elem)\n",
    "        yield tuple(result)\n",
    "\n",
    "\n",
    "def my_map(func, iterable):\n",
    "    for i in iterable:\n",
    "        yield func(i)\n",
    "\n",
    "\n",
    "def my_enumerate(sequence, start=0):\n",
    "    n = start\n",
    "    for elem in sequence:\n",
    "        yield n, elem\n",
    "        n += 1"
   ]
  },
  {
   "cell_type": "markdown",
   "metadata": {},
   "source": [
    "    \n",
    "### 4\n",
    "    \n",
    "> 4. (3) Написать функцию, принимающую 2 списка и возвращающую декартово произведение (использовать `itertools.product`)\n",
    "\n",
    "```python\n",
    "def get_cartesian_product(a, b):\n",
    "    raise RuntimeError(\"Not implemented\")\n",
    "\n",
    "assert get_cartesian_product([1, 2], [3, 4]) == [(1, 3), (1, 4), (2, 3), (2, 4)]\n",
    "```\n",
    "\n",
    "> (1) Напишите несколько тестов на нескольких данных."
   ]
  },
  {
   "cell_type": "code",
   "execution_count": 6,
   "metadata": {},
   "outputs": [
    {
     "name": "stdout",
     "output_type": "stream",
     "text": [
      "Overwriting w8_4.py\n"
     ]
    }
   ],
   "source": [
    "%%writefile w8_4.py\n",
    "from itertools import product\n",
    "\n",
    "\n",
    "def get_cartesian_product(a, b):\n",
    "    return list(product(a, b))"
   ]
  },
  {
   "cell_type": "markdown",
   "metadata": {},
   "source": [
    "\n",
    "### 5\n",
    "\n",
    "> (3) Написать функцию, принимающую строку `s` и число `n` и возвращающую всевозможные перестановки из `n` символов в `s` строке в **лексикографическом** порядке (использовать `itertools.permutations`)\n",
    "\n",
    "```python\n",
    "def get_permutations(s, n):\n",
    "    raise RuntimeError(\"Not implemented\")\n",
    "\n",
    "assert get_permutations(\"cat\", 2) == [\"ac\", \"at\", \"ca\", \"ct\", \"ta\", \"tc\"]\n",
    "```\n",
    "\n",
    "> (1) Напишите несколько тестов на нескольких данных."
   ]
  },
  {
   "cell_type": "code",
   "execution_count": 7,
   "metadata": {},
   "outputs": [
    {
     "name": "stdout",
     "output_type": "stream",
     "text": [
      "Overwriting w8_5.py\n"
     ]
    }
   ],
   "source": [
    "%%writefile w8_5.py\n",
    "from itertools import permutations\n",
    "\n",
    "\n",
    "def get_permutations(s, n):\n",
    "    return sorted([''.join(x) for x in permutations(s, n)])"
   ]
  },
  {
   "cell_type": "markdown",
   "metadata": {},
   "source": [
    "    \n",
    "### 6\n",
    "\n",
    "> (3) Реализовать функцию `get_combinations`. Должна принимать строку `s` и число `k` и возвращать все возможные комбинации из символов в строке `s` с длинами <= `k` (использовать `itertools.combinations`)\n",
    "\n",
    "```python\n",
    "def get_combinations(s, n):\n",
    "    raise RuntimeError(\"Not implemented\")\n",
    "\n",
    "assert get_combinations(\"cat\", 2) == [\"a\", \"c\", \"t\", \"ac\", \"at\", \"ct\"]\n",
    "```\n",
    "\n",
    "> (1) Напишите несколько тестов на нескольких данных."
   ]
  },
  {
   "cell_type": "code",
   "execution_count": 8,
   "metadata": {},
   "outputs": [
    {
     "name": "stdout",
     "output_type": "stream",
     "text": [
      "Overwriting w8_6.py\n"
     ]
    }
   ],
   "source": [
    "%%writefile w8_6.py\n",
    "from itertools import combinations\n",
    "\n",
    "\n",
    "def get_combinations(s, n):\n",
    "    a = sorted([''.join(sorted(x)) for i in range(1, n+1) for x in combinations(s, i)])\n",
    "    a.sort(key=lambda x: len(x))\n",
    "    return a"
   ]
  },
  {
   "cell_type": "markdown",
   "metadata": {},
   "source": [
    "    \n",
    "### 7\n",
    "\n",
    "> (3) Функция должна принимать строку `s` и число `k` и возвращать все возможные комбинации из символов в строке `s` с длинами, равными `k`, с повторениями (использовать `itertools.combinations_with_replacement`)\n",
    "\n",
    "```python\n",
    "def get_combinations_with_r(s, n):\n",
    "    raise RuntimeError(\"Not implemented\")\n",
    "\n",
    "assert get_combinations_with_r(\"cat\", 2) == [\"aa\", \"ac\", \"at\", \"cc\", \"ct\", \"tt\"]\n",
    "```\n",
    "\n",
    "> (1) Напишите несколько тестов на нескольких данных."
   ]
  },
  {
   "cell_type": "code",
   "execution_count": 9,
   "metadata": {},
   "outputs": [
    {
     "name": "stdout",
     "output_type": "stream",
     "text": [
      "Overwriting w8_7.py\n"
     ]
    }
   ],
   "source": [
    "%%writefile w8_7.py\n",
    "from itertools import combinations_with_replacement\n",
    "\n",
    "\n",
    "def get_combinations_with_r(s, n):\n",
    "    return sorted([''.join(sorted(x)) for x in combinations_with_replacement(s, n)])"
   ]
  },
  {
   "cell_type": "markdown",
   "metadata": {},
   "source": [
    "    \n",
    "### 8\n",
    "\n",
    "> (3) Написать функцию, которая подсчитывает количество подряд идующих символов в строке (использовать `itertools.groupby`)\n",
    "\n",
    "```python\n",
    "def compress_string(s):\n",
    "    raise RuntimeError(\"Not implemented\")\n",
    "\n",
    "assert compress_string('1222311') == [(1, 1), (3, 2), (1, 3), (2, 1)]\n",
    "```\n",
    "\n",
    "> (1) Напишите несколько тестов на нескольких данных."
   ]
  },
  {
   "cell_type": "code",
   "execution_count": 10,
   "metadata": {},
   "outputs": [
    {
     "name": "stdout",
     "output_type": "stream",
     "text": [
      "Overwriting w8_8.py\n"
     ]
    }
   ],
   "source": [
    "%%writefile w8_8.py\n",
    "from itertools import groupby\n",
    "\n",
    "\n",
    "def get_combinations_with_r(s, n):\n",
    "    return sorted([''.join(sorted(x)) for x in combinations_with_replacement(s, n)])\n",
    "\n",
    "    \n",
    "def compress_string(s):\n",
    "    groups = []\n",
    "    uniquekeys = []\n",
    "    for k, g in groupby(s):\n",
    "        groups.append(len(list(g)))\n",
    "        uniquekeys.append(int(k))\n",
    "    return list(zip(groups, uniquekeys))"
   ]
  },
  {
   "cell_type": "markdown",
   "metadata": {},
   "source": [
    "    \n",
    "### 9\n",
    "\n",
    "> (4) В функцию передается список списков. Нужно вернуть максимум, который достигает выражение `a_1^2 + a_2^2 + ... + a_n^2) % m`. Где `a_i` - максимальный элемент из i-ого списка (использовать функцию из `itertools`)\n",
    "\n",
    "```python\n",
    "def maximize(lists, m):\n",
    "    raise RuntimeError(\"Not implemented\")\n",
    "\n",
    "lists = [\n",
    "    [5, 4],\n",
    "    [7, 8, 9],\n",
    "    [5, 7, 8, 9, 10]\n",
    "]\n",
    "assert maximize(lists, m=1000) == 206\n",
    "```\n",
    "\n",
    "> В примере = 206, так как это максимум от суммы `(a_21 + a_22 + a_23) % 1000`.\n",
    "\n",
    "> (2) Напишите несколько тестов на нескольких данных."
   ]
  },
  {
   "cell_type": "code",
   "execution_count": 11,
   "metadata": {},
   "outputs": [
    {
     "name": "stdout",
     "output_type": "stream",
     "text": [
      "Overwriting w8_9.py\n"
     ]
    }
   ],
   "source": [
    "%%writefile w8_9.py\n",
    "from itertools import accumulate\n",
    "\n",
    "\n",
    "def maximize(lists, m):\n",
    "    squared_maxes = [max(lst)**2 for lst in lists]\n",
    "    polynomials = [p for p in accumulate(squared_maxes)]\n",
    "    \n",
    "    return max([x % m for x in polynomials])"
   ]
  },
  {
   "cell_type": "markdown",
   "metadata": {},
   "source": [
    "![testingisforwimps](testingisforwimps2.jpg)\n"
   ]
  },
  {
   "cell_type": "code",
   "execution_count": 4,
   "metadata": {
    "scrolled": false
   },
   "outputs": [
    {
     "name": "stdout",
     "output_type": "stream",
     "text": [
      "============================= test session starts =============================\n",
      "platform win32 -- Python 3.8.5, pytest-6.1.1, py-1.9.0, pluggy-0.13.1 -- C:\\DEV\\anaconda\\envs\\experimental\\python.exe\n",
      "cachedir: .pytest_cache\n",
      "rootdir: C:\\Users\\barklan\\DataScience\\mipt_adv_py\\w8 [Generators & for]\n",
      "collecting ... collected 28 items\n",
      "\n",
      "tests/test_3_Albina.py::test_for_zip PASSED                              [  3%]\n",
      "tests/test_3_Albina.py::test_for_zip2 PASSED                             [  7%]\n",
      "tests/test_3_Albina.py::test_for_map PASSED                              [ 10%]\n",
      "tests/test_3_Albina.py::test_for_enumerate PASSED                        [ 14%]\n",
      "tests/test_3_Ilyana.py::test_zip[a0-b0] PASSED                           [ 17%]\n",
      "tests/test_3_Ilyana.py::test_zip[a1-b1] PASSED                           [ 21%]\n",
      "tests/test_3_Ilyana.py::test_zip[a2-b2] PASSED                           [ 25%]\n",
      "tests/test_3_Ilyana.py::test_map[int-it0] PASSED                         [ 28%]\n",
      "tests/test_3_Ilyana.py::test_map[abs-it1] PASSED                         [ 32%]\n",
      "tests/test_3_Ilyana.py::test_enumerate[list10] PASSED                    [ 35%]\n",
      "tests/test_3_Ilyana.py::test_enumerate[list11] PASSED                    [ 39%]\n",
      "tests/test_3_mine_shitty.py::test_zip PASSED                             [ 42%]\n",
      "tests/test_3_mine_shitty.py::test_map PASSED                             [ 46%]\n",
      "tests/test_3_mine_shitty.py::test_enumerate PASSED                       [ 50%]\n",
      "tests/test_4_Albina.py::test_for_cartesian_product PASSED                [ 53%]\n",
      "tests/test_4_Ilyana.py::test_product[a0-b0] PASSED                       [ 57%]\n",
      "tests/test_4_Ilyana.py::test_product[a1-b1] PASSED                       [ 60%]\n",
      "tests/test_4_Ilyana.py::test_product[a2-b2] PASSED                       [ 64%]\n",
      "tests/test_4_mine_shitty.py::test_product PASSED                         [ 67%]\n",
      "tests/test_5_mine_shitty.py::test_permutations PASSED                    [ 71%]\n",
      "tests/test_6_mine_shitty.py::test_combinations PASSED                    [ 75%]\n",
      "tests/test_7_Ilyana.py::test_combinations_with_r[s0-1] PASSED            [ 78%]\n",
      "tests/test_7_Ilyana.py::test_combinations_with_r[s1-2] PASSED            [ 82%]\n",
      "tests/test_7_Ilyana.py::test_combinations_with_r[s2-3] PASSED            [ 85%]\n",
      "tests/test_8_Ilyana.py::test_compress_string PASSED                      [ 89%]\n",
      "tests/test_9_Ilyana.py::test_maximize[lists0-1000] PASSED                [ 92%]\n",
      "tests/test_9_Ilyana.py::test_maximize[lists1-100] PASSED                 [ 96%]\n",
      "tests/test_9_Ilyana.py::test_maximize[lists2-10] PASSED                  [100%]\n",
      "\n",
      "============================= 28 passed in 0.19s ==============================\n"
     ]
    }
   ],
   "source": [
    "!pytest -vv -p no:warnings"
   ]
  }
 ],
 "metadata": {
  "kernelspec": {
   "display_name": "Python 3",
   "language": "python",
   "name": "python3"
  },
  "language_info": {
   "codemirror_mode": {
    "name": "ipython",
    "version": 3
   },
   "file_extension": ".py",
   "mimetype": "text/x-python",
   "name": "python",
   "nbconvert_exporter": "python",
   "pygments_lexer": "ipython3",
   "version": "3.8.5"
  },
  "toc": {
   "base_numbering": 1,
   "nav_menu": {},
   "number_sections": false,
   "sideBar": true,
   "skip_h1_title": false,
   "title_cell": "Table of Contents",
   "title_sidebar": "Contents",
   "toc_cell": false,
   "toc_position": {
    "height": "calc(100% - 180px)",
    "left": "10px",
    "top": "150px",
    "width": "243.117px"
   },
   "toc_section_display": true,
   "toc_window_display": true
  },
  "varInspector": {
   "cols": {
    "lenName": 16,
    "lenType": 16,
    "lenVar": 40
   },
   "kernels_config": {
    "python": {
     "delete_cmd_postfix": "",
     "delete_cmd_prefix": "del ",
     "library": "var_list.py",
     "varRefreshCmd": "print(var_dic_list())"
    },
    "r": {
     "delete_cmd_postfix": ") ",
     "delete_cmd_prefix": "rm(",
     "library": "var_list.r",
     "varRefreshCmd": "cat(var_dic_list()) "
    }
   },
   "types_to_exclude": [
    "module",
    "function",
    "builtin_function_or_method",
    "instance",
    "_Feature"
   ],
   "window_display": false
  }
 },
 "nbformat": 4,
 "nbformat_minor": 4
}
