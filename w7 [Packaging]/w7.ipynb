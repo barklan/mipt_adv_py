{
 "cells": [
  {
   "cell_type": "markdown",
   "metadata": {},
   "source": [
    "# Week 7 - packaging"
   ]
  },
  {
   "cell_type": "markdown",
   "metadata": {},
   "source": [
    "### Environments\n",
    "- [Virtual Environments](https://docs.python.org/3/tutorial/venv.html)\n",
    "- [**Managing conda environments**](https://docs.conda.io/projects/conda/en/latest/user-guide/tasks/manage-environments.html)\n",
    "\n",
    "To list envs \\\n",
    "`conda env list` \\\n",
    "To create one \\\n",
    "`conda create -n myenv` or `conda create --prefix ./envs` \\\n",
    "To activate \\\n",
    "`conda activate myenv` or `conda activate ./envs` \\\n",
    "To remove \\\n",
    "`conda remove -n myenv --all`\n",
    "\n",
    "### Importing\n",
    "\n",
    "- [Modules](https://docs.python.org/3/tutorial/modules.html)  |  [The import system](https://docs.python.org/3/reference/import.html)\n",
    "- [**Script vs Module explained**](https://stackoverflow.com/questions/14132789/relative-imports-for-the-billionth-time/14132912#14132912)\n",
    "\n",
    "\n",
    "### Packaging\n",
    "- [**Packaging Python Projects**](https://packaging.python.org/tutorials/packaging-projects/)\n",
    "- [PyPI](https://pypi.org/)\n",
    "\n",
    "\n",
    "### pytest\n",
    "- [pytest](https://docs.pytest.org/en/latest/)"
   ]
  },
  {
   "cell_type": "markdown",
   "metadata": {},
   "source": [
    "# Outline по неделе 7\n",
    "_Вам следует отработать описанные ниже пункты и убедиться, что Вы знаете каждый из них._\n",
    "## Основное\n",
    "1. Понимать, зачем нужен абстрактный класс и как его стоит использовать при планировании архитектуры.\n",
    "\n",
    "2. Суметь разбить программу на модули.\n",
    "Держать в голове, что лучше разбивать большие файлы на мелкие и собирать это все в модули.\n",
    "\n",
    "3. Суметь написать `setup.py` и собрать `.whl`-пакет со своей программой.\n",
    "\n",
    "4. Уметь пользоваться виртуальным окружением: создавать, заходить, устанавливать внутрь пакеты, запускать.\n",
    "\n",
    "5. Тесты: знать что такое unit test, module test, integration test и чем они все отличаются друг от друга.\n",
    "Знать, что есть `pytest` и уметь на нем писать простые тесты.\n",
    "\n",
    "## Бонус\n",
    "6. Фикстуры (_fixtures_) в `pytest`: знать, что такое, уметь пользоваться и уметь создавать свои.\n",
    "7. Coverage - уметь поставить, запустить и проверить покрытие тестами своего кода.\n",
    "8. Уметь заливать модуль вручную на pypi через twine.\n",
    "8. Travis CI - уметь настроить на тестирование проекта.\n",
    "9. Travis CI - уметь настроить на сборку .whl-пакета и последующую отправку на pypi.\n",
    "По сути, это будет полная автоматизация цикла \"тестирование -> сборка -> релиз\".\n"
   ]
  }
 ],
 "metadata": {
  "kernelspec": {
   "display_name": "Python 3",
   "language": "python",
   "name": "python3"
  },
  "language_info": {
   "codemirror_mode": {
    "name": "ipython",
    "version": 3
   },
   "file_extension": ".py",
   "mimetype": "text/x-python",
   "name": "python",
   "nbconvert_exporter": "python",
   "pygments_lexer": "ipython3",
   "version": "3.8.5"
  },
  "toc": {
   "base_numbering": 1,
   "nav_menu": {},
   "number_sections": false,
   "sideBar": true,
   "skip_h1_title": false,
   "title_cell": "Table of Contents",
   "title_sidebar": "Contents",
   "toc_cell": false,
   "toc_position": {},
   "toc_section_display": true,
   "toc_window_display": true
  },
  "varInspector": {
   "cols": {
    "lenName": 16,
    "lenType": 16,
    "lenVar": 40
   },
   "kernels_config": {
    "python": {
     "delete_cmd_postfix": "",
     "delete_cmd_prefix": "del ",
     "library": "var_list.py",
     "varRefreshCmd": "print(var_dic_list())"
    },
    "r": {
     "delete_cmd_postfix": ") ",
     "delete_cmd_prefix": "rm(",
     "library": "var_list.r",
     "varRefreshCmd": "cat(var_dic_list()) "
    }
   },
   "types_to_exclude": [
    "module",
    "function",
    "builtin_function_or_method",
    "instance",
    "_Feature"
   ],
   "window_display": false
  }
 },
 "nbformat": 4,
 "nbformat_minor": 4
}
